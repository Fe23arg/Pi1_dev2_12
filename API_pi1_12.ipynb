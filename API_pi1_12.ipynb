{
  "metadata": {
    "colab": {
      "provenance": []
    },
    "kernelspec": {
      "display_name": "Python 3",
      "name": "python3"
    },
    "language_info": {
      "name": "python"
    }
  },
  "nbformat_minor": 0,
  "nbformat": 4,
  "cells": [
    {
      "cell_type": "markdown",
      "source": [
        "\n",
        "\n",
        "#**Endpoints  De API**\n",
        "\n"
      ],
      "metadata": {
        "id": "ubL0ITPMHkTX"
      }
    },
    {
      "cell_type": "code",
      "source": [
        "!pip install fastapi"
      ],
      "metadata": {
        "colab": {
          "base_uri": "https://localhost:8080/"
        },
        "id": "2AGDdA_n-G3c",
        "outputId": "48008bd6-082e-4c79-a492-299e442f83d5"
      },
      "execution_count": 1,
      "outputs": [
        {
          "output_type": "stream",
          "name": "stdout",
          "text": [
            "Collecting fastapi\n",
            "  Downloading fastapi-0.100.0-py3-none-any.whl (65 kB)\n",
            "\u001b[?25l     \u001b[90m━━━━━━━━━━━━━━━━━━━━━━━━━━━━━━━━━━━━━━━━\u001b[0m \u001b[32m0.0/65.7 kB\u001b[0m \u001b[31m?\u001b[0m eta \u001b[36m-:--:--\u001b[0m\r\u001b[2K     \u001b[90m━━━━━━━━━━━━━━━━━━━━━━━━━━━━━━━━━━━━━━━━\u001b[0m \u001b[32m65.7/65.7 kB\u001b[0m \u001b[31m6.2 MB/s\u001b[0m eta \u001b[36m0:00:00\u001b[0m\n",
            "\u001b[?25hRequirement already satisfied: pydantic!=1.8,!=1.8.1,!=2.0.0,!=2.0.1,<3.0.0,>=1.7.4 in /usr/local/lib/python3.10/dist-packages (from fastapi) (1.10.9)\n",
            "Collecting starlette<0.28.0,>=0.27.0 (from fastapi)\n",
            "  Downloading starlette-0.27.0-py3-none-any.whl (66 kB)\n",
            "\u001b[?25l     \u001b[90m━━━━━━━━━━━━━━━━━━━━━━━━━━━━━━━━━━━━━━━━\u001b[0m \u001b[32m0.0/67.0 kB\u001b[0m \u001b[31m?\u001b[0m eta \u001b[36m-:--:--\u001b[0m\r\u001b[2K     \u001b[90m━━━━━━━━━━━━━━━━━━━━━━━━━━━━━━━━━━━━━━━━\u001b[0m \u001b[32m67.0/67.0 kB\u001b[0m \u001b[31m7.5 MB/s\u001b[0m eta \u001b[36m0:00:00\u001b[0m\n",
            "\u001b[?25hRequirement already satisfied: typing-extensions>=4.5.0 in /usr/local/lib/python3.10/dist-packages (from fastapi) (4.6.3)\n",
            "Requirement already satisfied: anyio<5,>=3.4.0 in /usr/local/lib/python3.10/dist-packages (from starlette<0.28.0,>=0.27.0->fastapi) (3.7.0)\n",
            "Requirement already satisfied: idna>=2.8 in /usr/local/lib/python3.10/dist-packages (from anyio<5,>=3.4.0->starlette<0.28.0,>=0.27.0->fastapi) (3.4)\n",
            "Requirement already satisfied: sniffio>=1.1 in /usr/local/lib/python3.10/dist-packages (from anyio<5,>=3.4.0->starlette<0.28.0,>=0.27.0->fastapi) (1.3.0)\n",
            "Requirement already satisfied: exceptiongroup in /usr/local/lib/python3.10/dist-packages (from anyio<5,>=3.4.0->starlette<0.28.0,>=0.27.0->fastapi) (1.1.1)\n",
            "Installing collected packages: starlette, fastapi\n",
            "Successfully installed fastapi-0.100.0 starlette-0.27.0\n"
          ]
        }
      ]
    },
    {
      "cell_type": "code",
      "source": [
        "!pip install uvicorn"
      ],
      "metadata": {
        "colab": {
          "base_uri": "https://localhost:8080/"
        },
        "id": "-rGB_NLy-WTr",
        "outputId": "6addf768-17a2-4460-ef6e-a6938b4d868f"
      },
      "execution_count": 2,
      "outputs": [
        {
          "output_type": "stream",
          "name": "stdout",
          "text": [
            "Collecting uvicorn\n",
            "  Downloading uvicorn-0.22.0-py3-none-any.whl (58 kB)\n",
            "\u001b[?25l     \u001b[90m━━━━━━━━━━━━━━━━━━━━━━━━━━━━━━━━━━━━━━━━\u001b[0m \u001b[32m0.0/58.3 kB\u001b[0m \u001b[31m?\u001b[0m eta \u001b[36m-:--:--\u001b[0m\r\u001b[2K     \u001b[90m━━━━━━━━━━━━━━━━━━━━━━━━━━━━━━━━━━━━━━━━\u001b[0m \u001b[32m58.3/58.3 kB\u001b[0m \u001b[31m5.7 MB/s\u001b[0m eta \u001b[36m0:00:00\u001b[0m\n",
            "\u001b[?25hRequirement already satisfied: click>=7.0 in /usr/local/lib/python3.10/dist-packages (from uvicorn) (8.1.3)\n",
            "Collecting h11>=0.8 (from uvicorn)\n",
            "  Downloading h11-0.14.0-py3-none-any.whl (58 kB)\n",
            "\u001b[?25l     \u001b[90m━━━━━━━━━━━━━━━━━━━━━━━━━━━━━━━━━━━━━━━━\u001b[0m \u001b[32m0.0/58.3 kB\u001b[0m \u001b[31m?\u001b[0m eta \u001b[36m-:--:--\u001b[0m\r\u001b[2K     \u001b[90m━━━━━━━━━━━━━━━━━━━━━━━━━━━━━━━━━━━━━━━━\u001b[0m \u001b[32m58.3/58.3 kB\u001b[0m \u001b[31m6.0 MB/s\u001b[0m eta \u001b[36m0:00:00\u001b[0m\n",
            "\u001b[?25hInstalling collected packages: h11, uvicorn\n",
            "Successfully installed h11-0.14.0 uvicorn-0.22.0\n"
          ]
        }
      ]
    },
    {
      "cell_type": "code",
      "source": [
        "!pip install SQLAlchemy==1.4.17"
      ],
      "metadata": {
        "colab": {
          "base_uri": "https://localhost:8080/"
        },
        "id": "rWAkEX9S-aHH",
        "outputId": "a619ca43-2a1b-471b-8bbd-0625297b1052"
      },
      "execution_count": 3,
      "outputs": [
        {
          "output_type": "stream",
          "name": "stdout",
          "text": [
            "Collecting SQLAlchemy==1.4.17\n",
            "  Downloading SQLAlchemy-1.4.17.tar.gz (7.6 MB)\n",
            "\u001b[2K     \u001b[90m━━━━━━━━━━━━━━━━━━━━━━━━━━━━━━━━━━━━━━━━\u001b[0m \u001b[32m7.6/7.6 MB\u001b[0m \u001b[31m62.2 MB/s\u001b[0m eta \u001b[36m0:00:00\u001b[0m\n",
            "\u001b[?25h  Preparing metadata (setup.py) ... \u001b[?25l\u001b[?25hdone\n",
            "Requirement already satisfied: greenlet!=0.4.17 in /usr/local/lib/python3.10/dist-packages (from SQLAlchemy==1.4.17) (2.0.2)\n",
            "Building wheels for collected packages: SQLAlchemy\n",
            "  Building wheel for SQLAlchemy (setup.py) ... \u001b[?25l\u001b[?25hdone\n",
            "  Created wheel for SQLAlchemy: filename=SQLAlchemy-1.4.17-cp310-cp310-linux_x86_64.whl size=1535520 sha256=2e52a63b172d1d80c5d0f1e82b5dbcd425f89e1f63b1817748b22abff3821382\n",
            "  Stored in directory: /root/.cache/pip/wheels/eb/d0/1e/ab0fcbac6f74a69b788a37fccd365fc67535b5ab79f97bd860\n",
            "Successfully built SQLAlchemy\n",
            "Installing collected packages: SQLAlchemy\n",
            "  Attempting uninstall: SQLAlchemy\n",
            "    Found existing installation: SQLAlchemy 2.0.16\n",
            "    Uninstalling SQLAlchemy-2.0.16:\n",
            "      Successfully uninstalled SQLAlchemy-2.0.16\n",
            "Successfully installed SQLAlchemy-1.4.17\n"
          ]
        }
      ]
    },
    {
      "cell_type": "markdown",
      "source": [
        "##EXTRACCION Y CARGA DE DATOS"
      ],
      "metadata": {
        "id": "ok0YC51w7-ui"
      }
    },
    {
      "cell_type": "code",
      "source": [
        "import pandas as pd\n",
        "import numpy as np\n",
        "\n",
        "import os\n",
        "\n",
        "from datetime import datetime\n",
        "from fastapi import FastAPI, HTTPException\n",
        "from datetime import datetime"
      ],
      "metadata": {
        "id": "ncYgs0r2-ekk"
      },
      "execution_count": 4,
      "outputs": []
    },
    {
      "cell_type": "code",
      "source": [
        "from google.colab import drive\n",
        "drive.mount('/content/drive')"
      ],
      "metadata": {
        "colab": {
          "base_uri": "https://localhost:8080/"
        },
        "id": "HhXoi3NPyBvw",
        "outputId": "ceeade16-5a2d-4490-8095-befd6888a68d"
      },
      "execution_count": 5,
      "outputs": [
        {
          "output_type": "stream",
          "name": "stdout",
          "text": [
            "Mounted at /content/drive\n"
          ]
        }
      ]
    },
    {
      "cell_type": "code",
      "source": [
        "df = pd.read_csv(\"/content/drive/MyDrive/Colab Notebooks/csv_12/ETL_pi_movies.csv\")\n",
        "\n",
        "df.head(3)"
      ],
      "metadata": {
        "colab": {
          "base_uri": "https://localhost:8080/",
          "height": 520
        },
        "id": "bHQ-SYFQ-h7F",
        "outputId": "a388a97f-c32b-4267-9543-fd82eef61310"
      },
      "execution_count": 6,
      "outputs": [
        {
          "output_type": "stream",
          "name": "stderr",
          "text": [
            "<ipython-input-6-663aa58da5c8>:1: DtypeWarning: Columns (6) have mixed types. Specify dtype option on import or set low_memory=False.\n",
            "  df = pd.read_csv(\"/content/drive/MyDrive/Colab Notebooks/csv_12/ETL_pi_movies.csv\")\n"
          ]
        },
        {
          "output_type": "execute_result",
          "data": {
            "text/plain": [
              "                               belongs_to_collection      budget  \\\n",
              "0  {'id': 10194, 'name': 'Toy Story Collection', ...  30000000.0   \n",
              "1                                                NaN  65000000.0   \n",
              "2  {'id': 119050, 'name': 'Grumpy Old Men Collect...         0.0   \n",
              "\n",
              "                                              genres     id original_language  \\\n",
              "0  [{'id': 16, 'name': 'Animation'}, {'id': 35, '...    862                en   \n",
              "1  [{'id': 12, 'name': 'Adventure'}, {'id': 14, '...   8844                en   \n",
              "2  [{'id': 10749, 'name': 'Romance'}, {'id': 35, ...  15602                en   \n",
              "\n",
              "                                            overview popularity  \\\n",
              "0  Led by Woody, Andy's toys live happily in his ...  21.946943   \n",
              "1  When siblings Judy and Peter discover an encha...  17.015539   \n",
              "2  A family wedding reignites the ancient feud be...    11.7129   \n",
              "\n",
              "                                production_companies  \\\n",
              "0     [{'name': 'Pixar Animation Studios', 'id': 3}]   \n",
              "1  [{'name': 'TriStar Pictures', 'id': 559}, {'na...   \n",
              "2  [{'name': 'Warner Bros.', 'id': 6194}, {'name'...   \n",
              "\n",
              "                                production_countries release_date  \\\n",
              "0  [{'iso_3166_1': 'US', 'name': 'United States o...   1995-10-30   \n",
              "1  [{'iso_3166_1': 'US', 'name': 'United States o...   1995-12-15   \n",
              "2  [{'iso_3166_1': 'US', 'name': 'United States o...   1995-12-22   \n",
              "\n",
              "       revenue  runtime                                   spoken_languages  \\\n",
              "0  373554033.0     81.0           [{'iso_639_1': 'en', 'name': 'English'}]   \n",
              "1  262797249.0    104.0  [{'iso_639_1': 'en', 'name': 'English'}, {'iso...   \n",
              "2          0.0    101.0           [{'iso_639_1': 'en', 'name': 'English'}]   \n",
              "\n",
              "     status                                            tagline  \\\n",
              "0  Released                                                NaN   \n",
              "1  Released          Roll the dice and unleash the excitement!   \n",
              "2  Released  Still Yelling. Still Fighting. Still Ready for...   \n",
              "\n",
              "              title  vote_average  vote_count  release_year  return  \n",
              "0         Toy Story           7.7      5415.0          1995       0  \n",
              "1           Jumanji           6.9      2413.0          1995       0  \n",
              "2  Grumpier Old Men           6.5        92.0          1995       0  "
            ],
            "text/html": [
              "\n",
              "\n",
              "  <div id=\"df-da9dc3df-1505-4807-b564-46de037dbf38\">\n",
              "    <div class=\"colab-df-container\">\n",
              "      <div>\n",
              "<style scoped>\n",
              "    .dataframe tbody tr th:only-of-type {\n",
              "        vertical-align: middle;\n",
              "    }\n",
              "\n",
              "    .dataframe tbody tr th {\n",
              "        vertical-align: top;\n",
              "    }\n",
              "\n",
              "    .dataframe thead th {\n",
              "        text-align: right;\n",
              "    }\n",
              "</style>\n",
              "<table border=\"1\" class=\"dataframe\">\n",
              "  <thead>\n",
              "    <tr style=\"text-align: right;\">\n",
              "      <th></th>\n",
              "      <th>belongs_to_collection</th>\n",
              "      <th>budget</th>\n",
              "      <th>genres</th>\n",
              "      <th>id</th>\n",
              "      <th>original_language</th>\n",
              "      <th>overview</th>\n",
              "      <th>popularity</th>\n",
              "      <th>production_companies</th>\n",
              "      <th>production_countries</th>\n",
              "      <th>release_date</th>\n",
              "      <th>revenue</th>\n",
              "      <th>runtime</th>\n",
              "      <th>spoken_languages</th>\n",
              "      <th>status</th>\n",
              "      <th>tagline</th>\n",
              "      <th>title</th>\n",
              "      <th>vote_average</th>\n",
              "      <th>vote_count</th>\n",
              "      <th>release_year</th>\n",
              "      <th>return</th>\n",
              "    </tr>\n",
              "  </thead>\n",
              "  <tbody>\n",
              "    <tr>\n",
              "      <th>0</th>\n",
              "      <td>{'id': 10194, 'name': 'Toy Story Collection', ...</td>\n",
              "      <td>30000000.0</td>\n",
              "      <td>[{'id': 16, 'name': 'Animation'}, {'id': 35, '...</td>\n",
              "      <td>862</td>\n",
              "      <td>en</td>\n",
              "      <td>Led by Woody, Andy's toys live happily in his ...</td>\n",
              "      <td>21.946943</td>\n",
              "      <td>[{'name': 'Pixar Animation Studios', 'id': 3}]</td>\n",
              "      <td>[{'iso_3166_1': 'US', 'name': 'United States o...</td>\n",
              "      <td>1995-10-30</td>\n",
              "      <td>373554033.0</td>\n",
              "      <td>81.0</td>\n",
              "      <td>[{'iso_639_1': 'en', 'name': 'English'}]</td>\n",
              "      <td>Released</td>\n",
              "      <td>NaN</td>\n",
              "      <td>Toy Story</td>\n",
              "      <td>7.7</td>\n",
              "      <td>5415.0</td>\n",
              "      <td>1995</td>\n",
              "      <td>0</td>\n",
              "    </tr>\n",
              "    <tr>\n",
              "      <th>1</th>\n",
              "      <td>NaN</td>\n",
              "      <td>65000000.0</td>\n",
              "      <td>[{'id': 12, 'name': 'Adventure'}, {'id': 14, '...</td>\n",
              "      <td>8844</td>\n",
              "      <td>en</td>\n",
              "      <td>When siblings Judy and Peter discover an encha...</td>\n",
              "      <td>17.015539</td>\n",
              "      <td>[{'name': 'TriStar Pictures', 'id': 559}, {'na...</td>\n",
              "      <td>[{'iso_3166_1': 'US', 'name': 'United States o...</td>\n",
              "      <td>1995-12-15</td>\n",
              "      <td>262797249.0</td>\n",
              "      <td>104.0</td>\n",
              "      <td>[{'iso_639_1': 'en', 'name': 'English'}, {'iso...</td>\n",
              "      <td>Released</td>\n",
              "      <td>Roll the dice and unleash the excitement!</td>\n",
              "      <td>Jumanji</td>\n",
              "      <td>6.9</td>\n",
              "      <td>2413.0</td>\n",
              "      <td>1995</td>\n",
              "      <td>0</td>\n",
              "    </tr>\n",
              "    <tr>\n",
              "      <th>2</th>\n",
              "      <td>{'id': 119050, 'name': 'Grumpy Old Men Collect...</td>\n",
              "      <td>0.0</td>\n",
              "      <td>[{'id': 10749, 'name': 'Romance'}, {'id': 35, ...</td>\n",
              "      <td>15602</td>\n",
              "      <td>en</td>\n",
              "      <td>A family wedding reignites the ancient feud be...</td>\n",
              "      <td>11.7129</td>\n",
              "      <td>[{'name': 'Warner Bros.', 'id': 6194}, {'name'...</td>\n",
              "      <td>[{'iso_3166_1': 'US', 'name': 'United States o...</td>\n",
              "      <td>1995-12-22</td>\n",
              "      <td>0.0</td>\n",
              "      <td>101.0</td>\n",
              "      <td>[{'iso_639_1': 'en', 'name': 'English'}]</td>\n",
              "      <td>Released</td>\n",
              "      <td>Still Yelling. Still Fighting. Still Ready for...</td>\n",
              "      <td>Grumpier Old Men</td>\n",
              "      <td>6.5</td>\n",
              "      <td>92.0</td>\n",
              "      <td>1995</td>\n",
              "      <td>0</td>\n",
              "    </tr>\n",
              "  </tbody>\n",
              "</table>\n",
              "</div>\n",
              "      <button class=\"colab-df-convert\" onclick=\"convertToInteractive('df-da9dc3df-1505-4807-b564-46de037dbf38')\"\n",
              "              title=\"Convert this dataframe to an interactive table.\"\n",
              "              style=\"display:none;\">\n",
              "\n",
              "  <svg xmlns=\"http://www.w3.org/2000/svg\" height=\"24px\"viewBox=\"0 0 24 24\"\n",
              "       width=\"24px\">\n",
              "    <path d=\"M0 0h24v24H0V0z\" fill=\"none\"/>\n",
              "    <path d=\"M18.56 5.44l.94 2.06.94-2.06 2.06-.94-2.06-.94-.94-2.06-.94 2.06-2.06.94zm-11 1L8.5 8.5l.94-2.06 2.06-.94-2.06-.94L8.5 2.5l-.94 2.06-2.06.94zm10 10l.94 2.06.94-2.06 2.06-.94-2.06-.94-.94-2.06-.94 2.06-2.06.94z\"/><path d=\"M17.41 7.96l-1.37-1.37c-.4-.4-.92-.59-1.43-.59-.52 0-1.04.2-1.43.59L10.3 9.45l-7.72 7.72c-.78.78-.78 2.05 0 2.83L4 21.41c.39.39.9.59 1.41.59.51 0 1.02-.2 1.41-.59l7.78-7.78 2.81-2.81c.8-.78.8-2.07 0-2.86zM5.41 20L4 18.59l7.72-7.72 1.47 1.35L5.41 20z\"/>\n",
              "  </svg>\n",
              "      </button>\n",
              "\n",
              "\n",
              "\n",
              "    <div id=\"df-0414619e-3acb-4219-8d03-d2f0bbeb2b60\">\n",
              "      <button class=\"colab-df-quickchart\" onclick=\"quickchart('df-0414619e-3acb-4219-8d03-d2f0bbeb2b60')\"\n",
              "              title=\"Suggest charts.\"\n",
              "              style=\"display:none;\">\n",
              "\n",
              "<svg xmlns=\"http://www.w3.org/2000/svg\" height=\"24px\"viewBox=\"0 0 24 24\"\n",
              "     width=\"24px\">\n",
              "    <g>\n",
              "        <path d=\"M19 3H5c-1.1 0-2 .9-2 2v14c0 1.1.9 2 2 2h14c1.1 0 2-.9 2-2V5c0-1.1-.9-2-2-2zM9 17H7v-7h2v7zm4 0h-2V7h2v10zm4 0h-2v-4h2v4z\"/>\n",
              "    </g>\n",
              "</svg>\n",
              "      </button>\n",
              "    </div>\n",
              "\n",
              "<style>\n",
              "  .colab-df-quickchart {\n",
              "    background-color: #E8F0FE;\n",
              "    border: none;\n",
              "    border-radius: 50%;\n",
              "    cursor: pointer;\n",
              "    display: none;\n",
              "    fill: #1967D2;\n",
              "    height: 32px;\n",
              "    padding: 0 0 0 0;\n",
              "    width: 32px;\n",
              "  }\n",
              "\n",
              "  .colab-df-quickchart:hover {\n",
              "    background-color: #E2EBFA;\n",
              "    box-shadow: 0px 1px 2px rgba(60, 64, 67, 0.3), 0px 1px 3px 1px rgba(60, 64, 67, 0.15);\n",
              "    fill: #174EA6;\n",
              "  }\n",
              "\n",
              "  [theme=dark] .colab-df-quickchart {\n",
              "    background-color: #3B4455;\n",
              "    fill: #D2E3FC;\n",
              "  }\n",
              "\n",
              "  [theme=dark] .colab-df-quickchart:hover {\n",
              "    background-color: #434B5C;\n",
              "    box-shadow: 0px 1px 3px 1px rgba(0, 0, 0, 0.15);\n",
              "    filter: drop-shadow(0px 1px 2px rgba(0, 0, 0, 0.3));\n",
              "    fill: #FFFFFF;\n",
              "  }\n",
              "</style>\n",
              "\n",
              "    <script>\n",
              "      async function quickchart(key) {\n",
              "        const containerElement = document.querySelector('#' + key);\n",
              "        const charts = await google.colab.kernel.invokeFunction(\n",
              "            'suggestCharts', [key], {});\n",
              "      }\n",
              "    </script>\n",
              "\n",
              "      <script>\n",
              "\n",
              "function displayQuickchartButton(domScope) {\n",
              "  let quickchartButtonEl =\n",
              "    domScope.querySelector('#df-0414619e-3acb-4219-8d03-d2f0bbeb2b60 button.colab-df-quickchart');\n",
              "  quickchartButtonEl.style.display =\n",
              "    google.colab.kernel.accessAllowed ? 'block' : 'none';\n",
              "}\n",
              "\n",
              "        displayQuickchartButton(document);\n",
              "      </script>\n",
              "      <style>\n",
              "    .colab-df-container {\n",
              "      display:flex;\n",
              "      flex-wrap:wrap;\n",
              "      gap: 12px;\n",
              "    }\n",
              "\n",
              "    .colab-df-convert {\n",
              "      background-color: #E8F0FE;\n",
              "      border: none;\n",
              "      border-radius: 50%;\n",
              "      cursor: pointer;\n",
              "      display: none;\n",
              "      fill: #1967D2;\n",
              "      height: 32px;\n",
              "      padding: 0 0 0 0;\n",
              "      width: 32px;\n",
              "    }\n",
              "\n",
              "    .colab-df-convert:hover {\n",
              "      background-color: #E2EBFA;\n",
              "      box-shadow: 0px 1px 2px rgba(60, 64, 67, 0.3), 0px 1px 3px 1px rgba(60, 64, 67, 0.15);\n",
              "      fill: #174EA6;\n",
              "    }\n",
              "\n",
              "    [theme=dark] .colab-df-convert {\n",
              "      background-color: #3B4455;\n",
              "      fill: #D2E3FC;\n",
              "    }\n",
              "\n",
              "    [theme=dark] .colab-df-convert:hover {\n",
              "      background-color: #434B5C;\n",
              "      box-shadow: 0px 1px 3px 1px rgba(0, 0, 0, 0.15);\n",
              "      filter: drop-shadow(0px 1px 2px rgba(0, 0, 0, 0.3));\n",
              "      fill: #FFFFFF;\n",
              "    }\n",
              "  </style>\n",
              "\n",
              "      <script>\n",
              "        const buttonEl =\n",
              "          document.querySelector('#df-da9dc3df-1505-4807-b564-46de037dbf38 button.colab-df-convert');\n",
              "        buttonEl.style.display =\n",
              "          google.colab.kernel.accessAllowed ? 'block' : 'none';\n",
              "\n",
              "        async function convertToInteractive(key) {\n",
              "          const element = document.querySelector('#df-da9dc3df-1505-4807-b564-46de037dbf38');\n",
              "          const dataTable =\n",
              "            await google.colab.kernel.invokeFunction('convertToInteractive',\n",
              "                                                     [key], {});\n",
              "          if (!dataTable) return;\n",
              "\n",
              "          const docLinkHtml = 'Like what you see? Visit the ' +\n",
              "            '<a target=\"_blank\" href=https://colab.research.google.com/notebooks/data_table.ipynb>data table notebook</a>'\n",
              "            + ' to learn more about interactive tables.';\n",
              "          element.innerHTML = '';\n",
              "          dataTable['output_type'] = 'display_data';\n",
              "          await google.colab.output.renderOutput(dataTable, element);\n",
              "          const docLink = document.createElement('div');\n",
              "          docLink.innerHTML = docLinkHtml;\n",
              "          element.appendChild(docLink);\n",
              "        }\n",
              "      </script>\n",
              "    </div>\n",
              "  </div>\n"
            ]
          },
          "metadata": {},
          "execution_count": 6
        }
      ]
    },
    {
      "cell_type": "code",
      "source": [
        "df.info()"
      ],
      "metadata": {
        "colab": {
          "base_uri": "https://localhost:8080/"
        },
        "id": "oCFit0FNf_VE",
        "outputId": "bba13f95-432e-49c8-ddad-69f5e8fd9703"
      },
      "execution_count": 7,
      "outputs": [
        {
          "output_type": "stream",
          "name": "stdout",
          "text": [
            "<class 'pandas.core.frame.DataFrame'>\n",
            "RangeIndex: 45379 entries, 0 to 45378\n",
            "Data columns (total 20 columns):\n",
            " #   Column                 Non-Null Count  Dtype  \n",
            "---  ------                 --------------  -----  \n",
            " 0   belongs_to_collection  4491 non-null   object \n",
            " 1   budget                 45379 non-null  float64\n",
            " 2   genres                 45379 non-null  object \n",
            " 3   id                     45379 non-null  object \n",
            " 4   original_language      45368 non-null  object \n",
            " 5   overview               44438 non-null  object \n",
            " 6   popularity             45377 non-null  object \n",
            " 7   production_companies   45379 non-null  object \n",
            " 8   production_countries   45379 non-null  object \n",
            " 9   release_date           45379 non-null  object \n",
            " 10  revenue                45379 non-null  float64\n",
            " 11  runtime                45130 non-null  float64\n",
            " 12  spoken_languages       45376 non-null  object \n",
            " 13  status                 45296 non-null  object \n",
            " 14  tagline                20398 non-null  object \n",
            " 15  title                  45376 non-null  object \n",
            " 16  vote_average           45376 non-null  float64\n",
            " 17  vote_count             45376 non-null  float64\n",
            " 18  release_year           45379 non-null  int64  \n",
            " 19  return                 45379 non-null  int64  \n",
            "dtypes: float64(5), int64(2), object(13)\n",
            "memory usage: 6.9+ MB\n"
          ]
        }
      ]
    },
    {
      "cell_type": "code",
      "source": [
        "df[\"release_date\"] =  pd.to_datetime(df[\"release_date\"], format=\"%Y-%m-%d\")"
      ],
      "metadata": {
        "id": "_s6hrB5SgWDF"
      },
      "execution_count": 8,
      "outputs": []
    },
    {
      "cell_type": "code",
      "source": [
        "df2=df.copy()\n"
      ],
      "metadata": {
        "id": "Z1SKOFeNtleT"
      },
      "execution_count": 9,
      "outputs": []
    },
    {
      "cell_type": "code",
      "source": [
        "#a eliminar\n",
        "df2.drop(['genres','overview','popularity','spoken_languages','status','tagline'], axis = 'columns', inplace=True)"
      ],
      "metadata": {
        "id": "al_H_fcwvJcb"
      },
      "execution_count": 10,
      "outputs": []
    },
    {
      "cell_type": "code",
      "source": [
        "df2.head(4)"
      ],
      "metadata": {
        "colab": {
          "base_uri": "https://localhost:8080/",
          "height": 378
        },
        "id": "1Psvkj71v6NV",
        "outputId": "62acbbb2-1711-44e0-f7a7-1708b1592029"
      },
      "execution_count": 11,
      "outputs": [
        {
          "output_type": "execute_result",
          "data": {
            "text/plain": [
              "                               belongs_to_collection      budget     id  \\\n",
              "0  {'id': 10194, 'name': 'Toy Story Collection', ...  30000000.0    862   \n",
              "1                                                NaN  65000000.0   8844   \n",
              "2  {'id': 119050, 'name': 'Grumpy Old Men Collect...         0.0  15602   \n",
              "3                                                NaN  16000000.0  31357   \n",
              "\n",
              "  original_language                               production_companies  \\\n",
              "0                en     [{'name': 'Pixar Animation Studios', 'id': 3}]   \n",
              "1                en  [{'name': 'TriStar Pictures', 'id': 559}, {'na...   \n",
              "2                en  [{'name': 'Warner Bros.', 'id': 6194}, {'name'...   \n",
              "3                en  [{'name': 'Twentieth Century Fox Film Corporat...   \n",
              "\n",
              "                                production_countries release_date  \\\n",
              "0  [{'iso_3166_1': 'US', 'name': 'United States o...   1995-10-30   \n",
              "1  [{'iso_3166_1': 'US', 'name': 'United States o...   1995-12-15   \n",
              "2  [{'iso_3166_1': 'US', 'name': 'United States o...   1995-12-22   \n",
              "3  [{'iso_3166_1': 'US', 'name': 'United States o...   1995-12-22   \n",
              "\n",
              "       revenue  runtime              title  vote_average  vote_count  \\\n",
              "0  373554033.0     81.0          Toy Story           7.7      5415.0   \n",
              "1  262797249.0    104.0            Jumanji           6.9      2413.0   \n",
              "2          0.0    101.0   Grumpier Old Men           6.5        92.0   \n",
              "3   81452156.0    127.0  Waiting to Exhale           6.1        34.0   \n",
              "\n",
              "   release_year  return  \n",
              "0          1995       0  \n",
              "1          1995       0  \n",
              "2          1995       0  \n",
              "3          1995       0  "
            ],
            "text/html": [
              "\n",
              "\n",
              "  <div id=\"df-594d6b90-3c78-4ad7-964d-683ae02afd8f\">\n",
              "    <div class=\"colab-df-container\">\n",
              "      <div>\n",
              "<style scoped>\n",
              "    .dataframe tbody tr th:only-of-type {\n",
              "        vertical-align: middle;\n",
              "    }\n",
              "\n",
              "    .dataframe tbody tr th {\n",
              "        vertical-align: top;\n",
              "    }\n",
              "\n",
              "    .dataframe thead th {\n",
              "        text-align: right;\n",
              "    }\n",
              "</style>\n",
              "<table border=\"1\" class=\"dataframe\">\n",
              "  <thead>\n",
              "    <tr style=\"text-align: right;\">\n",
              "      <th></th>\n",
              "      <th>belongs_to_collection</th>\n",
              "      <th>budget</th>\n",
              "      <th>id</th>\n",
              "      <th>original_language</th>\n",
              "      <th>production_companies</th>\n",
              "      <th>production_countries</th>\n",
              "      <th>release_date</th>\n",
              "      <th>revenue</th>\n",
              "      <th>runtime</th>\n",
              "      <th>title</th>\n",
              "      <th>vote_average</th>\n",
              "      <th>vote_count</th>\n",
              "      <th>release_year</th>\n",
              "      <th>return</th>\n",
              "    </tr>\n",
              "  </thead>\n",
              "  <tbody>\n",
              "    <tr>\n",
              "      <th>0</th>\n",
              "      <td>{'id': 10194, 'name': 'Toy Story Collection', ...</td>\n",
              "      <td>30000000.0</td>\n",
              "      <td>862</td>\n",
              "      <td>en</td>\n",
              "      <td>[{'name': 'Pixar Animation Studios', 'id': 3}]</td>\n",
              "      <td>[{'iso_3166_1': 'US', 'name': 'United States o...</td>\n",
              "      <td>1995-10-30</td>\n",
              "      <td>373554033.0</td>\n",
              "      <td>81.0</td>\n",
              "      <td>Toy Story</td>\n",
              "      <td>7.7</td>\n",
              "      <td>5415.0</td>\n",
              "      <td>1995</td>\n",
              "      <td>0</td>\n",
              "    </tr>\n",
              "    <tr>\n",
              "      <th>1</th>\n",
              "      <td>NaN</td>\n",
              "      <td>65000000.0</td>\n",
              "      <td>8844</td>\n",
              "      <td>en</td>\n",
              "      <td>[{'name': 'TriStar Pictures', 'id': 559}, {'na...</td>\n",
              "      <td>[{'iso_3166_1': 'US', 'name': 'United States o...</td>\n",
              "      <td>1995-12-15</td>\n",
              "      <td>262797249.0</td>\n",
              "      <td>104.0</td>\n",
              "      <td>Jumanji</td>\n",
              "      <td>6.9</td>\n",
              "      <td>2413.0</td>\n",
              "      <td>1995</td>\n",
              "      <td>0</td>\n",
              "    </tr>\n",
              "    <tr>\n",
              "      <th>2</th>\n",
              "      <td>{'id': 119050, 'name': 'Grumpy Old Men Collect...</td>\n",
              "      <td>0.0</td>\n",
              "      <td>15602</td>\n",
              "      <td>en</td>\n",
              "      <td>[{'name': 'Warner Bros.', 'id': 6194}, {'name'...</td>\n",
              "      <td>[{'iso_3166_1': 'US', 'name': 'United States o...</td>\n",
              "      <td>1995-12-22</td>\n",
              "      <td>0.0</td>\n",
              "      <td>101.0</td>\n",
              "      <td>Grumpier Old Men</td>\n",
              "      <td>6.5</td>\n",
              "      <td>92.0</td>\n",
              "      <td>1995</td>\n",
              "      <td>0</td>\n",
              "    </tr>\n",
              "    <tr>\n",
              "      <th>3</th>\n",
              "      <td>NaN</td>\n",
              "      <td>16000000.0</td>\n",
              "      <td>31357</td>\n",
              "      <td>en</td>\n",
              "      <td>[{'name': 'Twentieth Century Fox Film Corporat...</td>\n",
              "      <td>[{'iso_3166_1': 'US', 'name': 'United States o...</td>\n",
              "      <td>1995-12-22</td>\n",
              "      <td>81452156.0</td>\n",
              "      <td>127.0</td>\n",
              "      <td>Waiting to Exhale</td>\n",
              "      <td>6.1</td>\n",
              "      <td>34.0</td>\n",
              "      <td>1995</td>\n",
              "      <td>0</td>\n",
              "    </tr>\n",
              "  </tbody>\n",
              "</table>\n",
              "</div>\n",
              "      <button class=\"colab-df-convert\" onclick=\"convertToInteractive('df-594d6b90-3c78-4ad7-964d-683ae02afd8f')\"\n",
              "              title=\"Convert this dataframe to an interactive table.\"\n",
              "              style=\"display:none;\">\n",
              "\n",
              "  <svg xmlns=\"http://www.w3.org/2000/svg\" height=\"24px\"viewBox=\"0 0 24 24\"\n",
              "       width=\"24px\">\n",
              "    <path d=\"M0 0h24v24H0V0z\" fill=\"none\"/>\n",
              "    <path d=\"M18.56 5.44l.94 2.06.94-2.06 2.06-.94-2.06-.94-.94-2.06-.94 2.06-2.06.94zm-11 1L8.5 8.5l.94-2.06 2.06-.94-2.06-.94L8.5 2.5l-.94 2.06-2.06.94zm10 10l.94 2.06.94-2.06 2.06-.94-2.06-.94-.94-2.06-.94 2.06-2.06.94z\"/><path d=\"M17.41 7.96l-1.37-1.37c-.4-.4-.92-.59-1.43-.59-.52 0-1.04.2-1.43.59L10.3 9.45l-7.72 7.72c-.78.78-.78 2.05 0 2.83L4 21.41c.39.39.9.59 1.41.59.51 0 1.02-.2 1.41-.59l7.78-7.78 2.81-2.81c.8-.78.8-2.07 0-2.86zM5.41 20L4 18.59l7.72-7.72 1.47 1.35L5.41 20z\"/>\n",
              "  </svg>\n",
              "      </button>\n",
              "\n",
              "\n",
              "\n",
              "    <div id=\"df-06c04ae0-60ee-41f2-991d-7bde260e91e0\">\n",
              "      <button class=\"colab-df-quickchart\" onclick=\"quickchart('df-06c04ae0-60ee-41f2-991d-7bde260e91e0')\"\n",
              "              title=\"Suggest charts.\"\n",
              "              style=\"display:none;\">\n",
              "\n",
              "<svg xmlns=\"http://www.w3.org/2000/svg\" height=\"24px\"viewBox=\"0 0 24 24\"\n",
              "     width=\"24px\">\n",
              "    <g>\n",
              "        <path d=\"M19 3H5c-1.1 0-2 .9-2 2v14c0 1.1.9 2 2 2h14c1.1 0 2-.9 2-2V5c0-1.1-.9-2-2-2zM9 17H7v-7h2v7zm4 0h-2V7h2v10zm4 0h-2v-4h2v4z\"/>\n",
              "    </g>\n",
              "</svg>\n",
              "      </button>\n",
              "    </div>\n",
              "\n",
              "<style>\n",
              "  .colab-df-quickchart {\n",
              "    background-color: #E8F0FE;\n",
              "    border: none;\n",
              "    border-radius: 50%;\n",
              "    cursor: pointer;\n",
              "    display: none;\n",
              "    fill: #1967D2;\n",
              "    height: 32px;\n",
              "    padding: 0 0 0 0;\n",
              "    width: 32px;\n",
              "  }\n",
              "\n",
              "  .colab-df-quickchart:hover {\n",
              "    background-color: #E2EBFA;\n",
              "    box-shadow: 0px 1px 2px rgba(60, 64, 67, 0.3), 0px 1px 3px 1px rgba(60, 64, 67, 0.15);\n",
              "    fill: #174EA6;\n",
              "  }\n",
              "\n",
              "  [theme=dark] .colab-df-quickchart {\n",
              "    background-color: #3B4455;\n",
              "    fill: #D2E3FC;\n",
              "  }\n",
              "\n",
              "  [theme=dark] .colab-df-quickchart:hover {\n",
              "    background-color: #434B5C;\n",
              "    box-shadow: 0px 1px 3px 1px rgba(0, 0, 0, 0.15);\n",
              "    filter: drop-shadow(0px 1px 2px rgba(0, 0, 0, 0.3));\n",
              "    fill: #FFFFFF;\n",
              "  }\n",
              "</style>\n",
              "\n",
              "    <script>\n",
              "      async function quickchart(key) {\n",
              "        const containerElement = document.querySelector('#' + key);\n",
              "        const charts = await google.colab.kernel.invokeFunction(\n",
              "            'suggestCharts', [key], {});\n",
              "      }\n",
              "    </script>\n",
              "\n",
              "      <script>\n",
              "\n",
              "function displayQuickchartButton(domScope) {\n",
              "  let quickchartButtonEl =\n",
              "    domScope.querySelector('#df-06c04ae0-60ee-41f2-991d-7bde260e91e0 button.colab-df-quickchart');\n",
              "  quickchartButtonEl.style.display =\n",
              "    google.colab.kernel.accessAllowed ? 'block' : 'none';\n",
              "}\n",
              "\n",
              "        displayQuickchartButton(document);\n",
              "      </script>\n",
              "      <style>\n",
              "    .colab-df-container {\n",
              "      display:flex;\n",
              "      flex-wrap:wrap;\n",
              "      gap: 12px;\n",
              "    }\n",
              "\n",
              "    .colab-df-convert {\n",
              "      background-color: #E8F0FE;\n",
              "      border: none;\n",
              "      border-radius: 50%;\n",
              "      cursor: pointer;\n",
              "      display: none;\n",
              "      fill: #1967D2;\n",
              "      height: 32px;\n",
              "      padding: 0 0 0 0;\n",
              "      width: 32px;\n",
              "    }\n",
              "\n",
              "    .colab-df-convert:hover {\n",
              "      background-color: #E2EBFA;\n",
              "      box-shadow: 0px 1px 2px rgba(60, 64, 67, 0.3), 0px 1px 3px 1px rgba(60, 64, 67, 0.15);\n",
              "      fill: #174EA6;\n",
              "    }\n",
              "\n",
              "    [theme=dark] .colab-df-convert {\n",
              "      background-color: #3B4455;\n",
              "      fill: #D2E3FC;\n",
              "    }\n",
              "\n",
              "    [theme=dark] .colab-df-convert:hover {\n",
              "      background-color: #434B5C;\n",
              "      box-shadow: 0px 1px 3px 1px rgba(0, 0, 0, 0.15);\n",
              "      filter: drop-shadow(0px 1px 2px rgba(0, 0, 0, 0.3));\n",
              "      fill: #FFFFFF;\n",
              "    }\n",
              "  </style>\n",
              "\n",
              "      <script>\n",
              "        const buttonEl =\n",
              "          document.querySelector('#df-594d6b90-3c78-4ad7-964d-683ae02afd8f button.colab-df-convert');\n",
              "        buttonEl.style.display =\n",
              "          google.colab.kernel.accessAllowed ? 'block' : 'none';\n",
              "\n",
              "        async function convertToInteractive(key) {\n",
              "          const element = document.querySelector('#df-594d6b90-3c78-4ad7-964d-683ae02afd8f');\n",
              "          const dataTable =\n",
              "            await google.colab.kernel.invokeFunction('convertToInteractive',\n",
              "                                                     [key], {});\n",
              "          if (!dataTable) return;\n",
              "\n",
              "          const docLinkHtml = 'Like what you see? Visit the ' +\n",
              "            '<a target=\"_blank\" href=https://colab.research.google.com/notebooks/data_table.ipynb>data table notebook</a>'\n",
              "            + ' to learn more about interactive tables.';\n",
              "          element.innerHTML = '';\n",
              "          dataTable['output_type'] = 'display_data';\n",
              "          await google.colab.output.renderOutput(dataTable, element);\n",
              "          const docLink = document.createElement('div');\n",
              "          docLink.innerHTML = docLinkHtml;\n",
              "          element.appendChild(docLink);\n",
              "        }\n",
              "      </script>\n",
              "    </div>\n",
              "  </div>\n"
            ]
          },
          "metadata": {},
          "execution_count": 11
        }
      ]
    },
    {
      "cell_type": "code",
      "source": [
        "df2.info()"
      ],
      "metadata": {
        "colab": {
          "base_uri": "https://localhost:8080/"
        },
        "id": "p7QMTXIdv_W4",
        "outputId": "dfb823d9-e384-4f85-d552-7197f33db82e"
      },
      "execution_count": 12,
      "outputs": [
        {
          "output_type": "stream",
          "name": "stdout",
          "text": [
            "<class 'pandas.core.frame.DataFrame'>\n",
            "RangeIndex: 45379 entries, 0 to 45378\n",
            "Data columns (total 14 columns):\n",
            " #   Column                 Non-Null Count  Dtype         \n",
            "---  ------                 --------------  -----         \n",
            " 0   belongs_to_collection  4491 non-null   object        \n",
            " 1   budget                 45379 non-null  float64       \n",
            " 2   id                     45379 non-null  object        \n",
            " 3   original_language      45368 non-null  object        \n",
            " 4   production_companies   45379 non-null  object        \n",
            " 5   production_countries   45379 non-null  object        \n",
            " 6   release_date           45379 non-null  datetime64[ns]\n",
            " 7   revenue                45379 non-null  float64       \n",
            " 8   runtime                45130 non-null  float64       \n",
            " 9   title                  45376 non-null  object        \n",
            " 10  vote_average           45376 non-null  float64       \n",
            " 11  vote_count             45376 non-null  float64       \n",
            " 12  release_year           45379 non-null  int64         \n",
            " 13  return                 45379 non-null  int64         \n",
            "dtypes: datetime64[ns](1), float64(5), int64(2), object(6)\n",
            "memory usage: 4.8+ MB\n"
          ]
        }
      ]
    },
    {
      "cell_type": "code",
      "source": [
        "df2[\"release_year\"]=df2[\"release_year\"].astype('string')"
      ],
      "metadata": {
        "id": "FmvmT5Rp6fM9"
      },
      "execution_count": 13,
      "outputs": []
    },
    {
      "cell_type": "code",
      "source": [
        "df2.info()"
      ],
      "metadata": {
        "colab": {
          "base_uri": "https://localhost:8080/"
        },
        "id": "-ITFhn_Q6pvM",
        "outputId": "9cd7d82b-500e-49e6-a92a-5103e3e3aa46"
      },
      "execution_count": 14,
      "outputs": [
        {
          "output_type": "stream",
          "name": "stdout",
          "text": [
            "<class 'pandas.core.frame.DataFrame'>\n",
            "RangeIndex: 45379 entries, 0 to 45378\n",
            "Data columns (total 14 columns):\n",
            " #   Column                 Non-Null Count  Dtype         \n",
            "---  ------                 --------------  -----         \n",
            " 0   belongs_to_collection  4491 non-null   object        \n",
            " 1   budget                 45379 non-null  float64       \n",
            " 2   id                     45379 non-null  object        \n",
            " 3   original_language      45368 non-null  object        \n",
            " 4   production_companies   45379 non-null  object        \n",
            " 5   production_countries   45379 non-null  object        \n",
            " 6   release_date           45379 non-null  datetime64[ns]\n",
            " 7   revenue                45379 non-null  float64       \n",
            " 8   runtime                45130 non-null  float64       \n",
            " 9   title                  45376 non-null  object        \n",
            " 10  vote_average           45376 non-null  float64       \n",
            " 11  vote_count             45376 non-null  float64       \n",
            " 12  release_year           45379 non-null  string        \n",
            " 13  return                 45379 non-null  int64         \n",
            "dtypes: datetime64[ns](1), float64(5), int64(1), object(6), string(1)\n",
            "memory usage: 4.8+ MB\n"
          ]
        }
      ]
    },
    {
      "cell_type": "code",
      "source": [
        "#Posible elemento a borrar\n",
        "#dffr.drop([19714], axis=0, inplace=True)\n",
        "#dffr.iloc[19714]"
      ],
      "metadata": {
        "id": "jqfgV1-5LcpY"
      },
      "execution_count": 15,
      "outputs": []
    },
    {
      "cell_type": "code",
      "source": [
        "#Error en datos no corresponde  una pelicula titulada o franquisia\n",
        "#dffr.iloc[45378]#  sera igual al dataframe inicial   df.iloc[19714]\n",
        "#por lo cual se reemplazo con el nombre sub franquicia se encontro el\n",
        "# valor NaN en los tre ultimas filas por ello requirio reemplazar 3*"
      ],
      "metadata": {
        "id": "KyLGOYocL_Ep"
      },
      "execution_count": 16,
      "outputs": []
    },
    {
      "cell_type": "code",
      "source": [
        "df2.to_csv('movies_api_12.csv', index=False)"
      ],
      "metadata": {
        "id": "pyGiOdlcwRvc"
      },
      "execution_count": 17,
      "outputs": []
    },
    {
      "cell_type": "markdown",
      "source": [
        "## **Endpoint :  peliculas_idioma(Idioma)**"
      ],
      "metadata": {
        "id": "Z00i_Qr4-KmC"
      }
    },
    {
      "cell_type": "code",
      "source": [
        "df2[\"original_language\"].head(-10)"
      ],
      "metadata": {
        "colab": {
          "base_uri": "https://localhost:8080/"
        },
        "id": "8uvYcCX0Ah8x",
        "outputId": "c8bdf142-fdb7-473f-aaff-70f738a2ac11"
      },
      "execution_count": 18,
      "outputs": [
        {
          "output_type": "execute_result",
          "data": {
            "text/plain": [
              "0        en\n",
              "1        en\n",
              "2        en\n",
              "3        en\n",
              "4        en\n",
              "         ..\n",
              "45364    fr\n",
              "45365    fr\n",
              "45366    en\n",
              "45367    hi\n",
              "45368    en\n",
              "Name: original_language, Length: 45369, dtype: object"
            ]
          },
          "metadata": {},
          "execution_count": 18
        }
      ]
    },
    {
      "cell_type": "code",
      "source": [
        "ds_i=df2[\"original_language\"].value_counts()\n",
        "ds_i"
      ],
      "metadata": {
        "colab": {
          "base_uri": "https://localhost:8080/"
        },
        "id": "86KQGCNeAsFr",
        "outputId": "a7ce961c-73df-4baa-816c-bec1bb4bac37"
      },
      "execution_count": 19,
      "outputs": [
        {
          "output_type": "execute_result",
          "data": {
            "text/plain": [
              "en       32202\n",
              "fr        2437\n",
              "it        1528\n",
              "ja        1349\n",
              "de        1078\n",
              "         ...  \n",
              "zu           1\n",
              "qu           1\n",
              "104.0        1\n",
              "la           1\n",
              "si           1\n",
              "Name: original_language, Length: 92, dtype: int64"
            ]
          },
          "metadata": {},
          "execution_count": 19
        }
      ]
    },
    {
      "cell_type": "code",
      "source": [
        "#ds_i=df.original_language.value_counts()\n",
        "ds_i[ds_i.index==\"en\"]"
      ],
      "metadata": {
        "colab": {
          "base_uri": "https://localhost:8080/"
        },
        "id": "_uL9tdeoA19a",
        "outputId": "bf9e57f8-661b-4321-b9aa-78892d8e9818"
      },
      "execution_count": 20,
      "outputs": [
        {
          "output_type": "execute_result",
          "data": {
            "text/plain": [
              "en    32202\n",
              "Name: original_language, dtype: int64"
            ]
          },
          "metadata": {},
          "execution_count": 20
        }
      ]
    },
    {
      "cell_type": "code",
      "source": [
        "df2.original_language.unique()"
      ],
      "metadata": {
        "colab": {
          "base_uri": "https://localhost:8080/"
        },
        "id": "nZ5KzbylCcdb",
        "outputId": "6017ac60-5a05-4511-99d6-691b549b23d5"
      },
      "execution_count": 21,
      "outputs": [
        {
          "output_type": "execute_result",
          "data": {
            "text/plain": [
              "array(['en', 'fr', 'zh', 'it', 'fa', 'nl', 'de', 'cn', 'ar', 'es', 'ru',\n",
              "       'sv', 'ja', 'ko', 'sr', 'bn', 'he', 'pt', 'wo', 'ro', 'hu', 'cy',\n",
              "       'vi', 'cs', 'da', 'no', 'nb', 'pl', 'el', 'sh', 'xx', 'mk', 'bo',\n",
              "       'ca', 'fi', 'th', 'sk', 'bs', 'hi', 'tr', 'is', 'ps', 'ab', 'eo',\n",
              "       'ka', 'mn', 'bm', 'zu', 'uk', 'af', 'la', 'et', 'ku', 'fy', 'lv',\n",
              "       'ta', 'sl', 'tl', 'ur', 'rw', 'id', 'bg', 'mr', 'lt', 'kk', 'ms',\n",
              "       'sq', nan, '104.0', 'qu', 'te', 'am', 'jv', 'tg', 'ml', 'hr', 'lo',\n",
              "       'ay', 'kn', 'eu', 'ne', 'pa', 'ky', 'gl', '68.0', 'uz', 'sm', 'mt',\n",
              "       '82.0', 'hy', 'iu', 'lb', 'si'], dtype=object)"
            ]
          },
          "metadata": {},
          "execution_count": 21
        }
      ]
    },
    {
      "cell_type": "code",
      "source": [
        "def peliculas_idioma( Idioma: str ):\n",
        " # ds_i=df2.original_language.value_counts()\n",
        " # print(\"lenguajes disponibles\",df2.original_language.unique())\n",
        "  ds_i=df2[\"original_language\"].value_counts()\n",
        "  cant=0\n",
        "  if Idioma in ds_i.index:\n",
        "      cant=ds_i[ds_i.index==Idioma]\n",
        "      return {'Cantidad de pelicula que fueron estrenadas':cant[0],' en el Idioma':Idioma}\n",
        "  else:\n",
        "      return (\"Ingreso incorrecto, recuerde escribir todo en minúsculas.\")"
      ],
      "metadata": {
        "id": "TqLpVebaE5cW"
      },
      "execution_count": 22,
      "outputs": []
    },
    {
      "cell_type": "code",
      "source": [
        "#funcion para api tiene encuenta opciones\n",
        "def peliculas_idioma( Idioma: str ):\n",
        "  #debe ingresar la abreiatura de idioma ya que estan en una misma denominacion del alfabeto\n",
        "  cant=0\n",
        "  for i in range (len(df2[\"original_language\"])):\n",
        "      if Idioma == df2['original_language'][i]:\n",
        "          cant=cant +1\n",
        "  if cant==0:\n",
        "      return (\"Ingreso incorrecto, recuerde escribir todo en minúsculas.\")\n",
        "  else:\n",
        "      return {'Cantidad de pelicula que fueron estrenadas':cant,' en el Idioma':Idioma}\n"
      ],
      "metadata": {
        "id": "EpgmGxdU0iae"
      },
      "execution_count": 23,
      "outputs": []
    },
    {
      "cell_type": "code",
      "source": [
        "#\"cantidad_filmaciones_mes(11)\n",
        "peliculas_idioma('en')"
      ],
      "metadata": {
        "colab": {
          "base_uri": "https://localhost:8080/"
        },
        "id": "k_LNXuXIFLJu",
        "outputId": "562d6ae4-631a-41a6-ffd5-b14e478e4227"
      },
      "execution_count": 24,
      "outputs": [
        {
          "output_type": "execute_result",
          "data": {
            "text/plain": [
              "{'Cantidad de pelicula que fueron estrenadas': 32202, ' en el Idioma': 'en'}"
            ]
          },
          "metadata": {},
          "execution_count": 24
        }
      ]
    },
    {
      "cell_type": "markdown",
      "source": [
        "## Endpoint : pelicula_duracion(Pelicula)\n",
        "\n",
        "\n"
      ],
      "metadata": {
        "id": "1zR_lwzNFrrS"
      }
    },
    {
      "cell_type": "code",
      "source": [
        "def peliculas_duracion( Pelicula: str ):\n",
        "#Se ingresa una pelicula. Debe devolver la la duracion y el año.\n",
        "\n",
        "  for i in range(len(df2[\"title\"])):\n",
        "      cop=(df2[\"title\"][i])\n",
        "      if (Pelicula)==cop:\n",
        "          anio=str(df2[\"release_year\"][i])\n",
        "          duracion=str(df2[\"runtime\"][i])\n",
        "          return{' Titulo de la pelicula':Pelicula,' Duracion':duracion,' Año de estreno':anio}\n"
      ],
      "metadata": {
        "id": "rO-moKvZ6MWr"
      },
      "execution_count": 25,
      "outputs": []
    },
    {
      "cell_type": "code",
      "source": [
        "peliculas_duracion('Jumanji')"
      ],
      "metadata": {
        "colab": {
          "base_uri": "https://localhost:8080/"
        },
        "id": "Kd3PFpwGGXkc",
        "outputId": "66afa9b4-85f6-471b-c77b-cc595e8b7d80"
      },
      "execution_count": 26,
      "outputs": [
        {
          "output_type": "execute_result",
          "data": {
            "text/plain": [
              "{' Titulo de la pelicula': 'Jumanji',\n",
              " ' Duracion': '104.0',\n",
              " ' Año de estreno': '1995'}"
            ]
          },
          "metadata": {},
          "execution_count": 26
        }
      ]
    },
    {
      "cell_type": "markdown",
      "source": [
        "## **Endpoint : def franquicia(Franquicia)**"
      ],
      "metadata": {
        "id": "sZ3ZZd_XGpC3"
      }
    },
    {
      "cell_type": "code",
      "source": [
        "h=df2.belongs_to_collection.value_counts()\n",
        "h\n",
        "#h[0]"
      ],
      "metadata": {
        "colab": {
          "base_uri": "https://localhost:8080/"
        },
        "id": "gaeIiS_lGuQy",
        "outputId": "90f74977-eba2-4a90-feec-bfd4798a69d3"
      },
      "execution_count": 27,
      "outputs": [
        {
          "output_type": "execute_result",
          "data": {
            "text/plain": [
              "{'id': 415931, 'name': 'The Bowery Boys', 'poster_path': '/q6sA4bzMT9cK7EEmXYwt7PNrL5h.jpg', 'backdrop_path': '/foe3kuiJmg5AklhtD3skWbaTMf2.jpg'}                 29\n",
              "{'id': 421566, 'name': 'Totò Collection', 'poster_path': '/4ayJsjC3djGwU9eCWUokdBWvdLC.jpg', 'backdrop_path': '/jaUuprubvAxXLAY5hUfrNjxccUh.jpg'}                 27\n",
              "{'id': 645, 'name': 'James Bond Collection', 'poster_path': '/HORpg5CSkmeQlAolx3bKMrKgfi.jpg', 'backdrop_path': '/6VcVl48kNKvdXOZfJPdarlUGOsk.jpg'}               26\n",
              "{'id': 96887, 'name': 'Zatôichi: The Blind Swordsman', 'poster_path': '/8Q31DAtmFJjhFTwQGXghBUCgWK2.jpg', 'backdrop_path': '/bY8gLImMR5Pr9PaG3ZpobfaAQ8N.jpg'}    26\n",
              "{'id': 37261, 'name': 'The Carry On Collection', 'poster_path': '/2P0HNrYgKDvirV8RCdT1rBSJdbJ.jpg', 'backdrop_path': '/38tF1LJN7ULeZAuAfP7beaPMfcl.jpg'}          25\n",
              "                                                                                                                                                                  ..\n",
              "{'id': 456580, 'name': 'No Good Middle-Aged Yakuza Trilogy', 'poster_path': None, 'backdrop_path': None}                                                           1\n",
              "{'id': 385650, 'name': 'The Spiritual Boxer Collection', 'poster_path': None, 'backdrop_path': None}                                                               1\n",
              "{'id': 415799, 'name': 'East Side Kids', 'poster_path': None, 'backdrop_path': None}                                                                               1\n",
              "{'id': 285879, 'name': 'Seed Collection', 'poster_path': '/AvwruMfjbfydS9156uzq8gBZ4XN.jpg', 'backdrop_path': None}                                                1\n",
              "{'id': 200641, 'name': 'Red Lotus Collection', 'poster_path': '/yf9Eod9ANXyHTzDpAxz9ezgvlL4.jpg', 'backdrop_path': '/3fhHbLeO3DqdHvgHg5szs399eBb.jpg'}             1\n",
              "Name: belongs_to_collection, Length: 1698, dtype: int64"
            ]
          },
          "metadata": {},
          "execution_count": 27
        }
      ]
    },
    {
      "cell_type": "code",
      "source": [
        "df2[df2.belongs_to_collection.isnull()]"
      ],
      "metadata": {
        "colab": {
          "base_uri": "https://localhost:8080/",
          "height": 765
        },
        "id": "QEcQ0j7hG1xt",
        "outputId": "cb534f2e-1b56-4434-c779-c131ccf2ba3a"
      },
      "execution_count": 28,
      "outputs": [
        {
          "output_type": "execute_result",
          "data": {
            "text/plain": [
              "      belongs_to_collection      budget      id original_language  \\\n",
              "1                       NaN  65000000.0    8844                en   \n",
              "3                       NaN  16000000.0   31357                en   \n",
              "5                       NaN  60000000.0     949                en   \n",
              "6                       NaN  58000000.0   11860                en   \n",
              "7                       NaN         0.0   45325                en   \n",
              "...                     ...         ...     ...               ...   \n",
              "45374                   NaN         0.0   30840                en   \n",
              "45375                   NaN         0.0  111109                tl   \n",
              "45376                   NaN         0.0   67758                en   \n",
              "45377                   NaN         0.0  227506                en   \n",
              "45378                   NaN         0.0  461257                en   \n",
              "\n",
              "                                    production_companies  \\\n",
              "1      [{'name': 'TriStar Pictures', 'id': 559}, {'na...   \n",
              "3      [{'name': 'Twentieth Century Fox Film Corporat...   \n",
              "5      [{'name': 'Regency Enterprises', 'id': 508}, {...   \n",
              "6      [{'name': 'Paramount Pictures', 'id': 4}, {'na...   \n",
              "7            [{'name': 'Walt Disney Pictures', 'id': 2}]   \n",
              "...                                                  ...   \n",
              "45374  [{'name': 'Westdeutscher Rundfunk (WDR)', 'id'...   \n",
              "45375             [{'name': 'Sine Olivia', 'id': 19653}]   \n",
              "45376  [{'name': 'American World Pictures', 'id': 6165}]   \n",
              "45377               [{'name': 'Yermoliev', 'id': 88753}]   \n",
              "45378                                                 []   \n",
              "\n",
              "                                    production_countries release_date  \\\n",
              "1      [{'iso_3166_1': 'US', 'name': 'United States o...   1995-12-15   \n",
              "3      [{'iso_3166_1': 'US', 'name': 'United States o...   1995-12-22   \n",
              "5      [{'iso_3166_1': 'US', 'name': 'United States o...   1995-12-15   \n",
              "6      [{'iso_3166_1': 'DE', 'name': 'Germany'}, {'is...   1995-12-15   \n",
              "7      [{'iso_3166_1': 'US', 'name': 'United States o...   1995-12-22   \n",
              "...                                                  ...          ...   \n",
              "45374  [{'iso_3166_1': 'CA', 'name': 'Canada'}, {'iso...   1991-05-13   \n",
              "45375      [{'iso_3166_1': 'PH', 'name': 'Philippines'}]   2011-11-17   \n",
              "45376  [{'iso_3166_1': 'US', 'name': 'United States o...   2003-08-01   \n",
              "45377           [{'iso_3166_1': 'RU', 'name': 'Russia'}]   1917-10-21   \n",
              "45378   [{'iso_3166_1': 'GB', 'name': 'United Kingdom'}]   2017-06-09   \n",
              "\n",
              "           revenue  runtime                title  vote_average  vote_count  \\\n",
              "1      262797249.0    104.0              Jumanji           6.9      2413.0   \n",
              "3       81452156.0    127.0    Waiting to Exhale           6.1        34.0   \n",
              "5      187436818.0    170.0                 Heat           7.7      1886.0   \n",
              "6              0.0    127.0              Sabrina           6.2       141.0   \n",
              "7              0.0     97.0         Tom and Huck           5.4        45.0   \n",
              "...            ...      ...                  ...           ...         ...   \n",
              "45374          0.0    104.0           Robin Hood           5.7        26.0   \n",
              "45375          0.0    360.0  Century of Birthing           9.0         3.0   \n",
              "45376          0.0     90.0             Betrayal           3.8         6.0   \n",
              "45377          0.0     87.0     Satan Triumphant           0.0         0.0   \n",
              "45378          0.0     75.0             Queerama           0.0         0.0   \n",
              "\n",
              "      release_year  return  \n",
              "1             1995       0  \n",
              "3             1995       0  \n",
              "5             1995       0  \n",
              "6             1995       0  \n",
              "7             1995       0  \n",
              "...            ...     ...  \n",
              "45374         1991       0  \n",
              "45375         2011       0  \n",
              "45376         2003       0  \n",
              "45377         1917       0  \n",
              "45378         2017       0  \n",
              "\n",
              "[40888 rows x 14 columns]"
            ],
            "text/html": [
              "\n",
              "\n",
              "  <div id=\"df-1a268dd0-efb5-433b-8f59-370e48ea02d8\">\n",
              "    <div class=\"colab-df-container\">\n",
              "      <div>\n",
              "<style scoped>\n",
              "    .dataframe tbody tr th:only-of-type {\n",
              "        vertical-align: middle;\n",
              "    }\n",
              "\n",
              "    .dataframe tbody tr th {\n",
              "        vertical-align: top;\n",
              "    }\n",
              "\n",
              "    .dataframe thead th {\n",
              "        text-align: right;\n",
              "    }\n",
              "</style>\n",
              "<table border=\"1\" class=\"dataframe\">\n",
              "  <thead>\n",
              "    <tr style=\"text-align: right;\">\n",
              "      <th></th>\n",
              "      <th>belongs_to_collection</th>\n",
              "      <th>budget</th>\n",
              "      <th>id</th>\n",
              "      <th>original_language</th>\n",
              "      <th>production_companies</th>\n",
              "      <th>production_countries</th>\n",
              "      <th>release_date</th>\n",
              "      <th>revenue</th>\n",
              "      <th>runtime</th>\n",
              "      <th>title</th>\n",
              "      <th>vote_average</th>\n",
              "      <th>vote_count</th>\n",
              "      <th>release_year</th>\n",
              "      <th>return</th>\n",
              "    </tr>\n",
              "  </thead>\n",
              "  <tbody>\n",
              "    <tr>\n",
              "      <th>1</th>\n",
              "      <td>NaN</td>\n",
              "      <td>65000000.0</td>\n",
              "      <td>8844</td>\n",
              "      <td>en</td>\n",
              "      <td>[{'name': 'TriStar Pictures', 'id': 559}, {'na...</td>\n",
              "      <td>[{'iso_3166_1': 'US', 'name': 'United States o...</td>\n",
              "      <td>1995-12-15</td>\n",
              "      <td>262797249.0</td>\n",
              "      <td>104.0</td>\n",
              "      <td>Jumanji</td>\n",
              "      <td>6.9</td>\n",
              "      <td>2413.0</td>\n",
              "      <td>1995</td>\n",
              "      <td>0</td>\n",
              "    </tr>\n",
              "    <tr>\n",
              "      <th>3</th>\n",
              "      <td>NaN</td>\n",
              "      <td>16000000.0</td>\n",
              "      <td>31357</td>\n",
              "      <td>en</td>\n",
              "      <td>[{'name': 'Twentieth Century Fox Film Corporat...</td>\n",
              "      <td>[{'iso_3166_1': 'US', 'name': 'United States o...</td>\n",
              "      <td>1995-12-22</td>\n",
              "      <td>81452156.0</td>\n",
              "      <td>127.0</td>\n",
              "      <td>Waiting to Exhale</td>\n",
              "      <td>6.1</td>\n",
              "      <td>34.0</td>\n",
              "      <td>1995</td>\n",
              "      <td>0</td>\n",
              "    </tr>\n",
              "    <tr>\n",
              "      <th>5</th>\n",
              "      <td>NaN</td>\n",
              "      <td>60000000.0</td>\n",
              "      <td>949</td>\n",
              "      <td>en</td>\n",
              "      <td>[{'name': 'Regency Enterprises', 'id': 508}, {...</td>\n",
              "      <td>[{'iso_3166_1': 'US', 'name': 'United States o...</td>\n",
              "      <td>1995-12-15</td>\n",
              "      <td>187436818.0</td>\n",
              "      <td>170.0</td>\n",
              "      <td>Heat</td>\n",
              "      <td>7.7</td>\n",
              "      <td>1886.0</td>\n",
              "      <td>1995</td>\n",
              "      <td>0</td>\n",
              "    </tr>\n",
              "    <tr>\n",
              "      <th>6</th>\n",
              "      <td>NaN</td>\n",
              "      <td>58000000.0</td>\n",
              "      <td>11860</td>\n",
              "      <td>en</td>\n",
              "      <td>[{'name': 'Paramount Pictures', 'id': 4}, {'na...</td>\n",
              "      <td>[{'iso_3166_1': 'DE', 'name': 'Germany'}, {'is...</td>\n",
              "      <td>1995-12-15</td>\n",
              "      <td>0.0</td>\n",
              "      <td>127.0</td>\n",
              "      <td>Sabrina</td>\n",
              "      <td>6.2</td>\n",
              "      <td>141.0</td>\n",
              "      <td>1995</td>\n",
              "      <td>0</td>\n",
              "    </tr>\n",
              "    <tr>\n",
              "      <th>7</th>\n",
              "      <td>NaN</td>\n",
              "      <td>0.0</td>\n",
              "      <td>45325</td>\n",
              "      <td>en</td>\n",
              "      <td>[{'name': 'Walt Disney Pictures', 'id': 2}]</td>\n",
              "      <td>[{'iso_3166_1': 'US', 'name': 'United States o...</td>\n",
              "      <td>1995-12-22</td>\n",
              "      <td>0.0</td>\n",
              "      <td>97.0</td>\n",
              "      <td>Tom and Huck</td>\n",
              "      <td>5.4</td>\n",
              "      <td>45.0</td>\n",
              "      <td>1995</td>\n",
              "      <td>0</td>\n",
              "    </tr>\n",
              "    <tr>\n",
              "      <th>...</th>\n",
              "      <td>...</td>\n",
              "      <td>...</td>\n",
              "      <td>...</td>\n",
              "      <td>...</td>\n",
              "      <td>...</td>\n",
              "      <td>...</td>\n",
              "      <td>...</td>\n",
              "      <td>...</td>\n",
              "      <td>...</td>\n",
              "      <td>...</td>\n",
              "      <td>...</td>\n",
              "      <td>...</td>\n",
              "      <td>...</td>\n",
              "      <td>...</td>\n",
              "    </tr>\n",
              "    <tr>\n",
              "      <th>45374</th>\n",
              "      <td>NaN</td>\n",
              "      <td>0.0</td>\n",
              "      <td>30840</td>\n",
              "      <td>en</td>\n",
              "      <td>[{'name': 'Westdeutscher Rundfunk (WDR)', 'id'...</td>\n",
              "      <td>[{'iso_3166_1': 'CA', 'name': 'Canada'}, {'iso...</td>\n",
              "      <td>1991-05-13</td>\n",
              "      <td>0.0</td>\n",
              "      <td>104.0</td>\n",
              "      <td>Robin Hood</td>\n",
              "      <td>5.7</td>\n",
              "      <td>26.0</td>\n",
              "      <td>1991</td>\n",
              "      <td>0</td>\n",
              "    </tr>\n",
              "    <tr>\n",
              "      <th>45375</th>\n",
              "      <td>NaN</td>\n",
              "      <td>0.0</td>\n",
              "      <td>111109</td>\n",
              "      <td>tl</td>\n",
              "      <td>[{'name': 'Sine Olivia', 'id': 19653}]</td>\n",
              "      <td>[{'iso_3166_1': 'PH', 'name': 'Philippines'}]</td>\n",
              "      <td>2011-11-17</td>\n",
              "      <td>0.0</td>\n",
              "      <td>360.0</td>\n",
              "      <td>Century of Birthing</td>\n",
              "      <td>9.0</td>\n",
              "      <td>3.0</td>\n",
              "      <td>2011</td>\n",
              "      <td>0</td>\n",
              "    </tr>\n",
              "    <tr>\n",
              "      <th>45376</th>\n",
              "      <td>NaN</td>\n",
              "      <td>0.0</td>\n",
              "      <td>67758</td>\n",
              "      <td>en</td>\n",
              "      <td>[{'name': 'American World Pictures', 'id': 6165}]</td>\n",
              "      <td>[{'iso_3166_1': 'US', 'name': 'United States o...</td>\n",
              "      <td>2003-08-01</td>\n",
              "      <td>0.0</td>\n",
              "      <td>90.0</td>\n",
              "      <td>Betrayal</td>\n",
              "      <td>3.8</td>\n",
              "      <td>6.0</td>\n",
              "      <td>2003</td>\n",
              "      <td>0</td>\n",
              "    </tr>\n",
              "    <tr>\n",
              "      <th>45377</th>\n",
              "      <td>NaN</td>\n",
              "      <td>0.0</td>\n",
              "      <td>227506</td>\n",
              "      <td>en</td>\n",
              "      <td>[{'name': 'Yermoliev', 'id': 88753}]</td>\n",
              "      <td>[{'iso_3166_1': 'RU', 'name': 'Russia'}]</td>\n",
              "      <td>1917-10-21</td>\n",
              "      <td>0.0</td>\n",
              "      <td>87.0</td>\n",
              "      <td>Satan Triumphant</td>\n",
              "      <td>0.0</td>\n",
              "      <td>0.0</td>\n",
              "      <td>1917</td>\n",
              "      <td>0</td>\n",
              "    </tr>\n",
              "    <tr>\n",
              "      <th>45378</th>\n",
              "      <td>NaN</td>\n",
              "      <td>0.0</td>\n",
              "      <td>461257</td>\n",
              "      <td>en</td>\n",
              "      <td>[]</td>\n",
              "      <td>[{'iso_3166_1': 'GB', 'name': 'United Kingdom'}]</td>\n",
              "      <td>2017-06-09</td>\n",
              "      <td>0.0</td>\n",
              "      <td>75.0</td>\n",
              "      <td>Queerama</td>\n",
              "      <td>0.0</td>\n",
              "      <td>0.0</td>\n",
              "      <td>2017</td>\n",
              "      <td>0</td>\n",
              "    </tr>\n",
              "  </tbody>\n",
              "</table>\n",
              "<p>40888 rows × 14 columns</p>\n",
              "</div>\n",
              "      <button class=\"colab-df-convert\" onclick=\"convertToInteractive('df-1a268dd0-efb5-433b-8f59-370e48ea02d8')\"\n",
              "              title=\"Convert this dataframe to an interactive table.\"\n",
              "              style=\"display:none;\">\n",
              "\n",
              "  <svg xmlns=\"http://www.w3.org/2000/svg\" height=\"24px\"viewBox=\"0 0 24 24\"\n",
              "       width=\"24px\">\n",
              "    <path d=\"M0 0h24v24H0V0z\" fill=\"none\"/>\n",
              "    <path d=\"M18.56 5.44l.94 2.06.94-2.06 2.06-.94-2.06-.94-.94-2.06-.94 2.06-2.06.94zm-11 1L8.5 8.5l.94-2.06 2.06-.94-2.06-.94L8.5 2.5l-.94 2.06-2.06.94zm10 10l.94 2.06.94-2.06 2.06-.94-2.06-.94-.94-2.06-.94 2.06-2.06.94z\"/><path d=\"M17.41 7.96l-1.37-1.37c-.4-.4-.92-.59-1.43-.59-.52 0-1.04.2-1.43.59L10.3 9.45l-7.72 7.72c-.78.78-.78 2.05 0 2.83L4 21.41c.39.39.9.59 1.41.59.51 0 1.02-.2 1.41-.59l7.78-7.78 2.81-2.81c.8-.78.8-2.07 0-2.86zM5.41 20L4 18.59l7.72-7.72 1.47 1.35L5.41 20z\"/>\n",
              "  </svg>\n",
              "      </button>\n",
              "\n",
              "\n",
              "\n",
              "    <div id=\"df-505b6b07-24f8-4da8-a4f1-00194408e4ae\">\n",
              "      <button class=\"colab-df-quickchart\" onclick=\"quickchart('df-505b6b07-24f8-4da8-a4f1-00194408e4ae')\"\n",
              "              title=\"Suggest charts.\"\n",
              "              style=\"display:none;\">\n",
              "\n",
              "<svg xmlns=\"http://www.w3.org/2000/svg\" height=\"24px\"viewBox=\"0 0 24 24\"\n",
              "     width=\"24px\">\n",
              "    <g>\n",
              "        <path d=\"M19 3H5c-1.1 0-2 .9-2 2v14c0 1.1.9 2 2 2h14c1.1 0 2-.9 2-2V5c0-1.1-.9-2-2-2zM9 17H7v-7h2v7zm4 0h-2V7h2v10zm4 0h-2v-4h2v4z\"/>\n",
              "    </g>\n",
              "</svg>\n",
              "      </button>\n",
              "    </div>\n",
              "\n",
              "<style>\n",
              "  .colab-df-quickchart {\n",
              "    background-color: #E8F0FE;\n",
              "    border: none;\n",
              "    border-radius: 50%;\n",
              "    cursor: pointer;\n",
              "    display: none;\n",
              "    fill: #1967D2;\n",
              "    height: 32px;\n",
              "    padding: 0 0 0 0;\n",
              "    width: 32px;\n",
              "  }\n",
              "\n",
              "  .colab-df-quickchart:hover {\n",
              "    background-color: #E2EBFA;\n",
              "    box-shadow: 0px 1px 2px rgba(60, 64, 67, 0.3), 0px 1px 3px 1px rgba(60, 64, 67, 0.15);\n",
              "    fill: #174EA6;\n",
              "  }\n",
              "\n",
              "  [theme=dark] .colab-df-quickchart {\n",
              "    background-color: #3B4455;\n",
              "    fill: #D2E3FC;\n",
              "  }\n",
              "\n",
              "  [theme=dark] .colab-df-quickchart:hover {\n",
              "    background-color: #434B5C;\n",
              "    box-shadow: 0px 1px 3px 1px rgba(0, 0, 0, 0.15);\n",
              "    filter: drop-shadow(0px 1px 2px rgba(0, 0, 0, 0.3));\n",
              "    fill: #FFFFFF;\n",
              "  }\n",
              "</style>\n",
              "\n",
              "    <script>\n",
              "      async function quickchart(key) {\n",
              "        const containerElement = document.querySelector('#' + key);\n",
              "        const charts = await google.colab.kernel.invokeFunction(\n",
              "            'suggestCharts', [key], {});\n",
              "      }\n",
              "    </script>\n",
              "\n",
              "      <script>\n",
              "\n",
              "function displayQuickchartButton(domScope) {\n",
              "  let quickchartButtonEl =\n",
              "    domScope.querySelector('#df-505b6b07-24f8-4da8-a4f1-00194408e4ae button.colab-df-quickchart');\n",
              "  quickchartButtonEl.style.display =\n",
              "    google.colab.kernel.accessAllowed ? 'block' : 'none';\n",
              "}\n",
              "\n",
              "        displayQuickchartButton(document);\n",
              "      </script>\n",
              "      <style>\n",
              "    .colab-df-container {\n",
              "      display:flex;\n",
              "      flex-wrap:wrap;\n",
              "      gap: 12px;\n",
              "    }\n",
              "\n",
              "    .colab-df-convert {\n",
              "      background-color: #E8F0FE;\n",
              "      border: none;\n",
              "      border-radius: 50%;\n",
              "      cursor: pointer;\n",
              "      display: none;\n",
              "      fill: #1967D2;\n",
              "      height: 32px;\n",
              "      padding: 0 0 0 0;\n",
              "      width: 32px;\n",
              "    }\n",
              "\n",
              "    .colab-df-convert:hover {\n",
              "      background-color: #E2EBFA;\n",
              "      box-shadow: 0px 1px 2px rgba(60, 64, 67, 0.3), 0px 1px 3px 1px rgba(60, 64, 67, 0.15);\n",
              "      fill: #174EA6;\n",
              "    }\n",
              "\n",
              "    [theme=dark] .colab-df-convert {\n",
              "      background-color: #3B4455;\n",
              "      fill: #D2E3FC;\n",
              "    }\n",
              "\n",
              "    [theme=dark] .colab-df-convert:hover {\n",
              "      background-color: #434B5C;\n",
              "      box-shadow: 0px 1px 3px 1px rgba(0, 0, 0, 0.15);\n",
              "      filter: drop-shadow(0px 1px 2px rgba(0, 0, 0, 0.3));\n",
              "      fill: #FFFFFF;\n",
              "    }\n",
              "  </style>\n",
              "\n",
              "      <script>\n",
              "        const buttonEl =\n",
              "          document.querySelector('#df-1a268dd0-efb5-433b-8f59-370e48ea02d8 button.colab-df-convert');\n",
              "        buttonEl.style.display =\n",
              "          google.colab.kernel.accessAllowed ? 'block' : 'none';\n",
              "\n",
              "        async function convertToInteractive(key) {\n",
              "          const element = document.querySelector('#df-1a268dd0-efb5-433b-8f59-370e48ea02d8');\n",
              "          const dataTable =\n",
              "            await google.colab.kernel.invokeFunction('convertToInteractive',\n",
              "                                                     [key], {});\n",
              "          if (!dataTable) return;\n",
              "\n",
              "          const docLinkHtml = 'Like what you see? Visit the ' +\n",
              "            '<a target=\"_blank\" href=https://colab.research.google.com/notebooks/data_table.ipynb>data table notebook</a>'\n",
              "            + ' to learn more about interactive tables.';\n",
              "          element.innerHTML = '';\n",
              "          dataTable['output_type'] = 'display_data';\n",
              "          await google.colab.output.renderOutput(dataTable, element);\n",
              "          const docLink = document.createElement('div');\n",
              "          docLink.innerHTML = docLinkHtml;\n",
              "          element.appendChild(docLink);\n",
              "        }\n",
              "      </script>\n",
              "    </div>\n",
              "  </div>\n"
            ]
          },
          "metadata": {},
          "execution_count": 28
        }
      ]
    },
    {
      "cell_type": "code",
      "source": [
        "df2.belongs_to_collection[0]"
      ],
      "metadata": {
        "colab": {
          "base_uri": "https://localhost:8080/",
          "height": 53
        },
        "id": "L6BxXrYmHAfj",
        "outputId": "c38fb613-71fb-4bda-ea50-003259520dca"
      },
      "execution_count": 29,
      "outputs": [
        {
          "output_type": "execute_result",
          "data": {
            "text/plain": [
              "\"{'id': 10194, 'name': 'Toy Story Collection', 'poster_path': '/7G9915LfUQ2lVfwMEEhDsn3kT4B.jpg', 'backdrop_path': '/9FBwqcd9IRruEDUrTdcaafOMKUq.jpg'}\""
            ],
            "application/vnd.google.colaboratory.intrinsic+json": {
              "type": "string"
            }
          },
          "metadata": {},
          "execution_count": 29
        }
      ]
    },
    {
      "cell_type": "code",
      "source": [
        "df2[df2.belongs_to_collection==\"{'id': 10194, 'name': 'Toy Story Collection', 'poster_path': '/7G9915LfUQ2lVfwMEEhDsn3kT4B.jpg', 'backdrop_path': '/9FBwqcd9IRruEDUrTdcaafOMKUq.jpg'}\"]"
      ],
      "metadata": {
        "colab": {
          "base_uri": "https://localhost:8080/",
          "height": 312
        },
        "id": "y59fRxJIHRHl",
        "outputId": "879179f3-85fe-4e3f-eec6-c7bec17f4e2e"
      },
      "execution_count": 30,
      "outputs": [
        {
          "output_type": "execute_result",
          "data": {
            "text/plain": [
              "                                   belongs_to_collection       budget     id  \\\n",
              "0      {'id': 10194, 'name': 'Toy Story Collection', ...   30000000.0    862   \n",
              "2995   {'id': 10194, 'name': 'Toy Story Collection', ...   90000000.0    863   \n",
              "15341  {'id': 10194, 'name': 'Toy Story Collection', ...  200000000.0  10193   \n",
              "\n",
              "      original_language                               production_companies  \\\n",
              "0                    en     [{'name': 'Pixar Animation Studios', 'id': 3}]   \n",
              "2995                 en     [{'name': 'Pixar Animation Studios', 'id': 3}]   \n",
              "15341                en  [{'name': 'Walt Disney Pictures', 'id': 2}, {'...   \n",
              "\n",
              "                                    production_countries release_date  \\\n",
              "0      [{'iso_3166_1': 'US', 'name': 'United States o...   1995-10-30   \n",
              "2995   [{'iso_3166_1': 'US', 'name': 'United States o...   1999-10-30   \n",
              "15341  [{'iso_3166_1': 'US', 'name': 'United States o...   2010-06-16   \n",
              "\n",
              "            revenue  runtime        title  vote_average  vote_count  \\\n",
              "0      3.735540e+08     81.0    Toy Story           7.7      5415.0   \n",
              "2995   4.973669e+08     92.0  Toy Story 2           7.3      3914.0   \n",
              "15341  1.066970e+09    103.0  Toy Story 3           7.6      4710.0   \n",
              "\n",
              "      release_year  return  \n",
              "0             1995       0  \n",
              "2995          1999       0  \n",
              "15341         2010       0  "
            ],
            "text/html": [
              "\n",
              "\n",
              "  <div id=\"df-f93b9e21-be58-4275-b043-f814a2e9f05b\">\n",
              "    <div class=\"colab-df-container\">\n",
              "      <div>\n",
              "<style scoped>\n",
              "    .dataframe tbody tr th:only-of-type {\n",
              "        vertical-align: middle;\n",
              "    }\n",
              "\n",
              "    .dataframe tbody tr th {\n",
              "        vertical-align: top;\n",
              "    }\n",
              "\n",
              "    .dataframe thead th {\n",
              "        text-align: right;\n",
              "    }\n",
              "</style>\n",
              "<table border=\"1\" class=\"dataframe\">\n",
              "  <thead>\n",
              "    <tr style=\"text-align: right;\">\n",
              "      <th></th>\n",
              "      <th>belongs_to_collection</th>\n",
              "      <th>budget</th>\n",
              "      <th>id</th>\n",
              "      <th>original_language</th>\n",
              "      <th>production_companies</th>\n",
              "      <th>production_countries</th>\n",
              "      <th>release_date</th>\n",
              "      <th>revenue</th>\n",
              "      <th>runtime</th>\n",
              "      <th>title</th>\n",
              "      <th>vote_average</th>\n",
              "      <th>vote_count</th>\n",
              "      <th>release_year</th>\n",
              "      <th>return</th>\n",
              "    </tr>\n",
              "  </thead>\n",
              "  <tbody>\n",
              "    <tr>\n",
              "      <th>0</th>\n",
              "      <td>{'id': 10194, 'name': 'Toy Story Collection', ...</td>\n",
              "      <td>30000000.0</td>\n",
              "      <td>862</td>\n",
              "      <td>en</td>\n",
              "      <td>[{'name': 'Pixar Animation Studios', 'id': 3}]</td>\n",
              "      <td>[{'iso_3166_1': 'US', 'name': 'United States o...</td>\n",
              "      <td>1995-10-30</td>\n",
              "      <td>3.735540e+08</td>\n",
              "      <td>81.0</td>\n",
              "      <td>Toy Story</td>\n",
              "      <td>7.7</td>\n",
              "      <td>5415.0</td>\n",
              "      <td>1995</td>\n",
              "      <td>0</td>\n",
              "    </tr>\n",
              "    <tr>\n",
              "      <th>2995</th>\n",
              "      <td>{'id': 10194, 'name': 'Toy Story Collection', ...</td>\n",
              "      <td>90000000.0</td>\n",
              "      <td>863</td>\n",
              "      <td>en</td>\n",
              "      <td>[{'name': 'Pixar Animation Studios', 'id': 3}]</td>\n",
              "      <td>[{'iso_3166_1': 'US', 'name': 'United States o...</td>\n",
              "      <td>1999-10-30</td>\n",
              "      <td>4.973669e+08</td>\n",
              "      <td>92.0</td>\n",
              "      <td>Toy Story 2</td>\n",
              "      <td>7.3</td>\n",
              "      <td>3914.0</td>\n",
              "      <td>1999</td>\n",
              "      <td>0</td>\n",
              "    </tr>\n",
              "    <tr>\n",
              "      <th>15341</th>\n",
              "      <td>{'id': 10194, 'name': 'Toy Story Collection', ...</td>\n",
              "      <td>200000000.0</td>\n",
              "      <td>10193</td>\n",
              "      <td>en</td>\n",
              "      <td>[{'name': 'Walt Disney Pictures', 'id': 2}, {'...</td>\n",
              "      <td>[{'iso_3166_1': 'US', 'name': 'United States o...</td>\n",
              "      <td>2010-06-16</td>\n",
              "      <td>1.066970e+09</td>\n",
              "      <td>103.0</td>\n",
              "      <td>Toy Story 3</td>\n",
              "      <td>7.6</td>\n",
              "      <td>4710.0</td>\n",
              "      <td>2010</td>\n",
              "      <td>0</td>\n",
              "    </tr>\n",
              "  </tbody>\n",
              "</table>\n",
              "</div>\n",
              "      <button class=\"colab-df-convert\" onclick=\"convertToInteractive('df-f93b9e21-be58-4275-b043-f814a2e9f05b')\"\n",
              "              title=\"Convert this dataframe to an interactive table.\"\n",
              "              style=\"display:none;\">\n",
              "\n",
              "  <svg xmlns=\"http://www.w3.org/2000/svg\" height=\"24px\"viewBox=\"0 0 24 24\"\n",
              "       width=\"24px\">\n",
              "    <path d=\"M0 0h24v24H0V0z\" fill=\"none\"/>\n",
              "    <path d=\"M18.56 5.44l.94 2.06.94-2.06 2.06-.94-2.06-.94-.94-2.06-.94 2.06-2.06.94zm-11 1L8.5 8.5l.94-2.06 2.06-.94-2.06-.94L8.5 2.5l-.94 2.06-2.06.94zm10 10l.94 2.06.94-2.06 2.06-.94-2.06-.94-.94-2.06-.94 2.06-2.06.94z\"/><path d=\"M17.41 7.96l-1.37-1.37c-.4-.4-.92-.59-1.43-.59-.52 0-1.04.2-1.43.59L10.3 9.45l-7.72 7.72c-.78.78-.78 2.05 0 2.83L4 21.41c.39.39.9.59 1.41.59.51 0 1.02-.2 1.41-.59l7.78-7.78 2.81-2.81c.8-.78.8-2.07 0-2.86zM5.41 20L4 18.59l7.72-7.72 1.47 1.35L5.41 20z\"/>\n",
              "  </svg>\n",
              "      </button>\n",
              "\n",
              "\n",
              "\n",
              "    <div id=\"df-d62466c7-a7a5-4a37-af96-16357b4f7a7c\">\n",
              "      <button class=\"colab-df-quickchart\" onclick=\"quickchart('df-d62466c7-a7a5-4a37-af96-16357b4f7a7c')\"\n",
              "              title=\"Suggest charts.\"\n",
              "              style=\"display:none;\">\n",
              "\n",
              "<svg xmlns=\"http://www.w3.org/2000/svg\" height=\"24px\"viewBox=\"0 0 24 24\"\n",
              "     width=\"24px\">\n",
              "    <g>\n",
              "        <path d=\"M19 3H5c-1.1 0-2 .9-2 2v14c0 1.1.9 2 2 2h14c1.1 0 2-.9 2-2V5c0-1.1-.9-2-2-2zM9 17H7v-7h2v7zm4 0h-2V7h2v10zm4 0h-2v-4h2v4z\"/>\n",
              "    </g>\n",
              "</svg>\n",
              "      </button>\n",
              "    </div>\n",
              "\n",
              "<style>\n",
              "  .colab-df-quickchart {\n",
              "    background-color: #E8F0FE;\n",
              "    border: none;\n",
              "    border-radius: 50%;\n",
              "    cursor: pointer;\n",
              "    display: none;\n",
              "    fill: #1967D2;\n",
              "    height: 32px;\n",
              "    padding: 0 0 0 0;\n",
              "    width: 32px;\n",
              "  }\n",
              "\n",
              "  .colab-df-quickchart:hover {\n",
              "    background-color: #E2EBFA;\n",
              "    box-shadow: 0px 1px 2px rgba(60, 64, 67, 0.3), 0px 1px 3px 1px rgba(60, 64, 67, 0.15);\n",
              "    fill: #174EA6;\n",
              "  }\n",
              "\n",
              "  [theme=dark] .colab-df-quickchart {\n",
              "    background-color: #3B4455;\n",
              "    fill: #D2E3FC;\n",
              "  }\n",
              "\n",
              "  [theme=dark] .colab-df-quickchart:hover {\n",
              "    background-color: #434B5C;\n",
              "    box-shadow: 0px 1px 3px 1px rgba(0, 0, 0, 0.15);\n",
              "    filter: drop-shadow(0px 1px 2px rgba(0, 0, 0, 0.3));\n",
              "    fill: #FFFFFF;\n",
              "  }\n",
              "</style>\n",
              "\n",
              "    <script>\n",
              "      async function quickchart(key) {\n",
              "        const containerElement = document.querySelector('#' + key);\n",
              "        const charts = await google.colab.kernel.invokeFunction(\n",
              "            'suggestCharts', [key], {});\n",
              "      }\n",
              "    </script>\n",
              "\n",
              "      <script>\n",
              "\n",
              "function displayQuickchartButton(domScope) {\n",
              "  let quickchartButtonEl =\n",
              "    domScope.querySelector('#df-d62466c7-a7a5-4a37-af96-16357b4f7a7c button.colab-df-quickchart');\n",
              "  quickchartButtonEl.style.display =\n",
              "    google.colab.kernel.accessAllowed ? 'block' : 'none';\n",
              "}\n",
              "\n",
              "        displayQuickchartButton(document);\n",
              "      </script>\n",
              "      <style>\n",
              "    .colab-df-container {\n",
              "      display:flex;\n",
              "      flex-wrap:wrap;\n",
              "      gap: 12px;\n",
              "    }\n",
              "\n",
              "    .colab-df-convert {\n",
              "      background-color: #E8F0FE;\n",
              "      border: none;\n",
              "      border-radius: 50%;\n",
              "      cursor: pointer;\n",
              "      display: none;\n",
              "      fill: #1967D2;\n",
              "      height: 32px;\n",
              "      padding: 0 0 0 0;\n",
              "      width: 32px;\n",
              "    }\n",
              "\n",
              "    .colab-df-convert:hover {\n",
              "      background-color: #E2EBFA;\n",
              "      box-shadow: 0px 1px 2px rgba(60, 64, 67, 0.3), 0px 1px 3px 1px rgba(60, 64, 67, 0.15);\n",
              "      fill: #174EA6;\n",
              "    }\n",
              "\n",
              "    [theme=dark] .colab-df-convert {\n",
              "      background-color: #3B4455;\n",
              "      fill: #D2E3FC;\n",
              "    }\n",
              "\n",
              "    [theme=dark] .colab-df-convert:hover {\n",
              "      background-color: #434B5C;\n",
              "      box-shadow: 0px 1px 3px 1px rgba(0, 0, 0, 0.15);\n",
              "      filter: drop-shadow(0px 1px 2px rgba(0, 0, 0, 0.3));\n",
              "      fill: #FFFFFF;\n",
              "    }\n",
              "  </style>\n",
              "\n",
              "      <script>\n",
              "        const buttonEl =\n",
              "          document.querySelector('#df-f93b9e21-be58-4275-b043-f814a2e9f05b button.colab-df-convert');\n",
              "        buttonEl.style.display =\n",
              "          google.colab.kernel.accessAllowed ? 'block' : 'none';\n",
              "\n",
              "        async function convertToInteractive(key) {\n",
              "          const element = document.querySelector('#df-f93b9e21-be58-4275-b043-f814a2e9f05b');\n",
              "          const dataTable =\n",
              "            await google.colab.kernel.invokeFunction('convertToInteractive',\n",
              "                                                     [key], {});\n",
              "          if (!dataTable) return;\n",
              "\n",
              "          const docLinkHtml = 'Like what you see? Visit the ' +\n",
              "            '<a target=\"_blank\" href=https://colab.research.google.com/notebooks/data_table.ipynb>data table notebook</a>'\n",
              "            + ' to learn more about interactive tables.';\n",
              "          element.innerHTML = '';\n",
              "          dataTable['output_type'] = 'display_data';\n",
              "          await google.colab.output.renderOutput(dataTable, element);\n",
              "          const docLink = document.createElement('div');\n",
              "          docLink.innerHTML = docLinkHtml;\n",
              "          element.appendChild(docLink);\n",
              "        }\n",
              "      </script>\n",
              "    </div>\n",
              "  </div>\n"
            ]
          },
          "metadata": {},
          "execution_count": 30
        }
      ]
    },
    {
      "cell_type": "code",
      "source": [
        "type(df2.belongs_to_collection[0])"
      ],
      "metadata": {
        "colab": {
          "base_uri": "https://localhost:8080/"
        },
        "id": "kwqc_gnMJ2Zq",
        "outputId": "d9fe269e-7df5-441a-b392-1a90dff3c9a8"
      },
      "execution_count": 31,
      "outputs": [
        {
          "output_type": "execute_result",
          "data": {
            "text/plain": [
              "str"
            ]
          },
          "metadata": {},
          "execution_count": 31
        }
      ]
    },
    {
      "cell_type": "markdown",
      "source": [
        "luego de analizar la estructura y el tipo de la columna belong_to_collection ,extraigo la informacion requerida"
      ],
      "metadata": {
        "id": "7aVuOjCyOBek"
      }
    },
    {
      "cell_type": "code",
      "source": [
        "df2.belongs_to_collection=df2.belongs_to_collection.astype('str', errors='raise')"
      ],
      "metadata": {
        "id": "irqF3XFuJ_qF"
      },
      "execution_count": 32,
      "outputs": []
    },
    {
      "cell_type": "code",
      "source": [
        "import ast\n",
        "# inicialiso diccionario\n",
        "dictionary={}\n",
        "li=[]\n",
        "\n",
        "for i in range(len(df)):\n",
        "\n",
        "    if  df2.belongs_to_collection[i]!='nan':\n",
        "      # string a diccionario\n",
        "        dictionary = ast.literal_eval(df2.belongs_to_collection[i])\n",
        "        #evito los valores nulos comparandolo como  un tipo de dato distinto\n",
        "        if type(dictionary) !=float:\n",
        "            li.append(dictionary[\"name\"])\n",
        "            #imprime los valores ,permite visualizacion progreso\n",
        "            #print(dictionary[\"name\"])\n",
        "    else:\n",
        "        li.append(\"sin_franquicia\")\n",
        "df2[\"Franquicia_P\"]=pd.Series(li)\n",
        "\n",
        "#dfc.Franquicia_P.fillna('sin_franquicia',inplace=True)"
      ],
      "metadata": {
        "id": "QmA1Fh42KIcs"
      },
      "execution_count": 33,
      "outputs": []
    },
    {
      "cell_type": "code",
      "source": [
        "df2.Franquicia_P.isnull()"
      ],
      "metadata": {
        "colab": {
          "base_uri": "https://localhost:8080/"
        },
        "id": "4E8XKxSpKVWJ",
        "outputId": "ff8e7172-4ce9-4231-ddd5-9fe323b2c8a4"
      },
      "execution_count": 34,
      "outputs": [
        {
          "output_type": "execute_result",
          "data": {
            "text/plain": [
              "0        False\n",
              "1        False\n",
              "2        False\n",
              "3        False\n",
              "4        False\n",
              "         ...  \n",
              "45374    False\n",
              "45375    False\n",
              "45376     True\n",
              "45377     True\n",
              "45378     True\n",
              "Name: Franquicia_P, Length: 45379, dtype: bool"
            ]
          },
          "metadata": {},
          "execution_count": 34
        }
      ]
    },
    {
      "cell_type": "code",
      "source": [
        "df2.Franquicia_P.fillna('sin_franquicia',inplace=True)"
      ],
      "metadata": {
        "id": "i1hjEyk2KcM7"
      },
      "execution_count": 35,
      "outputs": []
    },
    {
      "cell_type": "code",
      "source": [
        "df2.Franquicia_P.isnull()"
      ],
      "metadata": {
        "colab": {
          "base_uri": "https://localhost:8080/"
        },
        "id": "jQu6aNyfKkVD",
        "outputId": "0642c392-c6d1-4f92-c706-c04f401682cc"
      },
      "execution_count": 36,
      "outputs": [
        {
          "output_type": "execute_result",
          "data": {
            "text/plain": [
              "0        False\n",
              "1        False\n",
              "2        False\n",
              "3        False\n",
              "4        False\n",
              "         ...  \n",
              "45374    False\n",
              "45375    False\n",
              "45376    False\n",
              "45377    False\n",
              "45378    False\n",
              "Name: Franquicia_P, Length: 45379, dtype: bool"
            ]
          },
          "metadata": {},
          "execution_count": 36
        }
      ]
    },
    {
      "cell_type": "code",
      "source": [
        "df2.info()"
      ],
      "metadata": {
        "colab": {
          "base_uri": "https://localhost:8080/"
        },
        "id": "jmrrE5G2K-kc",
        "outputId": "baa122ec-12c3-4c09-8f3b-a7e88049157f"
      },
      "execution_count": 37,
      "outputs": [
        {
          "output_type": "stream",
          "name": "stdout",
          "text": [
            "<class 'pandas.core.frame.DataFrame'>\n",
            "RangeIndex: 45379 entries, 0 to 45378\n",
            "Data columns (total 15 columns):\n",
            " #   Column                 Non-Null Count  Dtype         \n",
            "---  ------                 --------------  -----         \n",
            " 0   belongs_to_collection  45379 non-null  object        \n",
            " 1   budget                 45379 non-null  float64       \n",
            " 2   id                     45379 non-null  object        \n",
            " 3   original_language      45368 non-null  object        \n",
            " 4   production_companies   45379 non-null  object        \n",
            " 5   production_countries   45379 non-null  object        \n",
            " 6   release_date           45379 non-null  datetime64[ns]\n",
            " 7   revenue                45379 non-null  float64       \n",
            " 8   runtime                45130 non-null  float64       \n",
            " 9   title                  45376 non-null  object        \n",
            " 10  vote_average           45376 non-null  float64       \n",
            " 11  vote_count             45376 non-null  float64       \n",
            " 12  release_year           45379 non-null  string        \n",
            " 13  return                 45379 non-null  int64         \n",
            " 14  Franquicia_P           45379 non-null  object        \n",
            "dtypes: datetime64[ns](1), float64(5), int64(1), object(7), string(1)\n",
            "memory usage: 5.2+ MB\n"
          ]
        }
      ]
    },
    {
      "cell_type": "code",
      "source": [
        "df2.Franquicia_P.value_counts()"
      ],
      "metadata": {
        "colab": {
          "base_uri": "https://localhost:8080/"
        },
        "id": "E7Zsyr8ALGND",
        "outputId": "9cdb2d36-7307-44d5-b9a7-5ceb05ed80ab"
      },
      "execution_count": 38,
      "outputs": [
        {
          "output_type": "execute_result",
          "data": {
            "text/plain": [
              "sin_franquicia                   40891\n",
              "The Bowery Boys                     29\n",
              "Totò Collection                     27\n",
              "James Bond Collection               26\n",
              "Zatôichi: The Blind Swordsman       26\n",
              "                                 ...  \n",
              "Glass Tiger collection               1\n",
              "Kathleen Madigan Collection          1\n",
              "The Big Bottom Box                   1\n",
              "Joséphine - Saga                     1\n",
              "Red Lotus Collection                 1\n",
              "Name: Franquicia_P, Length: 1696, dtype: int64"
            ]
          },
          "metadata": {},
          "execution_count": 38
        }
      ]
    },
    {
      "cell_type": "code",
      "source": [
        "def franquicia( Franquicia:str ):\n",
        "  ganancia=0\n",
        "  cant=0\n",
        "  for i  in range(len(df2)):\n",
        "      if df2.Franquicia_P[i]==Franquicia:\n",
        "          cant=cant+1\n",
        "          ganancia=ganancia+df2.revenue[i]\n",
        "  if cant==0:\n",
        "      return{'Ingreso incorrecto,recuerde escribir todo en minusculas'}\n",
        "  else:\n",
        "      return{'La franquicia':Franquicia, 'posee  peliculas':cant, 'una ganancia total de': ganancia,' y una ganancia promedio de':ganancia/cant}"
      ],
      "metadata": {
        "id": "BnA6FWiNNM8m"
      },
      "execution_count": 39,
      "outputs": []
    },
    {
      "cell_type": "code",
      "source": [
        "franquicia(\"Toy Story Collection\")"
      ],
      "metadata": {
        "colab": {
          "base_uri": "https://localhost:8080/"
        },
        "id": "uSrhZKxfNdXf",
        "outputId": "24dc4648-0225-401d-da38-3b7eb1444661"
      },
      "execution_count": 40,
      "outputs": [
        {
          "output_type": "execute_result",
          "data": {
            "text/plain": [
              "{'La franquicia': 'Toy Story Collection',\n",
              " 'posee  peliculas': 3,\n",
              " 'una ganancia total de': 1937890605.0,\n",
              " ' y una ganancia promedio de': 645963535.0}"
            ]
          },
          "metadata": {},
          "execution_count": 40
        }
      ]
    },
    {
      "cell_type": "code",
      "source": [
        "#Verifico lo resultados de la api\n",
        "df2[df2.Franquicia_P==\"Toy Story Collection\"].title"
      ],
      "metadata": {
        "colab": {
          "base_uri": "https://localhost:8080/"
        },
        "id": "98CJHozmNi9l",
        "outputId": "f8f14030-fede-48a7-b7aa-af5565cbecec"
      },
      "execution_count": 41,
      "outputs": [
        {
          "output_type": "execute_result",
          "data": {
            "text/plain": [
              "0          Toy Story\n",
              "2995     Toy Story 2\n",
              "15341    Toy Story 3\n",
              "Name: title, dtype: object"
            ]
          },
          "metadata": {},
          "execution_count": 41
        }
      ]
    },
    {
      "cell_type": "markdown",
      "source": [
        "## **Endpoint : def peliculas_pais( Pais)**"
      ],
      "metadata": {
        "id": "1s_G1jh6NrkB"
      }
    },
    {
      "cell_type": "code",
      "source": [
        "df2.production_countries[1]"
      ],
      "metadata": {
        "colab": {
          "base_uri": "https://localhost:8080/",
          "height": 35
        },
        "id": "2p90p6nMRDPv",
        "outputId": "72794c0c-bc78-4a4e-e69f-0a256dc415e4"
      },
      "execution_count": 42,
      "outputs": [
        {
          "output_type": "execute_result",
          "data": {
            "text/plain": [
              "\"[{'iso_3166_1': 'US', 'name': 'United States of America'}]\""
            ],
            "application/vnd.google.colaboratory.intrinsic+json": {
              "type": "string"
            }
          },
          "metadata": {},
          "execution_count": 42
        }
      ]
    },
    {
      "cell_type": "code",
      "source": [
        "df2.production_countries=df2.production_countries.astype('str', errors='raise')"
      ],
      "metadata": {
        "id": "LKLEDVsORfaj"
      },
      "execution_count": 43,
      "outputs": []
    },
    {
      "cell_type": "code",
      "source": [
        "df2.production_countries.value_counts()"
      ],
      "metadata": {
        "colab": {
          "base_uri": "https://localhost:8080/"
        },
        "id": "XdSSr1YhRsWc",
        "outputId": "0a08c2dc-7210-4922-cd55-1274597a54fd"
      },
      "execution_count": 44,
      "outputs": [
        {
          "output_type": "execute_result",
          "data": {
            "text/plain": [
              "[{'iso_3166_1': 'US', 'name': 'United States of America'}]                                                                                                          17846\n",
              "[]                                                                                                                                                                   6211\n",
              "[{'iso_3166_1': 'GB', 'name': 'United Kingdom'}]                                                                                                                     2235\n",
              "[{'iso_3166_1': 'FR', 'name': 'France'}]                                                                                                                             1653\n",
              "[{'iso_3166_1': 'JP', 'name': 'Japan'}]                                                                                                                              1356\n",
              "                                                                                                                                                                    ...  \n",
              "[{'iso_3166_1': 'AU', 'name': 'Australia'}, {'iso_3166_1': 'ZA', 'name': 'South Africa'}]                                                                               1\n",
              "[{'iso_3166_1': 'RO', 'name': 'Romania'}, {'iso_3166_1': 'GB', 'name': 'United Kingdom'}, {'iso_3166_1': 'CA', 'name': 'Canada'}]                                       1\n",
              "[{'iso_3166_1': 'FI', 'name': 'Finland'}, {'iso_3166_1': 'DE', 'name': 'Germany'}, {'iso_3166_1': 'NL', 'name': 'Netherlands'}]                                         1\n",
              "[{'iso_3166_1': 'FR', 'name': 'France'}, {'iso_3166_1': 'DK', 'name': 'Denmark'}, {'iso_3166_1': 'ES', 'name': 'Spain'}, {'iso_3166_1': 'SE', 'name': 'Sweden'}]        1\n",
              "[{'iso_3166_1': 'EG', 'name': 'Egypt'}, {'iso_3166_1': 'IT', 'name': 'Italy'}, {'iso_3166_1': 'US', 'name': 'United States of America'}]                                1\n",
              "Name: production_countries, Length: 2392, dtype: int64"
            ]
          },
          "metadata": {},
          "execution_count": 44
        }
      ]
    },
    {
      "cell_type": "code",
      "source": [
        "import ast\n",
        "# initialising string dictionary\n",
        "dictionary={}\n",
        "lit=[]\n",
        "lista=[]\n",
        "err=[]\n",
        "for i in range(len(df2)):\n",
        "    string = df2.production_countries[i]\n",
        "    if string=='[]':\n",
        "         lista.append('sin_informacion')\n",
        "    else:\n",
        "        lit=[]\n",
        "        if  df2.production_countries[i]!='nan':\n",
        "            #caracteres a eliminar\n",
        "            characters = \"[]\"\n",
        "\n",
        "            for x in range(len(characters)):\n",
        "                string = string.replace(characters[x],\"\")\n",
        "            #evaluo la cadena resultante\n",
        "            dictionary = ast.literal_eval(string)\n",
        "            #asigno tratamiento segun tipo\n",
        "            if type(dictionary)==tuple:\n",
        "                for y in dictionary:\n",
        "                    yy=str(y)\n",
        "                    di=ast.literal_eval(yy)\n",
        "                    lit.append(di[\"name\"])\n",
        "                lista.append(lit)\n",
        "            elif type(dictionary)==dict :\n",
        "                lista.append(dictionary[\"name\"])\n",
        "            else:\n",
        "                #busqueda discrepancias y errores\n",
        "                err.append(i)\n",
        "                lista.append(\"sin_informacion\")\n",
        "\n",
        "        else:\n",
        "            lista.append(\"sin_informacion\")\n",
        "##########print('errores:',err)\n",
        "df2[\"paises\"]=pd.Series(lista)"
      ],
      "metadata": {
        "id": "NHuARWBLRxUf"
      },
      "execution_count": 45,
      "outputs": []
    },
    {
      "cell_type": "code",
      "source": [
        "# errores posiciones: [19714, 29472, 35543]\n",
        " #dffr.production_countries[]\n",
        "df2.iloc[35543]# valores a eliminar"
      ],
      "metadata": {
        "colab": {
          "base_uri": "https://localhost:8080/"
        },
        "id": "-Xheqc57St8u",
        "outputId": "38b4f9a8-b897-4beb-a5a9-6ea9f417f96e"
      },
      "execution_count": 46,
      "outputs": [
        {
          "output_type": "execute_result",
          "data": {
            "text/plain": [
              "belongs_to_collection               2.185485\n",
              "budget                                   0.0\n",
              "id                                2014-01-01\n",
              "original_language                       82.0\n",
              "production_companies                   False\n",
              "production_countries                     4.3\n",
              "release_date             2000-01-01 00:00:00\n",
              "revenue                                  0.0\n",
              "runtime                                  NaN\n",
              "title                                    NaN\n",
              "vote_average                             NaN\n",
              "vote_count                               NaN\n",
              "release_year                            2000\n",
              "return                                     0\n",
              "Franquicia_P                  sin_franquicia\n",
              "paises                       sin_informacion\n",
              "Name: 35543, dtype: object"
            ]
          },
          "metadata": {},
          "execution_count": 46
        }
      ]
    },
    {
      "cell_type": "code",
      "source": [
        "df2[df2.paises.isnull()]"
      ],
      "metadata": {
        "colab": {
          "base_uri": "https://localhost:8080/",
          "height": 113
        },
        "id": "i53KZPqFSU55",
        "outputId": "247d7863-fe2a-4da2-f4cd-cb92e3593cf3"
      },
      "execution_count": 47,
      "outputs": [
        {
          "output_type": "execute_result",
          "data": {
            "text/plain": [
              "Empty DataFrame\n",
              "Columns: [belongs_to_collection, budget, id, original_language, production_companies, production_countries, release_date, revenue, runtime, title, vote_average, vote_count, release_year, return, Franquicia_P, paises]\n",
              "Index: []"
            ],
            "text/html": [
              "\n",
              "\n",
              "  <div id=\"df-0044c405-e1a8-4c81-9895-427c07837477\">\n",
              "    <div class=\"colab-df-container\">\n",
              "      <div>\n",
              "<style scoped>\n",
              "    .dataframe tbody tr th:only-of-type {\n",
              "        vertical-align: middle;\n",
              "    }\n",
              "\n",
              "    .dataframe tbody tr th {\n",
              "        vertical-align: top;\n",
              "    }\n",
              "\n",
              "    .dataframe thead th {\n",
              "        text-align: right;\n",
              "    }\n",
              "</style>\n",
              "<table border=\"1\" class=\"dataframe\">\n",
              "  <thead>\n",
              "    <tr style=\"text-align: right;\">\n",
              "      <th></th>\n",
              "      <th>belongs_to_collection</th>\n",
              "      <th>budget</th>\n",
              "      <th>id</th>\n",
              "      <th>original_language</th>\n",
              "      <th>production_companies</th>\n",
              "      <th>production_countries</th>\n",
              "      <th>release_date</th>\n",
              "      <th>revenue</th>\n",
              "      <th>runtime</th>\n",
              "      <th>title</th>\n",
              "      <th>vote_average</th>\n",
              "      <th>vote_count</th>\n",
              "      <th>release_year</th>\n",
              "      <th>return</th>\n",
              "      <th>Franquicia_P</th>\n",
              "      <th>paises</th>\n",
              "    </tr>\n",
              "  </thead>\n",
              "  <tbody>\n",
              "  </tbody>\n",
              "</table>\n",
              "</div>\n",
              "      <button class=\"colab-df-convert\" onclick=\"convertToInteractive('df-0044c405-e1a8-4c81-9895-427c07837477')\"\n",
              "              title=\"Convert this dataframe to an interactive table.\"\n",
              "              style=\"display:none;\">\n",
              "\n",
              "  <svg xmlns=\"http://www.w3.org/2000/svg\" height=\"24px\"viewBox=\"0 0 24 24\"\n",
              "       width=\"24px\">\n",
              "    <path d=\"M0 0h24v24H0V0z\" fill=\"none\"/>\n",
              "    <path d=\"M18.56 5.44l.94 2.06.94-2.06 2.06-.94-2.06-.94-.94-2.06-.94 2.06-2.06.94zm-11 1L8.5 8.5l.94-2.06 2.06-.94-2.06-.94L8.5 2.5l-.94 2.06-2.06.94zm10 10l.94 2.06.94-2.06 2.06-.94-2.06-.94-.94-2.06-.94 2.06-2.06.94z\"/><path d=\"M17.41 7.96l-1.37-1.37c-.4-.4-.92-.59-1.43-.59-.52 0-1.04.2-1.43.59L10.3 9.45l-7.72 7.72c-.78.78-.78 2.05 0 2.83L4 21.41c.39.39.9.59 1.41.59.51 0 1.02-.2 1.41-.59l7.78-7.78 2.81-2.81c.8-.78.8-2.07 0-2.86zM5.41 20L4 18.59l7.72-7.72 1.47 1.35L5.41 20z\"/>\n",
              "  </svg>\n",
              "      </button>\n",
              "\n",
              "\n",
              "\n",
              "    <div id=\"df-f56cc938-187b-4c0d-b8bf-3f8b0a3e1325\">\n",
              "      <button class=\"colab-df-quickchart\" onclick=\"quickchart('df-f56cc938-187b-4c0d-b8bf-3f8b0a3e1325')\"\n",
              "              title=\"Suggest charts.\"\n",
              "              style=\"display:none;\">\n",
              "\n",
              "<svg xmlns=\"http://www.w3.org/2000/svg\" height=\"24px\"viewBox=\"0 0 24 24\"\n",
              "     width=\"24px\">\n",
              "    <g>\n",
              "        <path d=\"M19 3H5c-1.1 0-2 .9-2 2v14c0 1.1.9 2 2 2h14c1.1 0 2-.9 2-2V5c0-1.1-.9-2-2-2zM9 17H7v-7h2v7zm4 0h-2V7h2v10zm4 0h-2v-4h2v4z\"/>\n",
              "    </g>\n",
              "</svg>\n",
              "      </button>\n",
              "    </div>\n",
              "\n",
              "<style>\n",
              "  .colab-df-quickchart {\n",
              "    background-color: #E8F0FE;\n",
              "    border: none;\n",
              "    border-radius: 50%;\n",
              "    cursor: pointer;\n",
              "    display: none;\n",
              "    fill: #1967D2;\n",
              "    height: 32px;\n",
              "    padding: 0 0 0 0;\n",
              "    width: 32px;\n",
              "  }\n",
              "\n",
              "  .colab-df-quickchart:hover {\n",
              "    background-color: #E2EBFA;\n",
              "    box-shadow: 0px 1px 2px rgba(60, 64, 67, 0.3), 0px 1px 3px 1px rgba(60, 64, 67, 0.15);\n",
              "    fill: #174EA6;\n",
              "  }\n",
              "\n",
              "  [theme=dark] .colab-df-quickchart {\n",
              "    background-color: #3B4455;\n",
              "    fill: #D2E3FC;\n",
              "  }\n",
              "\n",
              "  [theme=dark] .colab-df-quickchart:hover {\n",
              "    background-color: #434B5C;\n",
              "    box-shadow: 0px 1px 3px 1px rgba(0, 0, 0, 0.15);\n",
              "    filter: drop-shadow(0px 1px 2px rgba(0, 0, 0, 0.3));\n",
              "    fill: #FFFFFF;\n",
              "  }\n",
              "</style>\n",
              "\n",
              "    <script>\n",
              "      async function quickchart(key) {\n",
              "        const containerElement = document.querySelector('#' + key);\n",
              "        const charts = await google.colab.kernel.invokeFunction(\n",
              "            'suggestCharts', [key], {});\n",
              "      }\n",
              "    </script>\n",
              "\n",
              "      <script>\n",
              "\n",
              "function displayQuickchartButton(domScope) {\n",
              "  let quickchartButtonEl =\n",
              "    domScope.querySelector('#df-f56cc938-187b-4c0d-b8bf-3f8b0a3e1325 button.colab-df-quickchart');\n",
              "  quickchartButtonEl.style.display =\n",
              "    google.colab.kernel.accessAllowed ? 'block' : 'none';\n",
              "}\n",
              "\n",
              "        displayQuickchartButton(document);\n",
              "      </script>\n",
              "      <style>\n",
              "    .colab-df-container {\n",
              "      display:flex;\n",
              "      flex-wrap:wrap;\n",
              "      gap: 12px;\n",
              "    }\n",
              "\n",
              "    .colab-df-convert {\n",
              "      background-color: #E8F0FE;\n",
              "      border: none;\n",
              "      border-radius: 50%;\n",
              "      cursor: pointer;\n",
              "      display: none;\n",
              "      fill: #1967D2;\n",
              "      height: 32px;\n",
              "      padding: 0 0 0 0;\n",
              "      width: 32px;\n",
              "    }\n",
              "\n",
              "    .colab-df-convert:hover {\n",
              "      background-color: #E2EBFA;\n",
              "      box-shadow: 0px 1px 2px rgba(60, 64, 67, 0.3), 0px 1px 3px 1px rgba(60, 64, 67, 0.15);\n",
              "      fill: #174EA6;\n",
              "    }\n",
              "\n",
              "    [theme=dark] .colab-df-convert {\n",
              "      background-color: #3B4455;\n",
              "      fill: #D2E3FC;\n",
              "    }\n",
              "\n",
              "    [theme=dark] .colab-df-convert:hover {\n",
              "      background-color: #434B5C;\n",
              "      box-shadow: 0px 1px 3px 1px rgba(0, 0, 0, 0.15);\n",
              "      filter: drop-shadow(0px 1px 2px rgba(0, 0, 0, 0.3));\n",
              "      fill: #FFFFFF;\n",
              "    }\n",
              "  </style>\n",
              "\n",
              "      <script>\n",
              "        const buttonEl =\n",
              "          document.querySelector('#df-0044c405-e1a8-4c81-9895-427c07837477 button.colab-df-convert');\n",
              "        buttonEl.style.display =\n",
              "          google.colab.kernel.accessAllowed ? 'block' : 'none';\n",
              "\n",
              "        async function convertToInteractive(key) {\n",
              "          const element = document.querySelector('#df-0044c405-e1a8-4c81-9895-427c07837477');\n",
              "          const dataTable =\n",
              "            await google.colab.kernel.invokeFunction('convertToInteractive',\n",
              "                                                     [key], {});\n",
              "          if (!dataTable) return;\n",
              "\n",
              "          const docLinkHtml = 'Like what you see? Visit the ' +\n",
              "            '<a target=\"_blank\" href=https://colab.research.google.com/notebooks/data_table.ipynb>data table notebook</a>'\n",
              "            + ' to learn more about interactive tables.';\n",
              "          element.innerHTML = '';\n",
              "          dataTable['output_type'] = 'display_data';\n",
              "          await google.colab.output.renderOutput(dataTable, element);\n",
              "          const docLink = document.createElement('div');\n",
              "          docLink.innerHTML = docLinkHtml;\n",
              "          element.appendChild(docLink);\n",
              "        }\n",
              "      </script>\n",
              "    </div>\n",
              "  </div>\n"
            ]
          },
          "metadata": {},
          "execution_count": 47
        }
      ]
    },
    {
      "cell_type": "code",
      "source": [
        "df2.paises.value_counts()"
      ],
      "metadata": {
        "colab": {
          "base_uri": "https://localhost:8080/"
        },
        "id": "8AWA1YCOSeYw",
        "outputId": "efefccac-1df6-49a0-ca33-a610a0fde6f0"
      },
      "execution_count": 48,
      "outputs": [
        {
          "output_type": "execute_result",
          "data": {
            "text/plain": [
              "United States of America                      17846\n",
              "sin_informacion                                6214\n",
              "United Kingdom                                 2235\n",
              "France                                         1653\n",
              "Japan                                          1356\n",
              "                                              ...  \n",
              "[Romania, United Kingdom, Canada]                 1\n",
              "[Finland, Germany, Netherlands]                   1\n",
              "[France, Denmark, Spain, Sweden]                  1\n",
              "[France, United States of America, Canada]        1\n",
              "[Egypt, Italy, United States of America]          1\n",
              "Name: paises, Length: 2389, dtype: int64"
            ]
          },
          "metadata": {},
          "execution_count": 48
        }
      ]
    },
    {
      "cell_type": "code",
      "source": [
        "# errores: [19714, 29472, 35543]\n",
        " #dffr.production_countries[]\n",
        "df2.iloc[35543]"
      ],
      "metadata": {
        "colab": {
          "base_uri": "https://localhost:8080/"
        },
        "id": "-LhnFrAWS8f2",
        "outputId": "c1fbd4a7-3259-4d2d-e6a7-0e3af43fef87"
      },
      "execution_count": 49,
      "outputs": [
        {
          "output_type": "execute_result",
          "data": {
            "text/plain": [
              "belongs_to_collection               2.185485\n",
              "budget                                   0.0\n",
              "id                                2014-01-01\n",
              "original_language                       82.0\n",
              "production_companies                   False\n",
              "production_countries                     4.3\n",
              "release_date             2000-01-01 00:00:00\n",
              "revenue                                  0.0\n",
              "runtime                                  NaN\n",
              "title                                    NaN\n",
              "vote_average                             NaN\n",
              "vote_count                               NaN\n",
              "release_year                            2000\n",
              "return                                     0\n",
              "Franquicia_P                  sin_franquicia\n",
              "paises                       sin_informacion\n",
              "Name: 35543, dtype: object"
            ]
          },
          "metadata": {},
          "execution_count": 49
        }
      ]
    },
    {
      "cell_type": "code",
      "source": [
        "def peliculas_pais( Pais: str ):\n",
        "# Se ingresa un país (como están escritos en el dataset, no hay que\n",
        "# traducirlos!), retornando la cantidad de peliculas producidas en el mismo.\n",
        "#                   Ejemplo de retorno: Se produjeron X películas en el país X\n",
        "\n",
        "  cant=0\n",
        "  for i  in range(len(df2.paises)):\n",
        "\n",
        "      if type(df2.paises[i])==list:\n",
        "          for j in df2.paises[i]:\n",
        "              #print(dffr.paises[i])\n",
        "              #print(j)\n",
        "              if j==Pais:\n",
        "                  cant=cant+1\n",
        "      else:\n",
        "          if df2.paises[i]==Pais:\n",
        "              cant=cant+1\n",
        "\n",
        "  if cant==0:\n",
        "      print('Ingreso incorrecto,recuerde escribir todo en minusculas')\n",
        "  return{'Se produjeron ':cant,' películas en el país ':Pais}"
      ],
      "metadata": {
        "id": "YfhP0qhnTuT7"
      },
      "execution_count": 50,
      "outputs": []
    },
    {
      "cell_type": "code",
      "source": [
        "peliculas_pais('United States of America')"
      ],
      "metadata": {
        "colab": {
          "base_uri": "https://localhost:8080/"
        },
        "id": "hPnmNoZxT-TT",
        "outputId": "e5e33527-2077-4117-df64-67b1fad34374"
      },
      "execution_count": 51,
      "outputs": [
        {
          "output_type": "execute_result",
          "data": {
            "text/plain": [
              "{'Se produjeron ': 21147, ' películas en el país ': 'United States of America'}"
            ]
          },
          "metadata": {},
          "execution_count": 51
        }
      ]
    },
    {
      "cell_type": "markdown",
      "source": [
        "## **Endpoint  : productoras_exitosas(Productora)**"
      ],
      "metadata": {
        "id": "iHCsenA1ULXE"
      }
    },
    {
      "cell_type": "code",
      "source": [
        "df2.production_companies.value_counts()"
      ],
      "metadata": {
        "colab": {
          "base_uri": "https://localhost:8080/"
        },
        "id": "JLtvYia2U2z6",
        "outputId": "3a300ba3-6ba8-4ed5-80fe-275d6659fb77"
      },
      "execution_count": 52,
      "outputs": [
        {
          "output_type": "execute_result",
          "data": {
            "text/plain": [
              "[]                                                                                                                      11796\n",
              "[{'name': 'Metro-Goldwyn-Mayer (MGM)', 'id': 8411}]                                                                       742\n",
              "[{'name': 'Warner Bros.', 'id': 6194}]                                                                                    540\n",
              "[{'name': 'Paramount Pictures', 'id': 4}]                                                                                 505\n",
              "[{'name': 'Twentieth Century Fox Film Corporation', 'id': 306}]                                                           439\n",
              "                                                                                                                        ...  \n",
              "[{'name': 'M.K.D. Films Combine', 'id': 28518}]                                                                             1\n",
              "[{'name': 'Circle Films', 'id': 11273}, {'name': 'DuArt', 'id': 20049}, {'name': 'Anyway Productions', 'id': 40240}]        1\n",
              "[{'name': 'Crown-Hausman', 'id': 73471}]                                                                                    1\n",
              "[{'name': 'Miracin Korea Film Company', 'id': 6597}]                                                                        1\n",
              "[{'name': 'Yermoliev', 'id': 88753}]                                                                                        1\n",
              "Name: production_companies, Length: 22704, dtype: int64"
            ]
          },
          "metadata": {},
          "execution_count": 52
        }
      ]
    },
    {
      "cell_type": "code",
      "source": [
        "df2.production_companies[1]"
      ],
      "metadata": {
        "colab": {
          "base_uri": "https://localhost:8080/",
          "height": 53
        },
        "id": "mMmHqJfeVBlP",
        "outputId": "6eda596d-e6e3-449e-da7e-0c0d35383435"
      },
      "execution_count": 53,
      "outputs": [
        {
          "output_type": "execute_result",
          "data": {
            "text/plain": [
              "\"[{'name': 'TriStar Pictures', 'id': 559}, {'name': 'Teitler Film', 'id': 2550}, {'name': 'Interscope Communications', 'id': 10201}]\""
            ],
            "application/vnd.google.colaboratory.intrinsic+json": {
              "type": "string"
            }
          },
          "metadata": {},
          "execution_count": 53
        }
      ]
    },
    {
      "cell_type": "markdown",
      "source": [
        "Luego de analizar la columna production _companies extraigo la informacion requerida"
      ],
      "metadata": {
        "id": "4qK04CeXPE55"
      }
    },
    {
      "cell_type": "code",
      "source": [
        "import ast\n",
        "# initialising string dictionary\n",
        "dictionary={}\n",
        "lit=[]\n",
        "lista=[]\n",
        "err=[]\n",
        "for i in range(len(df2)):\n",
        "    string = df2.production_companies[i]\n",
        "    if string=='[]':\n",
        "         lista.append('sin_informacion')\n",
        "    else:\n",
        "        lit=[]\n",
        "        if  df2.production_companies[i]!='nan':\n",
        "            #caracteres a eliminar\n",
        "            characters = \"[]\"\n",
        "\n",
        "            for x in range(len(characters)):\n",
        "                string = string.replace(characters[x],\"\")\n",
        "            #evaluo la cadena resultante\n",
        "            dictionary = ast.literal_eval(string)\n",
        "            #asigno tratamiento segun tipo\n",
        "            if type(dictionary)==tuple:\n",
        "                for y in dictionary:\n",
        "                    yy=str(y)\n",
        "                    di=ast.literal_eval(yy)\n",
        "                    lit.append(di[\"name\"])\n",
        "                lista.append(lit)\n",
        "            elif type(dictionary)==dict :\n",
        "                lista.append(dictionary[\"name\"])\n",
        "            else:\n",
        "                #busqueda discrepancias y errores\n",
        "                err.append(i)\n",
        "                lista.append(\"sin_informacion\")\n",
        "\n",
        "        else:\n",
        "            lista.append(\"sin_informacion\")\n",
        "##########print('errores:',err)\n",
        "df2[\"productoras\"]=pd.Series(lista)"
      ],
      "metadata": {
        "id": "MM6qAQAlVOyR"
      },
      "execution_count": 54,
      "outputs": []
    },
    {
      "cell_type": "code",
      "source": [
        "def productoras_exitosas( Productora: str ):\n",
        "#Se ingresa la productora, entregandote el revunue total y la cantidad de\n",
        "#peliculas que realizo.\n",
        "  ganancia=0\n",
        "  band=False\n",
        "  cant=0\n",
        "  for i  in range(len(df2.productoras)):\n",
        "      if type(df2.productoras[i])==list:\n",
        "          for j in df2.productoras[i]:\n",
        "              if j==Productora:\n",
        "                  band=True\n",
        "                  ganancia=ganancia+df2.revenue[i]\n",
        "                  cant=cant+1\n",
        "      else:\n",
        "          if df2.productoras[i]==Productora:\n",
        "              band=True\n",
        "              ganancia=ganancia+df2.revenue[i]\n",
        "              cant=cant+1\n",
        "  if band==False:\n",
        "      return{' Ingreso incorrecto,Recuerde diferenciar mayuscula y minusculas'}\n",
        "  else:\n",
        "      return{' La productora: ':Productora,' revenue_total ':ganancia,'cantidad':str(cant)}"
      ],
      "metadata": {
        "id": "AUNM6Xz6Vjsh"
      },
      "execution_count": 55,
      "outputs": []
    },
    {
      "cell_type": "code",
      "source": [
        "productoras_exitosas('Warner Bros.')"
      ],
      "metadata": {
        "colab": {
          "base_uri": "https://localhost:8080/"
        },
        "id": "FzUtpGcOWBLy",
        "outputId": "99df24ff-2be8-4be4-9fb7-835f05c57866"
      },
      "execution_count": 58,
      "outputs": [
        {
          "output_type": "execute_result",
          "data": {
            "text/plain": [
              "{' La productora: ': 'Warner Bros.',\n",
              " ' revenue_total ': 63525187272.0,\n",
              " 'cantidad': '1250'}"
            ]
          },
          "metadata": {},
          "execution_count": 58
        }
      ]
    },
    {
      "cell_type": "code",
      "source": [
        "df2.info()"
      ],
      "metadata": {
        "colab": {
          "base_uri": "https://localhost:8080/"
        },
        "id": "Riv6Zq4oaEzO",
        "outputId": "f0aee954-c7cc-4934-f3ca-0907f8a87d31"
      },
      "execution_count": 59,
      "outputs": [
        {
          "output_type": "stream",
          "name": "stdout",
          "text": [
            "<class 'pandas.core.frame.DataFrame'>\n",
            "RangeIndex: 45379 entries, 0 to 45378\n",
            "Data columns (total 17 columns):\n",
            " #   Column                 Non-Null Count  Dtype         \n",
            "---  ------                 --------------  -----         \n",
            " 0   belongs_to_collection  45379 non-null  object        \n",
            " 1   budget                 45379 non-null  float64       \n",
            " 2   id                     45379 non-null  object        \n",
            " 3   original_language      45368 non-null  object        \n",
            " 4   production_companies   45379 non-null  object        \n",
            " 5   production_countries   45379 non-null  object        \n",
            " 6   release_date           45379 non-null  datetime64[ns]\n",
            " 7   revenue                45379 non-null  float64       \n",
            " 8   runtime                45130 non-null  float64       \n",
            " 9   title                  45376 non-null  object        \n",
            " 10  vote_average           45376 non-null  float64       \n",
            " 11  vote_count             45376 non-null  float64       \n",
            " 12  release_year           45379 non-null  string        \n",
            " 13  return                 45379 non-null  int64         \n",
            " 14  Franquicia_P           45379 non-null  object        \n",
            " 15  paises                 45379 non-null  object        \n",
            " 16  productoras            45379 non-null  object        \n",
            "dtypes: datetime64[ns](1), float64(5), int64(1), object(9), string(1)\n",
            "memory usage: 5.9+ MB\n"
          ]
        }
      ]
    },
    {
      "cell_type": "markdown",
      "source": [
        "*csv final para consultas en deploy de api*"
      ],
      "metadata": {
        "id": "kLjT_3ESakkR"
      }
    },
    {
      "cell_type": "code",
      "source": [
        "df2.drop(['production_companies','production_countries','belongs_to_collection'], axis = 'columns', inplace=True)"
      ],
      "metadata": {
        "id": "zbjovyQFaigC"
      },
      "execution_count": 60,
      "outputs": []
    },
    {
      "cell_type": "code",
      "source": [
        "df2.info()"
      ],
      "metadata": {
        "colab": {
          "base_uri": "https://localhost:8080/"
        },
        "id": "S4XQL3FSbdmE",
        "outputId": "9fe083e5-786b-4ab0-a472-1ec25a9c7e3b"
      },
      "execution_count": 62,
      "outputs": [
        {
          "output_type": "stream",
          "name": "stdout",
          "text": [
            "<class 'pandas.core.frame.DataFrame'>\n",
            "RangeIndex: 45379 entries, 0 to 45378\n",
            "Data columns (total 14 columns):\n",
            " #   Column             Non-Null Count  Dtype         \n",
            "---  ------             --------------  -----         \n",
            " 0   budget             45379 non-null  float64       \n",
            " 1   id                 45379 non-null  object        \n",
            " 2   original_language  45368 non-null  object        \n",
            " 3   release_date       45379 non-null  datetime64[ns]\n",
            " 4   revenue            45379 non-null  float64       \n",
            " 5   runtime            45130 non-null  float64       \n",
            " 6   title              45376 non-null  object        \n",
            " 7   vote_average       45376 non-null  float64       \n",
            " 8   vote_count         45376 non-null  float64       \n",
            " 9   release_year       45379 non-null  string        \n",
            " 10  return             45379 non-null  int64         \n",
            " 11  Franquicia_P       45379 non-null  object        \n",
            " 12  paises             45379 non-null  object        \n",
            " 13  productoras        45379 non-null  object        \n",
            "dtypes: datetime64[ns](1), float64(5), int64(1), object(6), string(1)\n",
            "memory usage: 4.8+ MB\n"
          ]
        }
      ]
    },
    {
      "cell_type": "code",
      "source": [
        "df2.head(5)"
      ],
      "metadata": {
        "colab": {
          "base_uri": "https://localhost:8080/",
          "height": 548
        },
        "id": "Fo0CKhZ5bw_W",
        "outputId": "dcc99acb-ebc6-478d-aa34-b30cbfb6d9e8"
      },
      "execution_count": 63,
      "outputs": [
        {
          "output_type": "execute_result",
          "data": {
            "text/plain": [
              "       budget     id original_language release_date      revenue  runtime  \\\n",
              "0  30000000.0    862                en   1995-10-30  373554033.0     81.0   \n",
              "1  65000000.0   8844                en   1995-12-15  262797249.0    104.0   \n",
              "2         0.0  15602                en   1995-12-22          0.0    101.0   \n",
              "3  16000000.0  31357                en   1995-12-22   81452156.0    127.0   \n",
              "4         0.0  11862                en   1995-02-10   76578911.0    106.0   \n",
              "\n",
              "                         title  vote_average  vote_count release_year  return  \\\n",
              "0                    Toy Story           7.7      5415.0         1995       0   \n",
              "1                      Jumanji           6.9      2413.0         1995       0   \n",
              "2             Grumpier Old Men           6.5        92.0         1995       0   \n",
              "3            Waiting to Exhale           6.1        34.0         1995       0   \n",
              "4  Father of the Bride Part II           5.7       173.0         1995       0   \n",
              "\n",
              "                     Franquicia_P                    paises  \\\n",
              "0            Toy Story Collection  United States of America   \n",
              "1                  sin_franquicia  United States of America   \n",
              "2       Grumpy Old Men Collection  United States of America   \n",
              "3                  sin_franquicia  United States of America   \n",
              "4  Father of the Bride Collection  United States of America   \n",
              "\n",
              "                                         productoras  \n",
              "0                            Pixar Animation Studios  \n",
              "1  [TriStar Pictures, Teitler Film, Interscope Co...  \n",
              "2                     [Warner Bros., Lancaster Gate]  \n",
              "3             Twentieth Century Fox Film Corporation  \n",
              "4       [Sandollar Productions, Touchstone Pictures]  "
            ],
            "text/html": [
              "\n",
              "\n",
              "  <div id=\"df-4b1299c9-9ea1-430b-ab19-8839b18bf34a\">\n",
              "    <div class=\"colab-df-container\">\n",
              "      <div>\n",
              "<style scoped>\n",
              "    .dataframe tbody tr th:only-of-type {\n",
              "        vertical-align: middle;\n",
              "    }\n",
              "\n",
              "    .dataframe tbody tr th {\n",
              "        vertical-align: top;\n",
              "    }\n",
              "\n",
              "    .dataframe thead th {\n",
              "        text-align: right;\n",
              "    }\n",
              "</style>\n",
              "<table border=\"1\" class=\"dataframe\">\n",
              "  <thead>\n",
              "    <tr style=\"text-align: right;\">\n",
              "      <th></th>\n",
              "      <th>budget</th>\n",
              "      <th>id</th>\n",
              "      <th>original_language</th>\n",
              "      <th>release_date</th>\n",
              "      <th>revenue</th>\n",
              "      <th>runtime</th>\n",
              "      <th>title</th>\n",
              "      <th>vote_average</th>\n",
              "      <th>vote_count</th>\n",
              "      <th>release_year</th>\n",
              "      <th>return</th>\n",
              "      <th>Franquicia_P</th>\n",
              "      <th>paises</th>\n",
              "      <th>productoras</th>\n",
              "    </tr>\n",
              "  </thead>\n",
              "  <tbody>\n",
              "    <tr>\n",
              "      <th>0</th>\n",
              "      <td>30000000.0</td>\n",
              "      <td>862</td>\n",
              "      <td>en</td>\n",
              "      <td>1995-10-30</td>\n",
              "      <td>373554033.0</td>\n",
              "      <td>81.0</td>\n",
              "      <td>Toy Story</td>\n",
              "      <td>7.7</td>\n",
              "      <td>5415.0</td>\n",
              "      <td>1995</td>\n",
              "      <td>0</td>\n",
              "      <td>Toy Story Collection</td>\n",
              "      <td>United States of America</td>\n",
              "      <td>Pixar Animation Studios</td>\n",
              "    </tr>\n",
              "    <tr>\n",
              "      <th>1</th>\n",
              "      <td>65000000.0</td>\n",
              "      <td>8844</td>\n",
              "      <td>en</td>\n",
              "      <td>1995-12-15</td>\n",
              "      <td>262797249.0</td>\n",
              "      <td>104.0</td>\n",
              "      <td>Jumanji</td>\n",
              "      <td>6.9</td>\n",
              "      <td>2413.0</td>\n",
              "      <td>1995</td>\n",
              "      <td>0</td>\n",
              "      <td>sin_franquicia</td>\n",
              "      <td>United States of America</td>\n",
              "      <td>[TriStar Pictures, Teitler Film, Interscope Co...</td>\n",
              "    </tr>\n",
              "    <tr>\n",
              "      <th>2</th>\n",
              "      <td>0.0</td>\n",
              "      <td>15602</td>\n",
              "      <td>en</td>\n",
              "      <td>1995-12-22</td>\n",
              "      <td>0.0</td>\n",
              "      <td>101.0</td>\n",
              "      <td>Grumpier Old Men</td>\n",
              "      <td>6.5</td>\n",
              "      <td>92.0</td>\n",
              "      <td>1995</td>\n",
              "      <td>0</td>\n",
              "      <td>Grumpy Old Men Collection</td>\n",
              "      <td>United States of America</td>\n",
              "      <td>[Warner Bros., Lancaster Gate]</td>\n",
              "    </tr>\n",
              "    <tr>\n",
              "      <th>3</th>\n",
              "      <td>16000000.0</td>\n",
              "      <td>31357</td>\n",
              "      <td>en</td>\n",
              "      <td>1995-12-22</td>\n",
              "      <td>81452156.0</td>\n",
              "      <td>127.0</td>\n",
              "      <td>Waiting to Exhale</td>\n",
              "      <td>6.1</td>\n",
              "      <td>34.0</td>\n",
              "      <td>1995</td>\n",
              "      <td>0</td>\n",
              "      <td>sin_franquicia</td>\n",
              "      <td>United States of America</td>\n",
              "      <td>Twentieth Century Fox Film Corporation</td>\n",
              "    </tr>\n",
              "    <tr>\n",
              "      <th>4</th>\n",
              "      <td>0.0</td>\n",
              "      <td>11862</td>\n",
              "      <td>en</td>\n",
              "      <td>1995-02-10</td>\n",
              "      <td>76578911.0</td>\n",
              "      <td>106.0</td>\n",
              "      <td>Father of the Bride Part II</td>\n",
              "      <td>5.7</td>\n",
              "      <td>173.0</td>\n",
              "      <td>1995</td>\n",
              "      <td>0</td>\n",
              "      <td>Father of the Bride Collection</td>\n",
              "      <td>United States of America</td>\n",
              "      <td>[Sandollar Productions, Touchstone Pictures]</td>\n",
              "    </tr>\n",
              "  </tbody>\n",
              "</table>\n",
              "</div>\n",
              "      <button class=\"colab-df-convert\" onclick=\"convertToInteractive('df-4b1299c9-9ea1-430b-ab19-8839b18bf34a')\"\n",
              "              title=\"Convert this dataframe to an interactive table.\"\n",
              "              style=\"display:none;\">\n",
              "\n",
              "  <svg xmlns=\"http://www.w3.org/2000/svg\" height=\"24px\"viewBox=\"0 0 24 24\"\n",
              "       width=\"24px\">\n",
              "    <path d=\"M0 0h24v24H0V0z\" fill=\"none\"/>\n",
              "    <path d=\"M18.56 5.44l.94 2.06.94-2.06 2.06-.94-2.06-.94-.94-2.06-.94 2.06-2.06.94zm-11 1L8.5 8.5l.94-2.06 2.06-.94-2.06-.94L8.5 2.5l-.94 2.06-2.06.94zm10 10l.94 2.06.94-2.06 2.06-.94-2.06-.94-.94-2.06-.94 2.06-2.06.94z\"/><path d=\"M17.41 7.96l-1.37-1.37c-.4-.4-.92-.59-1.43-.59-.52 0-1.04.2-1.43.59L10.3 9.45l-7.72 7.72c-.78.78-.78 2.05 0 2.83L4 21.41c.39.39.9.59 1.41.59.51 0 1.02-.2 1.41-.59l7.78-7.78 2.81-2.81c.8-.78.8-2.07 0-2.86zM5.41 20L4 18.59l7.72-7.72 1.47 1.35L5.41 20z\"/>\n",
              "  </svg>\n",
              "      </button>\n",
              "\n",
              "\n",
              "\n",
              "    <div id=\"df-32f43a35-c1fb-4108-abb2-2edd7c1c2220\">\n",
              "      <button class=\"colab-df-quickchart\" onclick=\"quickchart('df-32f43a35-c1fb-4108-abb2-2edd7c1c2220')\"\n",
              "              title=\"Suggest charts.\"\n",
              "              style=\"display:none;\">\n",
              "\n",
              "<svg xmlns=\"http://www.w3.org/2000/svg\" height=\"24px\"viewBox=\"0 0 24 24\"\n",
              "     width=\"24px\">\n",
              "    <g>\n",
              "        <path d=\"M19 3H5c-1.1 0-2 .9-2 2v14c0 1.1.9 2 2 2h14c1.1 0 2-.9 2-2V5c0-1.1-.9-2-2-2zM9 17H7v-7h2v7zm4 0h-2V7h2v10zm4 0h-2v-4h2v4z\"/>\n",
              "    </g>\n",
              "</svg>\n",
              "      </button>\n",
              "    </div>\n",
              "\n",
              "<style>\n",
              "  .colab-df-quickchart {\n",
              "    background-color: #E8F0FE;\n",
              "    border: none;\n",
              "    border-radius: 50%;\n",
              "    cursor: pointer;\n",
              "    display: none;\n",
              "    fill: #1967D2;\n",
              "    height: 32px;\n",
              "    padding: 0 0 0 0;\n",
              "    width: 32px;\n",
              "  }\n",
              "\n",
              "  .colab-df-quickchart:hover {\n",
              "    background-color: #E2EBFA;\n",
              "    box-shadow: 0px 1px 2px rgba(60, 64, 67, 0.3), 0px 1px 3px 1px rgba(60, 64, 67, 0.15);\n",
              "    fill: #174EA6;\n",
              "  }\n",
              "\n",
              "  [theme=dark] .colab-df-quickchart {\n",
              "    background-color: #3B4455;\n",
              "    fill: #D2E3FC;\n",
              "  }\n",
              "\n",
              "  [theme=dark] .colab-df-quickchart:hover {\n",
              "    background-color: #434B5C;\n",
              "    box-shadow: 0px 1px 3px 1px rgba(0, 0, 0, 0.15);\n",
              "    filter: drop-shadow(0px 1px 2px rgba(0, 0, 0, 0.3));\n",
              "    fill: #FFFFFF;\n",
              "  }\n",
              "</style>\n",
              "\n",
              "    <script>\n",
              "      async function quickchart(key) {\n",
              "        const containerElement = document.querySelector('#' + key);\n",
              "        const charts = await google.colab.kernel.invokeFunction(\n",
              "            'suggestCharts', [key], {});\n",
              "      }\n",
              "    </script>\n",
              "\n",
              "      <script>\n",
              "\n",
              "function displayQuickchartButton(domScope) {\n",
              "  let quickchartButtonEl =\n",
              "    domScope.querySelector('#df-32f43a35-c1fb-4108-abb2-2edd7c1c2220 button.colab-df-quickchart');\n",
              "  quickchartButtonEl.style.display =\n",
              "    google.colab.kernel.accessAllowed ? 'block' : 'none';\n",
              "}\n",
              "\n",
              "        displayQuickchartButton(document);\n",
              "      </script>\n",
              "      <style>\n",
              "    .colab-df-container {\n",
              "      display:flex;\n",
              "      flex-wrap:wrap;\n",
              "      gap: 12px;\n",
              "    }\n",
              "\n",
              "    .colab-df-convert {\n",
              "      background-color: #E8F0FE;\n",
              "      border: none;\n",
              "      border-radius: 50%;\n",
              "      cursor: pointer;\n",
              "      display: none;\n",
              "      fill: #1967D2;\n",
              "      height: 32px;\n",
              "      padding: 0 0 0 0;\n",
              "      width: 32px;\n",
              "    }\n",
              "\n",
              "    .colab-df-convert:hover {\n",
              "      background-color: #E2EBFA;\n",
              "      box-shadow: 0px 1px 2px rgba(60, 64, 67, 0.3), 0px 1px 3px 1px rgba(60, 64, 67, 0.15);\n",
              "      fill: #174EA6;\n",
              "    }\n",
              "\n",
              "    [theme=dark] .colab-df-convert {\n",
              "      background-color: #3B4455;\n",
              "      fill: #D2E3FC;\n",
              "    }\n",
              "\n",
              "    [theme=dark] .colab-df-convert:hover {\n",
              "      background-color: #434B5C;\n",
              "      box-shadow: 0px 1px 3px 1px rgba(0, 0, 0, 0.15);\n",
              "      filter: drop-shadow(0px 1px 2px rgba(0, 0, 0, 0.3));\n",
              "      fill: #FFFFFF;\n",
              "    }\n",
              "  </style>\n",
              "\n",
              "      <script>\n",
              "        const buttonEl =\n",
              "          document.querySelector('#df-4b1299c9-9ea1-430b-ab19-8839b18bf34a button.colab-df-convert');\n",
              "        buttonEl.style.display =\n",
              "          google.colab.kernel.accessAllowed ? 'block' : 'none';\n",
              "\n",
              "        async function convertToInteractive(key) {\n",
              "          const element = document.querySelector('#df-4b1299c9-9ea1-430b-ab19-8839b18bf34a');\n",
              "          const dataTable =\n",
              "            await google.colab.kernel.invokeFunction('convertToInteractive',\n",
              "                                                     [key], {});\n",
              "          if (!dataTable) return;\n",
              "\n",
              "          const docLinkHtml = 'Like what you see? Visit the ' +\n",
              "            '<a target=\"_blank\" href=https://colab.research.google.com/notebooks/data_table.ipynb>data table notebook</a>'\n",
              "            + ' to learn more about interactive tables.';\n",
              "          element.innerHTML = '';\n",
              "          dataTable['output_type'] = 'display_data';\n",
              "          await google.colab.output.renderOutput(dataTable, element);\n",
              "          const docLink = document.createElement('div');\n",
              "          docLink.innerHTML = docLinkHtml;\n",
              "          element.appendChild(docLink);\n",
              "        }\n",
              "      </script>\n",
              "    </div>\n",
              "  </div>\n"
            ]
          },
          "metadata": {},
          "execution_count": 63
        }
      ]
    },
    {
      "cell_type": "code",
      "source": [
        "df2.info()"
      ],
      "metadata": {
        "colab": {
          "base_uri": "https://localhost:8080/"
        },
        "id": "5wWN7hyDDD2F",
        "outputId": "1df13938-b146-4e0f-c2ea-2199c19be99b"
      },
      "execution_count": 64,
      "outputs": [
        {
          "output_type": "stream",
          "name": "stdout",
          "text": [
            "<class 'pandas.core.frame.DataFrame'>\n",
            "RangeIndex: 45379 entries, 0 to 45378\n",
            "Data columns (total 14 columns):\n",
            " #   Column             Non-Null Count  Dtype         \n",
            "---  ------             --------------  -----         \n",
            " 0   budget             45379 non-null  float64       \n",
            " 1   id                 45379 non-null  object        \n",
            " 2   original_language  45368 non-null  object        \n",
            " 3   release_date       45379 non-null  datetime64[ns]\n",
            " 4   revenue            45379 non-null  float64       \n",
            " 5   runtime            45130 non-null  float64       \n",
            " 6   title              45376 non-null  object        \n",
            " 7   vote_average       45376 non-null  float64       \n",
            " 8   vote_count         45376 non-null  float64       \n",
            " 9   release_year       45379 non-null  string        \n",
            " 10  return             45379 non-null  int64         \n",
            " 11  Franquicia_P       45379 non-null  object        \n",
            " 12  paises             45379 non-null  object        \n",
            " 13  productoras        45379 non-null  object        \n",
            "dtypes: datetime64[ns](1), float64(5), int64(1), object(6), string(1)\n",
            "memory usage: 4.8+ MB\n"
          ]
        }
      ]
    },
    {
      "cell_type": "code",
      "source": [
        "df2.to_csv('mov_API_12.csv', index=False)"
      ],
      "metadata": {
        "id": "UO4DOZfBZ2BF"
      },
      "execution_count": 65,
      "outputs": []
    },
    {
      "cell_type": "markdown",
      "source": [
        "## **Endpoint :  get_director(director)**"
      ],
      "metadata": {
        "id": "BUaJv6TjTJ3f"
      }
    },
    {
      "cell_type": "code",
      "source": [
        "# Archivo completo a analizar\"\n",
        "df1 = pd.read_csv(\"/content/drive/MyDrive/Colab Notebooks/csv_12/credits.csv\")\n"
      ],
      "metadata": {
        "id": "O5NCM-SMTLmv"
      },
      "execution_count": 66,
      "outputs": []
    },
    {
      "cell_type": "code",
      "source": [
        "df1.info()"
      ],
      "metadata": {
        "colab": {
          "base_uri": "https://localhost:8080/"
        },
        "id": "VJ2kKnuETSYI",
        "outputId": "43ba6049-cf33-4213-efca-fe6bd4fd2a8b"
      },
      "execution_count": 67,
      "outputs": [
        {
          "output_type": "stream",
          "name": "stdout",
          "text": [
            "<class 'pandas.core.frame.DataFrame'>\n",
            "RangeIndex: 45476 entries, 0 to 45475\n",
            "Data columns (total 3 columns):\n",
            " #   Column  Non-Null Count  Dtype \n",
            "---  ------  --------------  ----- \n",
            " 0   cast    45476 non-null  object\n",
            " 1   crew    45476 non-null  object\n",
            " 2   id      45476 non-null  int64 \n",
            "dtypes: int64(1), object(2)\n",
            "memory usage: 1.0+ MB\n"
          ]
        }
      ]
    },
    {
      "cell_type": "code",
      "source": [
        "df1.drop(['cast'], axis = 'columns', inplace=True)"
      ],
      "metadata": {
        "id": "KEN2TxbCTfM8"
      },
      "execution_count": 68,
      "outputs": []
    },
    {
      "cell_type": "code",
      "source": [
        "df1.info()"
      ],
      "metadata": {
        "colab": {
          "base_uri": "https://localhost:8080/"
        },
        "id": "mCMZsDvUTg2I",
        "outputId": "1aec8d92-9980-491e-8d0b-41b7f32ffd4b"
      },
      "execution_count": 69,
      "outputs": [
        {
          "output_type": "stream",
          "name": "stdout",
          "text": [
            "<class 'pandas.core.frame.DataFrame'>\n",
            "RangeIndex: 45476 entries, 0 to 45475\n",
            "Data columns (total 2 columns):\n",
            " #   Column  Non-Null Count  Dtype \n",
            "---  ------  --------------  ----- \n",
            " 0   crew    45476 non-null  object\n",
            " 1   id      45476 non-null  int64 \n",
            "dtypes: int64(1), object(1)\n",
            "memory usage: 710.7+ KB\n"
          ]
        }
      ]
    },
    {
      "cell_type": "code",
      "source": [
        "df1.to_csv('crew_api_12.csv', index=False)"
      ],
      "metadata": {
        "id": "WIWnUhNVTk5p"
      },
      "execution_count": 70,
      "outputs": []
    },
    {
      "cell_type": "code",
      "source": [
        "df1.head(3)"
      ],
      "metadata": {
        "colab": {
          "base_uri": "https://localhost:8080/",
          "height": 143
        },
        "id": "i7aA9n1WT4qc",
        "outputId": "5eb2e0ae-4444-4d8c-cc9c-120ea77d2756"
      },
      "execution_count": 71,
      "outputs": [
        {
          "output_type": "execute_result",
          "data": {
            "text/plain": [
              "                                                crew     id\n",
              "0  [{'credit_id': '52fe4284c3a36847f8024f49', 'de...    862\n",
              "1  [{'credit_id': '52fe44bfc3a36847f80a7cd1', 'de...   8844\n",
              "2  [{'credit_id': '52fe466a9251416c75077a89', 'de...  15602"
            ],
            "text/html": [
              "\n",
              "\n",
              "  <div id=\"df-608655cf-edd8-49df-a782-59b4c3244461\">\n",
              "    <div class=\"colab-df-container\">\n",
              "      <div>\n",
              "<style scoped>\n",
              "    .dataframe tbody tr th:only-of-type {\n",
              "        vertical-align: middle;\n",
              "    }\n",
              "\n",
              "    .dataframe tbody tr th {\n",
              "        vertical-align: top;\n",
              "    }\n",
              "\n",
              "    .dataframe thead th {\n",
              "        text-align: right;\n",
              "    }\n",
              "</style>\n",
              "<table border=\"1\" class=\"dataframe\">\n",
              "  <thead>\n",
              "    <tr style=\"text-align: right;\">\n",
              "      <th></th>\n",
              "      <th>crew</th>\n",
              "      <th>id</th>\n",
              "    </tr>\n",
              "  </thead>\n",
              "  <tbody>\n",
              "    <tr>\n",
              "      <th>0</th>\n",
              "      <td>[{'credit_id': '52fe4284c3a36847f8024f49', 'de...</td>\n",
              "      <td>862</td>\n",
              "    </tr>\n",
              "    <tr>\n",
              "      <th>1</th>\n",
              "      <td>[{'credit_id': '52fe44bfc3a36847f80a7cd1', 'de...</td>\n",
              "      <td>8844</td>\n",
              "    </tr>\n",
              "    <tr>\n",
              "      <th>2</th>\n",
              "      <td>[{'credit_id': '52fe466a9251416c75077a89', 'de...</td>\n",
              "      <td>15602</td>\n",
              "    </tr>\n",
              "  </tbody>\n",
              "</table>\n",
              "</div>\n",
              "      <button class=\"colab-df-convert\" onclick=\"convertToInteractive('df-608655cf-edd8-49df-a782-59b4c3244461')\"\n",
              "              title=\"Convert this dataframe to an interactive table.\"\n",
              "              style=\"display:none;\">\n",
              "\n",
              "  <svg xmlns=\"http://www.w3.org/2000/svg\" height=\"24px\"viewBox=\"0 0 24 24\"\n",
              "       width=\"24px\">\n",
              "    <path d=\"M0 0h24v24H0V0z\" fill=\"none\"/>\n",
              "    <path d=\"M18.56 5.44l.94 2.06.94-2.06 2.06-.94-2.06-.94-.94-2.06-.94 2.06-2.06.94zm-11 1L8.5 8.5l.94-2.06 2.06-.94-2.06-.94L8.5 2.5l-.94 2.06-2.06.94zm10 10l.94 2.06.94-2.06 2.06-.94-2.06-.94-.94-2.06-.94 2.06-2.06.94z\"/><path d=\"M17.41 7.96l-1.37-1.37c-.4-.4-.92-.59-1.43-.59-.52 0-1.04.2-1.43.59L10.3 9.45l-7.72 7.72c-.78.78-.78 2.05 0 2.83L4 21.41c.39.39.9.59 1.41.59.51 0 1.02-.2 1.41-.59l7.78-7.78 2.81-2.81c.8-.78.8-2.07 0-2.86zM5.41 20L4 18.59l7.72-7.72 1.47 1.35L5.41 20z\"/>\n",
              "  </svg>\n",
              "      </button>\n",
              "\n",
              "\n",
              "\n",
              "    <div id=\"df-0faa2a17-3a7c-472a-a2b6-8ee2ec7b1e2b\">\n",
              "      <button class=\"colab-df-quickchart\" onclick=\"quickchart('df-0faa2a17-3a7c-472a-a2b6-8ee2ec7b1e2b')\"\n",
              "              title=\"Suggest charts.\"\n",
              "              style=\"display:none;\">\n",
              "\n",
              "<svg xmlns=\"http://www.w3.org/2000/svg\" height=\"24px\"viewBox=\"0 0 24 24\"\n",
              "     width=\"24px\">\n",
              "    <g>\n",
              "        <path d=\"M19 3H5c-1.1 0-2 .9-2 2v14c0 1.1.9 2 2 2h14c1.1 0 2-.9 2-2V5c0-1.1-.9-2-2-2zM9 17H7v-7h2v7zm4 0h-2V7h2v10zm4 0h-2v-4h2v4z\"/>\n",
              "    </g>\n",
              "</svg>\n",
              "      </button>\n",
              "    </div>\n",
              "\n",
              "<style>\n",
              "  .colab-df-quickchart {\n",
              "    background-color: #E8F0FE;\n",
              "    border: none;\n",
              "    border-radius: 50%;\n",
              "    cursor: pointer;\n",
              "    display: none;\n",
              "    fill: #1967D2;\n",
              "    height: 32px;\n",
              "    padding: 0 0 0 0;\n",
              "    width: 32px;\n",
              "  }\n",
              "\n",
              "  .colab-df-quickchart:hover {\n",
              "    background-color: #E2EBFA;\n",
              "    box-shadow: 0px 1px 2px rgba(60, 64, 67, 0.3), 0px 1px 3px 1px rgba(60, 64, 67, 0.15);\n",
              "    fill: #174EA6;\n",
              "  }\n",
              "\n",
              "  [theme=dark] .colab-df-quickchart {\n",
              "    background-color: #3B4455;\n",
              "    fill: #D2E3FC;\n",
              "  }\n",
              "\n",
              "  [theme=dark] .colab-df-quickchart:hover {\n",
              "    background-color: #434B5C;\n",
              "    box-shadow: 0px 1px 3px 1px rgba(0, 0, 0, 0.15);\n",
              "    filter: drop-shadow(0px 1px 2px rgba(0, 0, 0, 0.3));\n",
              "    fill: #FFFFFF;\n",
              "  }\n",
              "</style>\n",
              "\n",
              "    <script>\n",
              "      async function quickchart(key) {\n",
              "        const containerElement = document.querySelector('#' + key);\n",
              "        const charts = await google.colab.kernel.invokeFunction(\n",
              "            'suggestCharts', [key], {});\n",
              "      }\n",
              "    </script>\n",
              "\n",
              "      <script>\n",
              "\n",
              "function displayQuickchartButton(domScope) {\n",
              "  let quickchartButtonEl =\n",
              "    domScope.querySelector('#df-0faa2a17-3a7c-472a-a2b6-8ee2ec7b1e2b button.colab-df-quickchart');\n",
              "  quickchartButtonEl.style.display =\n",
              "    google.colab.kernel.accessAllowed ? 'block' : 'none';\n",
              "}\n",
              "\n",
              "        displayQuickchartButton(document);\n",
              "      </script>\n",
              "      <style>\n",
              "    .colab-df-container {\n",
              "      display:flex;\n",
              "      flex-wrap:wrap;\n",
              "      gap: 12px;\n",
              "    }\n",
              "\n",
              "    .colab-df-convert {\n",
              "      background-color: #E8F0FE;\n",
              "      border: none;\n",
              "      border-radius: 50%;\n",
              "      cursor: pointer;\n",
              "      display: none;\n",
              "      fill: #1967D2;\n",
              "      height: 32px;\n",
              "      padding: 0 0 0 0;\n",
              "      width: 32px;\n",
              "    }\n",
              "\n",
              "    .colab-df-convert:hover {\n",
              "      background-color: #E2EBFA;\n",
              "      box-shadow: 0px 1px 2px rgba(60, 64, 67, 0.3), 0px 1px 3px 1px rgba(60, 64, 67, 0.15);\n",
              "      fill: #174EA6;\n",
              "    }\n",
              "\n",
              "    [theme=dark] .colab-df-convert {\n",
              "      background-color: #3B4455;\n",
              "      fill: #D2E3FC;\n",
              "    }\n",
              "\n",
              "    [theme=dark] .colab-df-convert:hover {\n",
              "      background-color: #434B5C;\n",
              "      box-shadow: 0px 1px 3px 1px rgba(0, 0, 0, 0.15);\n",
              "      filter: drop-shadow(0px 1px 2px rgba(0, 0, 0, 0.3));\n",
              "      fill: #FFFFFF;\n",
              "    }\n",
              "  </style>\n",
              "\n",
              "      <script>\n",
              "        const buttonEl =\n",
              "          document.querySelector('#df-608655cf-edd8-49df-a782-59b4c3244461 button.colab-df-convert');\n",
              "        buttonEl.style.display =\n",
              "          google.colab.kernel.accessAllowed ? 'block' : 'none';\n",
              "\n",
              "        async function convertToInteractive(key) {\n",
              "          const element = document.querySelector('#df-608655cf-edd8-49df-a782-59b4c3244461');\n",
              "          const dataTable =\n",
              "            await google.colab.kernel.invokeFunction('convertToInteractive',\n",
              "                                                     [key], {});\n",
              "          if (!dataTable) return;\n",
              "\n",
              "          const docLinkHtml = 'Like what you see? Visit the ' +\n",
              "            '<a target=\"_blank\" href=https://colab.research.google.com/notebooks/data_table.ipynb>data table notebook</a>'\n",
              "            + ' to learn more about interactive tables.';\n",
              "          element.innerHTML = '';\n",
              "          dataTable['output_type'] = 'display_data';\n",
              "          await google.colab.output.renderOutput(dataTable, element);\n",
              "          const docLink = document.createElement('div');\n",
              "          docLink.innerHTML = docLinkHtml;\n",
              "          element.appendChild(docLink);\n",
              "        }\n",
              "      </script>\n",
              "    </div>\n",
              "  </div>\n"
            ]
          },
          "metadata": {},
          "execution_count": 71
        }
      ]
    },
    {
      "cell_type": "code",
      "source": [
        "df1['id'][1]"
      ],
      "metadata": {
        "colab": {
          "base_uri": "https://localhost:8080/"
        },
        "id": "MqTl6i8hT7ev",
        "outputId": "e930595e-ff66-4fa8-c33d-588f51d258f6"
      },
      "execution_count": 72,
      "outputs": [
        {
          "output_type": "execute_result",
          "data": {
            "text/plain": [
              "8844"
            ]
          },
          "metadata": {},
          "execution_count": 72
        }
      ]
    },
    {
      "cell_type": "code",
      "source": [
        "df1['crew'][1]"
      ],
      "metadata": {
        "colab": {
          "base_uri": "https://localhost:8080/",
          "height": 174
        },
        "id": "J_TCtSU7UAP9",
        "outputId": "9cd8d2d2-02e0-4dd2-b936-3821ddf8b300"
      },
      "execution_count": 73,
      "outputs": [
        {
          "output_type": "execute_result",
          "data": {
            "text/plain": [
              "\"[{'credit_id': '52fe44bfc3a36847f80a7cd1', 'department': 'Production', 'gender': 2, 'id': 511, 'job': 'Executive Producer', 'name': 'Larry J. Franco', 'profile_path': None}, {'credit_id': '52fe44bfc3a36847f80a7c89', 'department': 'Writing', 'gender': 2, 'id': 876, 'job': 'Screenplay', 'name': 'Jonathan Hensleigh', 'profile_path': '/l1c4UFD3g0HVWj5f0CxXAvMAGiT.jpg'}, {'credit_id': '52fe44bfc3a36847f80a7cdd', 'department': 'Sound', 'gender': 2, 'id': 1729, 'job': 'Original Music Composer', 'name': 'James Horner', 'profile_path': '/oLOtXxXsYk8X4qq0ud4xVypXudi.jpg'}, {'credit_id': '52fe44bfc3a36847f80a7c7d', 'department': 'Directing', 'gender': 2, 'id': 4945, 'job': 'Director', 'name': 'Joe Johnston', 'profile_path': '/fok4jaO62v5IP6hkpaaAcXuw2H.jpg'}, {'credit_id': '52fe44bfc3a36847f80a7cd7', 'department': 'Editing', 'gender': 2, 'id': 4951, 'job': 'Editor', 'name': 'Robert Dalva', 'profile_path': None}, {'credit_id': '573523bec3a368025100062c', 'department': 'Production', 'gender': 0, 'id': 4952, 'job': 'Casting', 'name': 'Nancy Foy', 'profile_path': '/blCkmS4dqNsbPGuQfozHE6wgWBw.jpg'}, {'credit_id': '5722a924c3a3682d1e000b41', 'department': 'Visual Effects', 'gender': 0, 'id': 8023, 'job': 'Animation Supervisor', 'name': 'Kyle Balda', 'profile_path': '/jR8iAP6uC0V42KbUG87qBIUO3Hj.jpg'}, {'credit_id': '52fe44c0c3a36847f80a7ce3', 'department': 'Art', 'gender': 2, 'id': 9967, 'job': 'Production Design', 'name': 'James D. Bissell', 'profile_path': None}, {'credit_id': '52fe44bfc3a36847f80a7cb9', 'department': 'Production', 'gender': 2, 'id': 9184, 'job': 'Producer', 'name': 'Scott Kroopf', 'profile_path': None}, {'credit_id': '52fe44bfc3a36847f80a7ccb', 'department': 'Production', 'gender': 2, 'id': 9196, 'job': 'Executive Producer', 'name': 'Ted Field', 'profile_path': '/qmB7sZcgRUq7mRFBSTlSsVXh7sH.jpg'}, {'credit_id': '52fe44bfc3a36847f80a7cc5', 'department': 'Production', 'gender': 2, 'id': 18389, 'job': 'Executive Producer', 'name': 'Robert W. Cort', 'profile_path': None}, {'credit_id': '52fe44bfc3a36847f80a7cbf', 'department': 'Camera', 'gender': 2, 'id': 11371, 'job': 'Director of Photography', 'name': 'Thomas E. Ackerman', 'profile_path': '/xFDbxk53icM1ofL4iCIwB4GkUxN.jpg'}, {'credit_id': '52fe44bfc3a36847f80a7c83', 'department': 'Writing', 'gender': 2, 'id': 42356, 'job': 'Novel', 'name': 'Chris van Allsburg', 'profile_path': None}, {'credit_id': '52fe44bfc3a36847f80a7cb3', 'department': 'Production', 'gender': 2, 'id': 42357, 'job': 'Producer', 'name': 'William Teitler', 'profile_path': None}, {'credit_id': '52fe44bfc3a36847f80a7c8f', 'department': 'Writing', 'gender': 2, 'id': 56520, 'job': 'Screenplay', 'name': 'Greg Taylor', 'profile_path': None}, {'credit_id': '52fe44bfc3a36847f80a7c95', 'department': 'Writing', 'gender': 2, 'id': 56521, 'job': 'Screenplay', 'name': 'Jim Strain', 'profile_path': None}]\""
            ],
            "application/vnd.google.colaboratory.intrinsic+json": {
              "type": "string"
            }
          },
          "metadata": {},
          "execution_count": 73
        }
      ]
    },
    {
      "cell_type": "code",
      "source": [
        "\n",
        "import ast\n",
        "# initialising string dictionary\n",
        "dictionary={}\n",
        "lit=[]\n",
        "lista=[]\n",
        "err=[]\n",
        "for i in range(len(df1)):\n",
        "    string = df1.crew[i]\n",
        "    if string=='[]':\n",
        "         lista.append('sin_informacion')\n",
        "    else:\n",
        "        lit=[]\n",
        "        if  df1.crew[i]!='nan':\n",
        "            #caracteres a eliminar\n",
        "            characters = \"[]\"\n",
        "\n",
        "            for x in range(len(characters)):\n",
        "                string = string.replace(characters[x],\"\")\n",
        "            #evaluo la cadena resultante\n",
        "            dictionary = ast.literal_eval(string)\n",
        "            #asigno tratamiento segun tipo\n",
        "            if type(dictionary)==tuple:\n",
        "                for y in dictionary:\n",
        "                    yy=str(y)\n",
        "                    di=ast.literal_eval(yy)\n",
        "                    if di[\"job\"]=='Director':\n",
        "                        lit.append(di[\"name\"])\n",
        "                lista.append(lit)\n",
        "\n",
        "            elif type(dictionary)==dict :\n",
        "                lista.append(dictionary[\"name\"])\n",
        "            else:\n",
        "                #busqueda discrepancias y errores\n",
        "                err.append(i)\n",
        "                lista.append(\"sin_informacion\")\n",
        "\n",
        "        else:\n",
        "            lista.append(\"sin_informacion\")\n",
        "##########print('errores:',err)\n",
        "df1[\"directores\"]=pd.Series(lista)"
      ],
      "metadata": {
        "id": "TH2oRo1xUKwj"
      },
      "execution_count": 74,
      "outputs": []
    },
    {
      "cell_type": "code",
      "source": [
        "df1[\"directores\"]"
      ],
      "metadata": {
        "colab": {
          "base_uri": "https://localhost:8080/"
        },
        "id": "-Y39Uf_OUQjK",
        "outputId": "aaa7999c-871e-48dd-93f5-e2a8a9a62027"
      },
      "execution_count": 75,
      "outputs": [
        {
          "output_type": "execute_result",
          "data": {
            "text/plain": [
              "0           [John Lasseter]\n",
              "1            [Joe Johnston]\n",
              "2           [Howard Deutch]\n",
              "3         [Forest Whitaker]\n",
              "4           [Charles Shyer]\n",
              "                ...        \n",
              "45471    [Hamid Nematollah]\n",
              "45472            [Lav Diaz]\n",
              "45473      [Mark L. Lester]\n",
              "45474    [Yakov Protazanov]\n",
              "45475         Daisy Asquith\n",
              "Name: directores, Length: 45476, dtype: object"
            ]
          },
          "metadata": {},
          "execution_count": 75
        }
      ]
    },
    {
      "cell_type": "code",
      "source": [
        "df1[\"directores\"][1][0]"
      ],
      "metadata": {
        "colab": {
          "base_uri": "https://localhost:8080/",
          "height": 35
        },
        "id": "o3iZ8ixtUfKp",
        "outputId": "869216bc-d895-4472-bc17-90ba5962624c"
      },
      "execution_count": 76,
      "outputs": [
        {
          "output_type": "execute_result",
          "data": {
            "text/plain": [
              "'Joe Johnston'"
            ],
            "application/vnd.google.colaboratory.intrinsic+json": {
              "type": "string"
            }
          },
          "metadata": {},
          "execution_count": 76
        }
      ]
    },
    {
      "cell_type": "code",
      "source": [
        "df1.info()"
      ],
      "metadata": {
        "colab": {
          "base_uri": "https://localhost:8080/"
        },
        "id": "_PVXCbnaUvwu",
        "outputId": "290d72d6-a35e-45ab-9b4c-14e871968ea3"
      },
      "execution_count": 77,
      "outputs": [
        {
          "output_type": "stream",
          "name": "stdout",
          "text": [
            "<class 'pandas.core.frame.DataFrame'>\n",
            "RangeIndex: 45476 entries, 0 to 45475\n",
            "Data columns (total 3 columns):\n",
            " #   Column      Non-Null Count  Dtype \n",
            "---  ------      --------------  ----- \n",
            " 0   crew        45476 non-null  object\n",
            " 1   id          45476 non-null  int64 \n",
            " 2   directores  45476 non-null  object\n",
            "dtypes: int64(1), object(2)\n",
            "memory usage: 1.0+ MB\n"
          ]
        }
      ]
    },
    {
      "cell_type": "code",
      "source": [
        "df1.describe(include='all')"
      ],
      "metadata": {
        "colab": {
          "base_uri": "https://localhost:8080/",
          "height": 394
        },
        "id": "53czc-iIU0JR",
        "outputId": "4799480a-1198-4606-bf0b-e3ee90c471e8"
      },
      "execution_count": 78,
      "outputs": [
        {
          "output_type": "execute_result",
          "data": {
            "text/plain": [
              "         crew             id       directores\n",
              "count   45476   45476.000000            45476\n",
              "unique  44669            NaN            20899\n",
              "top        []            NaN  sin_informacion\n",
              "freq      771            NaN              771\n",
              "mean      NaN  108345.997537              NaN\n",
              "std       NaN  112443.796536              NaN\n",
              "min       NaN       2.000000              NaN\n",
              "25%       NaN   26443.250000              NaN\n",
              "50%       NaN   60002.500000              NaN\n",
              "75%       NaN  157302.000000              NaN\n",
              "max       NaN  469172.000000              NaN"
            ],
            "text/html": [
              "\n",
              "\n",
              "  <div id=\"df-e83def42-e87a-43d6-9e38-19c69c48c43d\">\n",
              "    <div class=\"colab-df-container\">\n",
              "      <div>\n",
              "<style scoped>\n",
              "    .dataframe tbody tr th:only-of-type {\n",
              "        vertical-align: middle;\n",
              "    }\n",
              "\n",
              "    .dataframe tbody tr th {\n",
              "        vertical-align: top;\n",
              "    }\n",
              "\n",
              "    .dataframe thead th {\n",
              "        text-align: right;\n",
              "    }\n",
              "</style>\n",
              "<table border=\"1\" class=\"dataframe\">\n",
              "  <thead>\n",
              "    <tr style=\"text-align: right;\">\n",
              "      <th></th>\n",
              "      <th>crew</th>\n",
              "      <th>id</th>\n",
              "      <th>directores</th>\n",
              "    </tr>\n",
              "  </thead>\n",
              "  <tbody>\n",
              "    <tr>\n",
              "      <th>count</th>\n",
              "      <td>45476</td>\n",
              "      <td>45476.000000</td>\n",
              "      <td>45476</td>\n",
              "    </tr>\n",
              "    <tr>\n",
              "      <th>unique</th>\n",
              "      <td>44669</td>\n",
              "      <td>NaN</td>\n",
              "      <td>20899</td>\n",
              "    </tr>\n",
              "    <tr>\n",
              "      <th>top</th>\n",
              "      <td>[]</td>\n",
              "      <td>NaN</td>\n",
              "      <td>sin_informacion</td>\n",
              "    </tr>\n",
              "    <tr>\n",
              "      <th>freq</th>\n",
              "      <td>771</td>\n",
              "      <td>NaN</td>\n",
              "      <td>771</td>\n",
              "    </tr>\n",
              "    <tr>\n",
              "      <th>mean</th>\n",
              "      <td>NaN</td>\n",
              "      <td>108345.997537</td>\n",
              "      <td>NaN</td>\n",
              "    </tr>\n",
              "    <tr>\n",
              "      <th>std</th>\n",
              "      <td>NaN</td>\n",
              "      <td>112443.796536</td>\n",
              "      <td>NaN</td>\n",
              "    </tr>\n",
              "    <tr>\n",
              "      <th>min</th>\n",
              "      <td>NaN</td>\n",
              "      <td>2.000000</td>\n",
              "      <td>NaN</td>\n",
              "    </tr>\n",
              "    <tr>\n",
              "      <th>25%</th>\n",
              "      <td>NaN</td>\n",
              "      <td>26443.250000</td>\n",
              "      <td>NaN</td>\n",
              "    </tr>\n",
              "    <tr>\n",
              "      <th>50%</th>\n",
              "      <td>NaN</td>\n",
              "      <td>60002.500000</td>\n",
              "      <td>NaN</td>\n",
              "    </tr>\n",
              "    <tr>\n",
              "      <th>75%</th>\n",
              "      <td>NaN</td>\n",
              "      <td>157302.000000</td>\n",
              "      <td>NaN</td>\n",
              "    </tr>\n",
              "    <tr>\n",
              "      <th>max</th>\n",
              "      <td>NaN</td>\n",
              "      <td>469172.000000</td>\n",
              "      <td>NaN</td>\n",
              "    </tr>\n",
              "  </tbody>\n",
              "</table>\n",
              "</div>\n",
              "      <button class=\"colab-df-convert\" onclick=\"convertToInteractive('df-e83def42-e87a-43d6-9e38-19c69c48c43d')\"\n",
              "              title=\"Convert this dataframe to an interactive table.\"\n",
              "              style=\"display:none;\">\n",
              "\n",
              "  <svg xmlns=\"http://www.w3.org/2000/svg\" height=\"24px\"viewBox=\"0 0 24 24\"\n",
              "       width=\"24px\">\n",
              "    <path d=\"M0 0h24v24H0V0z\" fill=\"none\"/>\n",
              "    <path d=\"M18.56 5.44l.94 2.06.94-2.06 2.06-.94-2.06-.94-.94-2.06-.94 2.06-2.06.94zm-11 1L8.5 8.5l.94-2.06 2.06-.94-2.06-.94L8.5 2.5l-.94 2.06-2.06.94zm10 10l.94 2.06.94-2.06 2.06-.94-2.06-.94-.94-2.06-.94 2.06-2.06.94z\"/><path d=\"M17.41 7.96l-1.37-1.37c-.4-.4-.92-.59-1.43-.59-.52 0-1.04.2-1.43.59L10.3 9.45l-7.72 7.72c-.78.78-.78 2.05 0 2.83L4 21.41c.39.39.9.59 1.41.59.51 0 1.02-.2 1.41-.59l7.78-7.78 2.81-2.81c.8-.78.8-2.07 0-2.86zM5.41 20L4 18.59l7.72-7.72 1.47 1.35L5.41 20z\"/>\n",
              "  </svg>\n",
              "      </button>\n",
              "\n",
              "\n",
              "\n",
              "    <div id=\"df-67d4ea05-0364-44d8-b373-39fa0dd810b0\">\n",
              "      <button class=\"colab-df-quickchart\" onclick=\"quickchart('df-67d4ea05-0364-44d8-b373-39fa0dd810b0')\"\n",
              "              title=\"Suggest charts.\"\n",
              "              style=\"display:none;\">\n",
              "\n",
              "<svg xmlns=\"http://www.w3.org/2000/svg\" height=\"24px\"viewBox=\"0 0 24 24\"\n",
              "     width=\"24px\">\n",
              "    <g>\n",
              "        <path d=\"M19 3H5c-1.1 0-2 .9-2 2v14c0 1.1.9 2 2 2h14c1.1 0 2-.9 2-2V5c0-1.1-.9-2-2-2zM9 17H7v-7h2v7zm4 0h-2V7h2v10zm4 0h-2v-4h2v4z\"/>\n",
              "    </g>\n",
              "</svg>\n",
              "      </button>\n",
              "    </div>\n",
              "\n",
              "<style>\n",
              "  .colab-df-quickchart {\n",
              "    background-color: #E8F0FE;\n",
              "    border: none;\n",
              "    border-radius: 50%;\n",
              "    cursor: pointer;\n",
              "    display: none;\n",
              "    fill: #1967D2;\n",
              "    height: 32px;\n",
              "    padding: 0 0 0 0;\n",
              "    width: 32px;\n",
              "  }\n",
              "\n",
              "  .colab-df-quickchart:hover {\n",
              "    background-color: #E2EBFA;\n",
              "    box-shadow: 0px 1px 2px rgba(60, 64, 67, 0.3), 0px 1px 3px 1px rgba(60, 64, 67, 0.15);\n",
              "    fill: #174EA6;\n",
              "  }\n",
              "\n",
              "  [theme=dark] .colab-df-quickchart {\n",
              "    background-color: #3B4455;\n",
              "    fill: #D2E3FC;\n",
              "  }\n",
              "\n",
              "  [theme=dark] .colab-df-quickchart:hover {\n",
              "    background-color: #434B5C;\n",
              "    box-shadow: 0px 1px 3px 1px rgba(0, 0, 0, 0.15);\n",
              "    filter: drop-shadow(0px 1px 2px rgba(0, 0, 0, 0.3));\n",
              "    fill: #FFFFFF;\n",
              "  }\n",
              "</style>\n",
              "\n",
              "    <script>\n",
              "      async function quickchart(key) {\n",
              "        const containerElement = document.querySelector('#' + key);\n",
              "        const charts = await google.colab.kernel.invokeFunction(\n",
              "            'suggestCharts', [key], {});\n",
              "      }\n",
              "    </script>\n",
              "\n",
              "      <script>\n",
              "\n",
              "function displayQuickchartButton(domScope) {\n",
              "  let quickchartButtonEl =\n",
              "    domScope.querySelector('#df-67d4ea05-0364-44d8-b373-39fa0dd810b0 button.colab-df-quickchart');\n",
              "  quickchartButtonEl.style.display =\n",
              "    google.colab.kernel.accessAllowed ? 'block' : 'none';\n",
              "}\n",
              "\n",
              "        displayQuickchartButton(document);\n",
              "      </script>\n",
              "      <style>\n",
              "    .colab-df-container {\n",
              "      display:flex;\n",
              "      flex-wrap:wrap;\n",
              "      gap: 12px;\n",
              "    }\n",
              "\n",
              "    .colab-df-convert {\n",
              "      background-color: #E8F0FE;\n",
              "      border: none;\n",
              "      border-radius: 50%;\n",
              "      cursor: pointer;\n",
              "      display: none;\n",
              "      fill: #1967D2;\n",
              "      height: 32px;\n",
              "      padding: 0 0 0 0;\n",
              "      width: 32px;\n",
              "    }\n",
              "\n",
              "    .colab-df-convert:hover {\n",
              "      background-color: #E2EBFA;\n",
              "      box-shadow: 0px 1px 2px rgba(60, 64, 67, 0.3), 0px 1px 3px 1px rgba(60, 64, 67, 0.15);\n",
              "      fill: #174EA6;\n",
              "    }\n",
              "\n",
              "    [theme=dark] .colab-df-convert {\n",
              "      background-color: #3B4455;\n",
              "      fill: #D2E3FC;\n",
              "    }\n",
              "\n",
              "    [theme=dark] .colab-df-convert:hover {\n",
              "      background-color: #434B5C;\n",
              "      box-shadow: 0px 1px 3px 1px rgba(0, 0, 0, 0.15);\n",
              "      filter: drop-shadow(0px 1px 2px rgba(0, 0, 0, 0.3));\n",
              "      fill: #FFFFFF;\n",
              "    }\n",
              "  </style>\n",
              "\n",
              "      <script>\n",
              "        const buttonEl =\n",
              "          document.querySelector('#df-e83def42-e87a-43d6-9e38-19c69c48c43d button.colab-df-convert');\n",
              "        buttonEl.style.display =\n",
              "          google.colab.kernel.accessAllowed ? 'block' : 'none';\n",
              "\n",
              "        async function convertToInteractive(key) {\n",
              "          const element = document.querySelector('#df-e83def42-e87a-43d6-9e38-19c69c48c43d');\n",
              "          const dataTable =\n",
              "            await google.colab.kernel.invokeFunction('convertToInteractive',\n",
              "                                                     [key], {});\n",
              "          if (!dataTable) return;\n",
              "\n",
              "          const docLinkHtml = 'Like what you see? Visit the ' +\n",
              "            '<a target=\"_blank\" href=https://colab.research.google.com/notebooks/data_table.ipynb>data table notebook</a>'\n",
              "            + ' to learn more about interactive tables.';\n",
              "          element.innerHTML = '';\n",
              "          dataTable['output_type'] = 'display_data';\n",
              "          await google.colab.output.renderOutput(dataTable, element);\n",
              "          const docLink = document.createElement('div');\n",
              "          docLink.innerHTML = docLinkHtml;\n",
              "          element.appendChild(docLink);\n",
              "        }\n",
              "      </script>\n",
              "    </div>\n",
              "  </div>\n"
            ]
          },
          "metadata": {},
          "execution_count": 78
        }
      ]
    },
    {
      "cell_type": "code",
      "source": [
        "df1.drop(['crew'], axis = 'columns', inplace=True)\n",
        "df1.info()"
      ],
      "metadata": {
        "colab": {
          "base_uri": "https://localhost:8080/"
        },
        "id": "eJKsdMvhU5Kr",
        "outputId": "48ee6a57-bc7b-44d3-a505-06d22d7e12b5"
      },
      "execution_count": 79,
      "outputs": [
        {
          "output_type": "stream",
          "name": "stdout",
          "text": [
            "<class 'pandas.core.frame.DataFrame'>\n",
            "RangeIndex: 45476 entries, 0 to 45475\n",
            "Data columns (total 2 columns):\n",
            " #   Column      Non-Null Count  Dtype \n",
            "---  ------      --------------  ----- \n",
            " 0   id          45476 non-null  int64 \n",
            " 1   directores  45476 non-null  object\n",
            "dtypes: int64(1), object(1)\n",
            "memory usage: 710.7+ KB\n"
          ]
        }
      ]
    },
    {
      "cell_type": "code",
      "source": [
        "df1.to_csv(\"direct_P.csv\",encoding='utf-8', index=False)"
      ],
      "metadata": {
        "id": "E5tul6HAVJif"
      },
      "execution_count": 80,
      "outputs": []
    },
    {
      "cell_type": "code",
      "source": [
        "def get_director( nombre_director:str ):\n",
        "# Se ingresa el nombre de un director que se encuentre dentro de un dataset\n",
        "# debiendo devolver el éxito del mismo medido a través del retorno. Además,\n",
        "# deberá devolver el nombre de cada película con la fecha de lanzamiento, retorno\n",
        "# individual, costo y ganancia de la misma.\n",
        "\n",
        "  li=[]\n",
        "  resu=''\n",
        "  acum=0\n",
        "\n",
        "  for i in df1['directores'].index:\n",
        "      nom_dir=df1['directores'][i]\n",
        "      for  n in nom_dir:\n",
        "          if nombre_director == n:\n",
        "              id_pel_dir=str(df1['id'][i])\n",
        "              for j in df[\"id\"].index:\n",
        "                  id_pel=str(df[\"id\"][j])\n",
        "                  if id_pel_dir==id_pel:\n",
        "                      tit=df[\"title\"][i]\n",
        "                      fec=df[\"release_year\"][i]\n",
        "                      costo=df[\"budget\"][i]\n",
        "                      ganancia=df['revenue'][i]\n",
        "                      acum=acum+(ganancia-costo)\n",
        "                      ret=ganancia-costo\n",
        "                      resu='director: '+str(nombre_director)+'  retorno_total_director: '+str(acum)+'  pelicula: '+str(tit)+'  anio: '+str(fec)+'  retorno_pelicula: '+str(ret)+'  budget_pelicula: '+str(costo)+' revenue_pelicula: '+str(ganancia)\n",
        "                      li.append(resu)\n",
        "  return {'lista':li}\n"
      ],
      "metadata": {
        "id": "h3BP-s8JVR18"
      },
      "execution_count": 81,
      "outputs": []
    },
    {
      "cell_type": "code",
      "source": [
        "get_director('Forest Whitaker')"
      ],
      "metadata": {
        "colab": {
          "base_uri": "https://localhost:8080/"
        },
        "id": "TfMoympyVA6t",
        "outputId": "bd5bef0f-3bfc-4557-8826-22a7403f4315"
      },
      "execution_count": 82,
      "outputs": [
        {
          "output_type": "execute_result",
          "data": {
            "text/plain": [
              "{'lista': ['director: Forest Whitaker  retorno_total_director: 65452156.0  pelicula: Waiting to Exhale  anio: 1995  retorno_pelicula: 65452156.0  budget_pelicula: 16000000.0 revenue_pelicula: 81452156.0',\n",
              "  'director: Forest Whitaker  retorno_total_director: 65452156.0  pelicula: Little Boy Blue  anio: 1997  retorno_pelicula: 0.0  budget_pelicula: 0.0 revenue_pelicula: 0.0',\n",
              "  'director: Forest Whitaker  retorno_total_director: 91491548.0  pelicula: Shaun of the Dead  anio: 2004  retorno_pelicula: 26039392.0  budget_pelicula: 4000000.0 revenue_pelicula: 30039392.0',\n",
              "  'director: Forest Whitaker  retorno_total_director: 90941548.0  pelicula: Bulldog Drummond  anio: 1929  retorno_pelicula: -550000.0  budget_pelicula: 550000.0 revenue_pelicula: 0.0']}"
            ]
          },
          "metadata": {},
          "execution_count": 82
        }
      ]
    },
    {
      "cell_type": "code",
      "source": [
        "df1.info()"
      ],
      "metadata": {
        "colab": {
          "base_uri": "https://localhost:8080/"
        },
        "id": "XpfAwcNhXZ7L",
        "outputId": "3b454905-eb06-4597-e73f-bb81a586c3ff"
      },
      "execution_count": 83,
      "outputs": [
        {
          "output_type": "stream",
          "name": "stdout",
          "text": [
            "<class 'pandas.core.frame.DataFrame'>\n",
            "RangeIndex: 45476 entries, 0 to 45475\n",
            "Data columns (total 2 columns):\n",
            " #   Column      Non-Null Count  Dtype \n",
            "---  ------      --------------  ----- \n",
            " 0   id          45476 non-null  int64 \n",
            " 1   directores  45476 non-null  object\n",
            "dtypes: int64(1), object(1)\n",
            "memory usage: 710.7+ KB\n"
          ]
        }
      ]
    },
    {
      "cell_type": "code",
      "source": [
        "df1[\"id\"]=df1[\"id\"].astype('string')"
      ],
      "metadata": {
        "id": "tym0SwlivSjD"
      },
      "execution_count": 84,
      "outputs": []
    },
    {
      "cell_type": "code",
      "source": [
        "df1.info()"
      ],
      "metadata": {
        "colab": {
          "base_uri": "https://localhost:8080/"
        },
        "id": "1tf9mXrXwwJ1",
        "outputId": "8caca1c0-ec08-45d7-b6e2-a9448fa8c697"
      },
      "execution_count": 85,
      "outputs": [
        {
          "output_type": "stream",
          "name": "stdout",
          "text": [
            "<class 'pandas.core.frame.DataFrame'>\n",
            "RangeIndex: 45476 entries, 0 to 45475\n",
            "Data columns (total 2 columns):\n",
            " #   Column      Non-Null Count  Dtype \n",
            "---  ------      --------------  ----- \n",
            " 0   id          45476 non-null  string\n",
            " 1   directores  45476 non-null  object\n",
            "dtypes: object(1), string(1)\n",
            "memory usage: 710.7+ KB\n"
          ]
        }
      ]
    },
    {
      "cell_type": "code",
      "source": [
        "df2.info()"
      ],
      "metadata": {
        "colab": {
          "base_uri": "https://localhost:8080/"
        },
        "id": "vvCpkMUxXun_",
        "outputId": "1ab741ad-28ba-4a98-ec47-92d33d9eb198"
      },
      "execution_count": 86,
      "outputs": [
        {
          "output_type": "stream",
          "name": "stdout",
          "text": [
            "<class 'pandas.core.frame.DataFrame'>\n",
            "RangeIndex: 45379 entries, 0 to 45378\n",
            "Data columns (total 14 columns):\n",
            " #   Column             Non-Null Count  Dtype         \n",
            "---  ------             --------------  -----         \n",
            " 0   budget             45379 non-null  float64       \n",
            " 1   id                 45379 non-null  object        \n",
            " 2   original_language  45368 non-null  object        \n",
            " 3   release_date       45379 non-null  datetime64[ns]\n",
            " 4   revenue            45379 non-null  float64       \n",
            " 5   runtime            45130 non-null  float64       \n",
            " 6   title              45376 non-null  object        \n",
            " 7   vote_average       45376 non-null  float64       \n",
            " 8   vote_count         45376 non-null  float64       \n",
            " 9   release_year       45379 non-null  string        \n",
            " 10  return             45379 non-null  int64         \n",
            " 11  Franquicia_P       45379 non-null  object        \n",
            " 12  paises             45379 non-null  object        \n",
            " 13  productoras        45379 non-null  object        \n",
            "dtypes: datetime64[ns](1), float64(5), int64(1), object(6), string(1)\n",
            "memory usage: 4.8+ MB\n"
          ]
        }
      ]
    },
    {
      "cell_type": "code",
      "source": [
        "df2[\"id\"]=df2[\"id\"].astype('string')"
      ],
      "metadata": {
        "id": "I4sDfA95w2cO"
      },
      "execution_count": 87,
      "outputs": []
    },
    {
      "cell_type": "code",
      "source": [
        "df2.id.info()"
      ],
      "metadata": {
        "colab": {
          "base_uri": "https://localhost:8080/"
        },
        "id": "P_zDDY0OxAhV",
        "outputId": "5538c8eb-d7e6-4258-c86e-db15b3a56fdf"
      },
      "execution_count": 88,
      "outputs": [
        {
          "output_type": "stream",
          "name": "stdout",
          "text": [
            "<class 'pandas.core.series.Series'>\n",
            "RangeIndex: 45379 entries, 0 to 45378\n",
            "Series name: id\n",
            "Non-Null Count  Dtype \n",
            "--------------  ----- \n",
            "45379 non-null  string\n",
            "dtypes: string(1)\n",
            "memory usage: 354.6 KB\n"
          ]
        }
      ]
    },
    {
      "cell_type": "code",
      "source": [
        "dft=pd.merge(df1,df2,on='id',how='inner')"
      ],
      "metadata": {
        "id": "Htjo4m7SpD--"
      },
      "execution_count": 89,
      "outputs": []
    },
    {
      "cell_type": "code",
      "source": [
        "dft.info()"
      ],
      "metadata": {
        "colab": {
          "base_uri": "https://localhost:8080/"
        },
        "id": "BGdSjVvBxPmb",
        "outputId": "48a4d52a-a509-46d0-d1e6-3f27b47dffa3"
      },
      "execution_count": 90,
      "outputs": [
        {
          "output_type": "stream",
          "name": "stdout",
          "text": [
            "<class 'pandas.core.frame.DataFrame'>\n",
            "Int64Index: 45451 entries, 0 to 45450\n",
            "Data columns (total 15 columns):\n",
            " #   Column             Non-Null Count  Dtype         \n",
            "---  ------             --------------  -----         \n",
            " 0   id                 45451 non-null  string        \n",
            " 1   directores         45451 non-null  object        \n",
            " 2   budget             45451 non-null  float64       \n",
            " 3   original_language  45440 non-null  object        \n",
            " 4   release_date       45451 non-null  datetime64[ns]\n",
            " 5   revenue            45451 non-null  float64       \n",
            " 6   runtime            45205 non-null  float64       \n",
            " 7   title              45451 non-null  object        \n",
            " 8   vote_average       45451 non-null  float64       \n",
            " 9   vote_count         45451 non-null  float64       \n",
            " 10  release_year       45451 non-null  string        \n",
            " 11  return             45451 non-null  int64         \n",
            " 12  Franquicia_P       45451 non-null  object        \n",
            " 13  paises             45451 non-null  object        \n",
            " 14  productoras        45451 non-null  object        \n",
            "dtypes: datetime64[ns](1), float64(5), int64(1), object(6), string(2)\n",
            "memory usage: 5.5+ MB\n"
          ]
        }
      ]
    },
    {
      "cell_type": "markdown",
      "source": [
        "elementos a borrar por errores en tipo de dato e informacion innesesaria en el dataset"
      ],
      "metadata": {
        "id": "Z6uJ_jrLzmwL"
      }
    },
    {
      "cell_type": "code",
      "source": [
        "#Posible elemento a borrar posiciones: [19714, 29472, 35543]\n",
        "dft.drop([19714], axis=0, inplace=True)"
      ],
      "metadata": {
        "id": "d03hGF4Azif3"
      },
      "execution_count": 92,
      "outputs": []
    },
    {
      "cell_type": "code",
      "source": [
        "dft.drop([29472], axis=0, inplace=True)"
      ],
      "metadata": {
        "id": "QItlhp5Lz10C"
      },
      "execution_count": 93,
      "outputs": []
    },
    {
      "cell_type": "code",
      "source": [
        "dft.drop([35543], axis=0, inplace=True)"
      ],
      "metadata": {
        "id": "43pZ2FPZz2JH"
      },
      "execution_count": 94,
      "outputs": []
    },
    {
      "cell_type": "code",
      "source": [
        "#Reinicio indices\n",
        "dft.reset_index(drop=True, inplace=True)\n",
        "len(dft)"
      ],
      "metadata": {
        "colab": {
          "base_uri": "https://localhost:8080/"
        },
        "id": "4p2N8A200sLl",
        "outputId": "3f5f48a5-fe4b-4bdd-8091-f3ed3105961d"
      },
      "execution_count": 95,
      "outputs": [
        {
          "output_type": "execute_result",
          "data": {
            "text/plain": [
              "45448"
            ]
          },
          "metadata": {},
          "execution_count": 95
        }
      ]
    },
    {
      "cell_type": "code",
      "source": [
        "dft.directores.value_counts()"
      ],
      "metadata": {
        "colab": {
          "base_uri": "https://localhost:8080/"
        },
        "id": "S08BrYfy0Jjf",
        "outputId": "d6b9a4c4-f26d-47e6-f89a-cc1cc6dd570b"
      },
      "execution_count": 96,
      "outputs": [
        {
          "output_type": "execute_result",
          "data": {
            "text/plain": [
              "sin_informacion            722\n",
              "[]                          68\n",
              "[Michael Curtiz]            61\n",
              "[John Ford]                 60\n",
              "[Alfred Hitchcock]          51\n",
              "                          ... \n",
              "[Michelle Danner]            1\n",
              "[Scott W. Mckinlay]          1\n",
              "[Stacie Passon]              1\n",
              "[Fernando Barreda Luna]      1\n",
              "Daisy Asquith                1\n",
              "Name: directores, Length: 20869, dtype: int64"
            ]
          },
          "metadata": {},
          "execution_count": 96
        }
      ]
    },
    {
      "cell_type": "code",
      "source": [
        "dft.to_csv('fin_api_12.csv', index=False)"
      ],
      "metadata": {
        "id": "ALvCozdvyxxw"
      },
      "execution_count": 97,
      "outputs": []
    },
    {
      "cell_type": "code",
      "source": [
        "def get_director( nombre_director:str ):\n",
        "# Se ingresa el nombre de un director que se encuentre dentro de un dataset\n",
        "# debiendo devolver el éxito del mismo medido a través del retorno. Además,\n",
        "# deberá devolver el nombre de cada película con la fecha de lanzamiento, retorno\n",
        "# individual, costo y ganancia de la misma.\n",
        "  li=[]\n",
        "  resu=''\n",
        "  acum=0\n",
        "  band=True\n",
        "  for i in range(len(dft.directores)):\n",
        "\n",
        "      if type(dft.directores[i])==list:\n",
        "          #nom_dir=dft.directores[i]\n",
        "          for  n in dft.directores[i]:\n",
        "              if nombre_director == n:\n",
        "                  band=True\n",
        "                  tit=dft[\"title\"][i]\n",
        "                  fec=dft[\"release_year\"][i]\n",
        "                  costo=dft[\"budget\"][i]\n",
        "                  ganancia=dft['revenue'][i]\n",
        "                  acum=acum+(ganancia-costo)\n",
        "                  ret=ganancia-costo\n",
        "                  resu='director: '+str(nombre_director)+'  retorno_total_director: '+str(acum)+'  pelicula: '+str(tit)+'  anio: '+str(fec)+'  retorno_pelicula: '+str(ret)+'  budget_pelicula: '+str(costo)+' revenue_pelicula: '+str(ganancia)\n",
        "                  li.append(resu)\n",
        "\n",
        "      else:\n",
        "          if nombre_director == dft.directores[i]:\n",
        "                  band=True\n",
        "                  tit=dft[\"title\"][i]\n",
        "                  fec=dft[\"release_year\"][i]\n",
        "                  costo=dft[\"budget\"][i]\n",
        "                  ganancia=dft['revenue'][i]\n",
        "                  acum=acum+(ganancia-costo)\n",
        "                  ret=ganancia-costo\n",
        "                  resu='director: '+str(nombre_director)+'  retorno_total_director: '+str(acum)+'  pelicula: '+str(tit)+'  anio: '+str(fec)+'  retorno_pelicula: '+str(ret)+'  budget_pelicula: '+str(costo)+' revenue_pelicula: '+str(ganancia)\n",
        "                  li.append(resu)\n",
        "  if band==False:\n",
        "      return{' Ingreso incorrecto,Recuerde diferenciar mayuscula y minusculas'}\n",
        "  else:\n",
        "      return{'lista':li}\n",
        "\n"
      ],
      "metadata": {
        "id": "spK7R_P-TnO4"
      },
      "execution_count": 98,
      "outputs": []
    },
    {
      "cell_type": "code",
      "source": [
        "#get_director('Alfred Hitchcock')#Michelle Danner\n",
        "get_director('Michelle Danner')"
      ],
      "metadata": {
        "colab": {
          "base_uri": "https://localhost:8080/"
        },
        "id": "SGU5pBUH-wUn",
        "outputId": "d0b2888d-ce8c-48e1-a3ee-8de76d1351ce"
      },
      "execution_count": 100,
      "outputs": [
        {
          "output_type": "execute_result",
          "data": {
            "text/plain": [
              "{'lista': ['director: Michelle Danner  retorno_total_director: -1500000.0  pelicula: Hello Herman  anio: 2012  retorno_pelicula: -1500000.0  budget_pelicula: 1500000.0 revenue_pelicula: 0.0',\n",
              "  'director: Michelle Danner  retorno_total_director: -4500000.0  pelicula: The Bandit Hound  anio: 2016  retorno_pelicula: -3000000.0  budget_pelicula: 3000000.0 revenue_pelicula: 0.0']}"
            ]
          },
          "metadata": {},
          "execution_count": 100
        }
      ]
    },
    {
      "cell_type": "markdown",
      "source": [
        "##Endpoint : recomendacion(titulo)"
      ],
      "metadata": {
        "id": "LMyNdRwBVgJC"
      }
    },
    {
      "cell_type": "code",
      "source": [
        "\n",
        "def get_recomend(titulo:str):\n",
        "    #sobre un subconjunto de filas calculo el modelo teniendo en cuenta disponibilidad de recursos\n",
        "    movieRatings = dft[0:15000].pivot_table(index=['id'],columns=['title'],values='vote_average')\n",
        "\n",
        "    titu_df = movieRatings[titulo]\n",
        "\n",
        "    # Correlamos el resto de peliculas (columnas) con la seleccionada (Jumanji)\n",
        "    similarMovies = movieRatings.corrwith(titu_df)\n",
        "    similarMovies = similarMovies.dropna()\n",
        "    df = pd.DataFrame(similarMovies)\n",
        "\n",
        "    # Las ordenamos por el valor de score que hemos generado, de forma descendente\n",
        "    similarMovies.sort_values(ascending=False)\n",
        "\n",
        "    # agregamos por titulo y devolvemos el\n",
        "    # numero de veces que se puntuo, y la media de puntuacion\n",
        "    movieStats = df2[0:15000].groupby('title').agg({'vote_average': [np.size, np.mean]})\n",
        "\n",
        "    # nos quedamos con todas las que tengan mas de 3 puntuaciones\n",
        "    # de distintos usuarios\n",
        "    popularMovies = movieStats['vote_average']['size'] >= 3\n",
        "\n",
        "    # ordenamos por la puntuación asignada\n",
        "    movieStats[popularMovies].sort_values([('vote_average', 'mean')], ascending=False)[:15]\n",
        "    # tambien de esta forma se puede dff=pd.merge(peliculasVotadas[peliculasPopulares],dfff ,how='outer',on='title')\n",
        "    # hacemos el join\n",
        "    df = movieStats[popularMovies].join(pd.DataFrame(similarMovies, columns=['similarity']))\n",
        "\n",
        "    # Ordenamos el dataframe por similaridad, y vemos los primeros 5 resultados\n",
        "    df.sort_values(['similarity'], ascending=False)[:5]\n",
        "\n",
        "    dff=df.sort_values(['similarity'], ascending=False)[:5]\n",
        "    li=[]\n",
        "    lista=''\n",
        "    fx=dff.index\n",
        "    i=0\n",
        "    for x in fx:\n",
        "        i=i+1\n",
        "        lista=lista+x+' , '\n",
        "        li.append(x)\n",
        "\n",
        "    dfg=pd.Series(li)\n",
        "\n",
        "\n",
        "    return {'recomendadas por prioridad descendente':dfg}"
      ],
      "metadata": {
        "id": "uS6Y0GwfV0K0"
      },
      "execution_count": 101,
      "outputs": []
    },
    {
      "cell_type": "code",
      "source": [
        "get_recomend('Jumanji')"
      ],
      "metadata": {
        "colab": {
          "base_uri": "https://localhost:8080/"
        },
        "id": "B4nSYDG-WEUf",
        "outputId": "180559b1-9efc-479b-fecd-b7ae3be4740d"
      },
      "execution_count": 102,
      "outputs": [
        {
          "output_type": "stream",
          "name": "stderr",
          "text": [
            "/usr/local/lib/python3.10/dist-packages/numpy/lib/function_base.py:2821: RuntimeWarning: Degrees of freedom <= 0 for slice\n",
            "  c = cov(x, y, rowvar, dtype=dtype)\n",
            "/usr/local/lib/python3.10/dist-packages/numpy/lib/function_base.py:2680: RuntimeWarning: divide by zero encountered in true_divide\n",
            "  c *= np.true_divide(1, fact)\n",
            "<ipython-input-101-b512aefa2282>:27: FutureWarning: merging between different levels is deprecated and will be removed in a future version. (2 levels on the left, 1 on the right)\n",
            "  df = movieStats[popularMovies].join(pd.DataFrame(similarMovies, columns=['similarity']))\n"
          ]
        },
        {
          "output_type": "execute_result",
          "data": {
            "text/plain": [
              "{'recomendadas por prioridad descendente': 0      A Christmas Carol\n",
              " 1         A Star Is Born\n",
              " 2                  Alice\n",
              " 3    Alice in Wonderland\n",
              " 4                 Asylum\n",
              " dtype: object}"
            ]
          },
          "metadata": {},
          "execution_count": 102
        }
      ]
    }
  ]
}